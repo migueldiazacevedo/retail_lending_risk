{
 "cells": [
  {
   "cell_type": "markdown",
   "id": "e9d0f2a7d0bdecf2",
   "metadata": {},
   "source": [
    "# Machine Learning Models\n",
    "\n",
    "This is the notebook where the work that I've done so far culminates into a product. In this notebook I attempt to build a superior model given the lessons learned from exploratory data analysis, the new features I've created, the feature investigation and selection processes, and apply this work to make predictions to whether a loan applicant will default or not.   "
   ]
  },
  {
   "cell_type": "code",
   "id": "initial_id",
   "metadata": {
    "collapsed": true,
    "jupyter": {
     "outputs_hidden": true
    },
    "ExecuteTime": {
     "end_time": "2024-10-01T03:46:24.017547Z",
     "start_time": "2024-10-01T03:46:19.432442Z"
    }
   },
   "source": [
    "from typing import Optional\n",
    "\n",
    "import lightgbm as lgb\n",
    "import numpy as np\n",
    "import optuna\n",
    "import pandas as pd\n",
    "import phik\n",
    "import shap\n",
    "from optuna import Trial, TrialPruned, create_study\n",
    "from optuna.pruners import SuccessiveHalvingPruner\n",
    "from optuna.samplers import RandomSampler\n",
    "from sklearn.compose import ColumnTransformer\n",
    "from sklearn.ensemble import RandomForestClassifier, VotingClassifier\n",
    "from sklearn.feature_selection import SelectPercentile, mutual_info_classif\n",
    "from sklearn.impute import SimpleImputer\n",
    "from sklearn.linear_model import LogisticRegression\n",
    "from sklearn.metrics import make_scorer, roc_auc_score\n",
    "from sklearn.model_selection import KFold, cross_val_score, train_test_split\n",
    "from sklearn.pipeline import Pipeline\n",
    "from sklearn.preprocessing import OneHotEncoder, StandardScaler, TargetEncoder\n",
    "from utils.feature_tools import (\n",
    "    correlation_threshold,\n",
    "    drop_least_target_correlated_features,\n",
    "    get_columns_by_cardinality,\n",
    ")\n",
    "from utils.machine_learning import (\n",
    "    concatenate_model_scores,\n",
    "    general_preprocessing,\n",
    "    model_assessment,\n",
    ")\n",
    "from utils.plot import conf_mat_plot, plot_pr_curve, plot_roc_curve\n",
    "from utils.utils import reduce_mem_usage"
   ],
   "outputs": [],
   "execution_count": 1
  },
  {
   "cell_type": "code",
   "id": "b1e73de8269c2155",
   "metadata": {
    "ExecuteTime": {
     "end_time": "2024-10-01T03:46:24.026228Z",
     "start_time": "2024-10-01T03:46:24.020027Z"
    }
   },
   "source": [
    "optuna.logging.set_verbosity(optuna.logging.WARNING)\n",
    "pd.set_option(\"display.float_format\", lambda x: f\"{x:.5f}\")"
   ],
   "outputs": [],
   "execution_count": 2
  },
  {
   "cell_type": "markdown",
   "id": "fc590368a50047f",
   "metadata": {},
   "source": [
    "__Import Data__"
   ]
  },
  {
   "cell_type": "code",
   "id": "86ab6be59a669f3a",
   "metadata": {
    "ExecuteTime": {
     "end_time": "2024-10-01T03:46:24.057595Z",
     "start_time": "2024-10-01T03:46:24.027813Z"
    }
   },
   "source": [
    "%store -r y_train\n",
    "y_train = y_train.copy()\n",
    "%store -r y_val\n",
    "y_val = y_val.copy()\n",
    "%store -r y_test\n",
    "y_test = y_test.copy()"
   ],
   "outputs": [],
   "execution_count": 3
  },
  {
   "cell_type": "code",
   "id": "f2b14b5cc7354f93",
   "metadata": {
    "ExecuteTime": {
     "end_time": "2024-10-01T03:46:24.356926Z",
     "start_time": "2024-10-01T03:46:24.060767Z"
    }
   },
   "source": [
    "X_train = pd.read_pickle(\"../data/merged_data/X_train_full.pkl\")"
   ],
   "outputs": [],
   "execution_count": 4
  },
  {
   "cell_type": "code",
   "id": "e2badebedb0f5790",
   "metadata": {
    "ExecuteTime": {
     "end_time": "2024-10-01T03:46:24.447722Z",
     "start_time": "2024-10-01T03:46:24.358579Z"
    }
   },
   "source": [
    "X_val = pd.read_pickle(\"../data/merged_data/X_val_full.pkl\")"
   ],
   "outputs": [],
   "execution_count": 5
  },
  {
   "cell_type": "code",
   "id": "4a90a8bfb84e975",
   "metadata": {
    "ExecuteTime": {
     "end_time": "2024-10-01T03:46:24.588324Z",
     "start_time": "2024-10-01T03:46:24.449949Z"
    }
   },
   "source": [
    "X_test = pd.read_pickle(\"../data/merged_data/X_test_full.pkl\")"
   ],
   "outputs": [],
   "execution_count": 6
  },
  {
   "cell_type": "code",
   "id": "fd7bb483933d024e",
   "metadata": {
    "ExecuteTime": {
     "end_time": "2024-10-01T03:46:24.673401Z",
     "start_time": "2024-10-01T03:46:24.589430Z"
    }
   },
   "source": [
    "kaggle_X_test = pd.read_pickle(\"../data/merged_data/kaggle_X_test_full.pkl\")"
   ],
   "outputs": [],
   "execution_count": 7
  },
  {
   "cell_type": "markdown",
   "id": "4cef5d2a42900944",
   "metadata": {},
   "source": [
    "__Pre-process Data__"
   ]
  },
  {
   "cell_type": "code",
   "id": "bf37219b21713c1e",
   "metadata": {
    "ExecuteTime": {
     "end_time": "2024-10-01T03:46:31.308395Z",
     "start_time": "2024-10-01T03:46:24.674876Z"
    }
   },
   "source": [
    "X_train = general_preprocessing(X_train)\n",
    "X_val = general_preprocessing(X_val)\n",
    "X_test = general_preprocessing(X_test)\n",
    "kaggle_X_test = general_preprocessing(kaggle_X_test)"
   ],
   "outputs": [],
   "execution_count": 8
  },
  {
   "cell_type": "markdown",
   "id": "8013381d63e5895b",
   "metadata": {},
   "source": [
    "# General Pipeline Instantiation\n",
    "\n",
    "In this notebook you will see me write a series of functions that are designed into interact with [Optuna](www.optuna.org), a hyperparameter optimization framework. Throughout this notebook I was inspired by the blog of [Walter Sperat](https://medium.com/@walter_sperat/using-optuna-with-sklearn-the-right-way-part-1-6b4ad0ab2451) to attempt to adopt his workflow and see how it would work for me. In general, this was an experiment for me to see if I could use this framework to write clean code and set myself up for efficient hyperparameter tuning later in the notebook. It also allowed me to approach each model in a modular fashion where I don't need to \"rebuild the wheel\" each time I instantiate a new model, but rather just change one line in my pipeline. "
   ]
  },
  {
   "cell_type": "code",
   "id": "1e45f7f54589658c",
   "metadata": {
    "ExecuteTime": {
     "end_time": "2024-10-01T03:46:31.317909Z",
     "start_time": "2024-10-01T03:46:31.310923Z"
    }
   },
   "source": [
    "def instantiate_numerical_simple_imputer(\n",
    "    trial: Optional[Trial] = None, fill_value: int = 0\n",
    ") -> SimpleImputer:\n",
    "    strategy = (\n",
    "        trial.suggest_categorical(\"numerical_strategy\", [\"constant\"])\n",
    "        if trial\n",
    "        else \"constant\"\n",
    "    )\n",
    "    return SimpleImputer(strategy=strategy, fill_value=fill_value)"
   ],
   "outputs": [],
   "execution_count": 9
  },
  {
   "cell_type": "code",
   "id": "e922f19f8a2808a0",
   "metadata": {
    "ExecuteTime": {
     "end_time": "2024-10-01T03:46:31.328227Z",
     "start_time": "2024-10-01T03:46:31.324299Z"
    }
   },
   "source": [
    "def instantiate_categorical_simple_imputer(\n",
    "    trial: Optional[Trial] = None, fill_value: str = \"unknown\"\n",
    ") -> SimpleImputer:\n",
    "    strategy = (\n",
    "        trial.suggest_categorical(\"categorical_strategy\", [\"constant\"])\n",
    "        if trial\n",
    "        else \"constant\"\n",
    "    )\n",
    "    return SimpleImputer(strategy=strategy, fill_value=fill_value)"
   ],
   "outputs": [],
   "execution_count": 10
  },
  {
   "cell_type": "code",
   "id": "ad37099ae1867eb1",
   "metadata": {
    "ExecuteTime": {
     "end_time": "2024-10-01T03:46:31.334105Z",
     "start_time": "2024-10-01T03:46:31.329874Z"
    }
   },
   "source": [
    "def instantiate_oh_encoder(trial: Optional[Trial] = None) -> OneHotEncoder:\n",
    "    drop = (\n",
    "        trial.suggest_categorical(\"drop\", [None, \"first\", \"if_binary\"])\n",
    "        if trial\n",
    "        else \"if_binary\"\n",
    "    )\n",
    "    return OneHotEncoder(sparse_output=False, drop=drop, handle_unknown=\"ignore\")"
   ],
   "outputs": [],
   "execution_count": 11
  },
  {
   "cell_type": "code",
   "id": "c04689e8515f29d7",
   "metadata": {
    "ExecuteTime": {
     "end_time": "2024-10-01T03:46:31.340428Z",
     "start_time": "2024-10-01T03:46:31.336044Z"
    }
   },
   "source": [
    "def instantiate_target_encoder(trial: Optional[Trial] = None) -> TargetEncoder:\n",
    "    smooth = trial.suggest_float(\"smooth\", 0, 20) if trial else \"auto\"\n",
    "    return TargetEncoder(target_type=\"binary\", smooth=smooth)"
   ],
   "outputs": [],
   "execution_count": 12
  },
  {
   "cell_type": "code",
   "id": "2e4bdf6686d86ce6",
   "metadata": {
    "ExecuteTime": {
     "end_time": "2024-10-01T03:46:31.346933Z",
     "start_time": "2024-10-01T03:46:31.342459Z"
    }
   },
   "source": [
    "def instantiate_standard_scaler(trial: Optional[Trial] = None) -> StandardScaler:\n",
    "    params = {\n",
    "        \"with_mean\": (\n",
    "            trial.suggest_categorical(\"with_mean\", [True, False]) if trial else True\n",
    "        ),\n",
    "        \"with_std\": (\n",
    "            trial.suggest_categorical(\"with_std\", [True, False]) if trial else True\n",
    "        ),\n",
    "    }\n",
    "    return StandardScaler(**params)"
   ],
   "outputs": [],
   "execution_count": 13
  },
  {
   "cell_type": "code",
   "id": "593b8830b762269",
   "metadata": {
    "ExecuteTime": {
     "end_time": "2024-10-01T03:46:31.353928Z",
     "start_time": "2024-10-01T03:46:31.349538Z"
    }
   },
   "source": [
    "def instantiate_feature_selector(trial: Optional[Trial] = None):\n",
    "    percentile = trial.suggest_int(\"percentile\", 1, 100) if trial else 100\n",
    "    return SelectPercentile(score_func=mutual_info_classif, percentile=percentile)"
   ],
   "outputs": [],
   "execution_count": 14
  },
  {
   "cell_type": "code",
   "id": "a88f197be9cdff9f",
   "metadata": {
    "ExecuteTime": {
     "end_time": "2024-10-01T03:46:31.367967Z",
     "start_time": "2024-10-01T03:46:31.357309Z"
    }
   },
   "source": [
    "def instantiate_lgbm(\n",
    "    trial: Optional[Trial] = None, scale_pos_weight: float = 10.0\n",
    ") -> lgb.LGBMClassifier:\n",
    "\n",
    "    if trial:\n",
    "        params = {\n",
    "            \"objective\": \"binary\",\n",
    "            \"metric\": [\"auc\", \"binary_logloss\"],\n",
    "            \"boosting_type\": \"gbdt\",\n",
    "            \"learning_rate\": trial.suggest_float(\"learning_rate\", 1e-3, 1e-1, log=True),\n",
    "            \"num_leaves\": trial.suggest_int(\"num_leaves\", 20, 300),\n",
    "            \"max_depth\": trial.suggest_int(\"max_depth\", 3, 12),\n",
    "            \"feature_fraction\": trial.suggest_float(\"feature_fraction\", 0.6, 1.0),\n",
    "            \"bagging_fraction\": trial.suggest_float(\"bagging_fraction\", 0.6, 1.0),\n",
    "            \"bagging_freq\": trial.suggest_int(\"bagging_freq\", 1, 7),\n",
    "            \"min_child_samples\": trial.suggest_int(\"min_child_samples\", 5, 100),\n",
    "            \"lambda_l1\": trial.suggest_float(\"lambda_l1\", 1e-8, 10.0, log=True),\n",
    "            \"lambda_l2\": trial.suggest_float(\"lambda_l2\", 1e-8, 10.0, log=True),\n",
    "            \"min_split_gain\": trial.suggest_float(\n",
    "                \"min_split_gain\", 1e-8, 1.0, log=True\n",
    "            ),\n",
    "            \"n_estimators\": trial.suggest_int(\"n_estimators\", 50, 500),\n",
    "            \"verbosity\": -1,\n",
    "        }\n",
    "    else:\n",
    "        params = {\n",
    "            \"objective\": \"binary\",\n",
    "            \"metric\": [\"auc\", \"binary_logloss\"],\n",
    "            \"boosting_type\": \"gbdt\",\n",
    "            \"learning_rate\": 0.05,\n",
    "            \"num_leaves\": 31,\n",
    "            \"max_depth\": -1,\n",
    "            \"min_child_samples\": 20,\n",
    "            \"lambda_l1\": 0.0,\n",
    "            \"lambda_l2\": 0.0,\n",
    "            \"min_split_gain\": 0.0,\n",
    "            \"n_estimators\": 100,\n",
    "            \"verbosity\": -1,\n",
    "        }\n",
    "    return lgb.LGBMClassifier(scale_pos_weight=scale_pos_weight, **params)"
   ],
   "outputs": [],
   "execution_count": 15
  },
  {
   "cell_type": "code",
   "id": "bc8a43efe219f00c",
   "metadata": {
    "ExecuteTime": {
     "end_time": "2024-10-01T03:46:31.376825Z",
     "start_time": "2024-10-01T03:46:31.369862Z"
    }
   },
   "source": [
    "def instantiate_logistic_regression(\n",
    "    trial: Optional[Trial] = None,\n",
    ") -> LogisticRegression:\n",
    "    if trial:\n",
    "        params = {\n",
    "            \"penalty\": trial.suggest_categorical(\"penalty\", [\"elasticnet\"]),\n",
    "            \"tol\": trial.suggest_float(\"tol\", 1e-8, 1.0, log=True),\n",
    "            \"C\": trial.suggest_float(\"C\", 1e-4, 1.0, log=True),\n",
    "            \"solver\": trial.suggest_categorical(\"solver\", [\"saga\"]),\n",
    "            \"max_iter\": trial.suggest_int(\"max_iter\", 50, 1000, 50),\n",
    "            \"l1_ratio\": trial.suggest_float(\"l1_ratio\", 0, 1.0),\n",
    "        }\n",
    "    else:\n",
    "        params = {\n",
    "            \"penalty\": \"elasticnet\",\n",
    "            \"tol\": 1e-4,\n",
    "            \"C\": 1,\n",
    "            \"solver\": \"saga\",\n",
    "            \"max_iter\": 500,\n",
    "            \"l1_ratio\": 0.9,\n",
    "        }\n",
    "    return LogisticRegression(\n",
    "        class_weight=\"balanced\", n_jobs=-1, random_state=42, **params\n",
    "    )"
   ],
   "outputs": [],
   "execution_count": 16
  },
  {
   "cell_type": "code",
   "id": "49db2219b2d08609",
   "metadata": {
    "ExecuteTime": {
     "end_time": "2024-10-01T03:46:31.388409Z",
     "start_time": "2024-10-01T03:46:31.379407Z"
    }
   },
   "source": [
    "def instantiate_random_forest(trial: Optional[Trial] = None) -> RandomForestClassifier:\n",
    "    if trial:\n",
    "        params = {\n",
    "            \"n_estimators\": trial.suggest_int(\"n_estimators\", 10, 200),\n",
    "            \"criterion\": trial.suggest_categorical(\"criterion\", [\"gini\", \"entropy\"]),\n",
    "            \"max_depth\": trial.suggest_int(\"max_depth\", 2, 30),\n",
    "            \"min_samples_split\": trial.suggest_float(\"min_samples_split\", 0.0, 1.0),\n",
    "            \"min_samples_leaf\": trial.suggest_float(\"min_samples_leaf\", 0.0, 1.0),\n",
    "            \"max_features\": trial.suggest_categorical(\"max_features\", [\"sqrt\", \"log2\"]),\n",
    "            \"random_state\": 42,\n",
    "        }\n",
    "    else:\n",
    "        params = {\n",
    "            \"n_estimators\": 100,\n",
    "            \"criterion\": \"gini\",\n",
    "            \"max_depth\": 15,\n",
    "            \"min_samples_split\": 0.15,\n",
    "            \"min_samples_leaf\": 0.15,\n",
    "            \"max_features\": \"sqrt\",\n",
    "        }\n",
    "    return RandomForestClassifier(n_jobs=-1, class_weight=\"balanced\", **params)"
   ],
   "outputs": [],
   "execution_count": 17
  },
  {
   "cell_type": "code",
   "id": "79ca8a63c39604d2",
   "metadata": {
    "ExecuteTime": {
     "end_time": "2024-10-01T03:46:31.396700Z",
     "start_time": "2024-10-01T03:46:31.390119Z"
    }
   },
   "source": [
    "def instantiate_column_imputer(\n",
    "    trial: Optional[Trial] = None, X: pd.DataFrame = X_train\n",
    ") -> ColumnTransformer:\n",
    "    numerical_columns = list(X.select_dtypes([\"number\"]).columns)\n",
    "    categorical_columns = list(X.select_dtypes([\"category\", \"bool\"]).columns)\n",
    "    X[categorical_columns] = X[categorical_columns].astype(\"object\")\n",
    "\n",
    "    categorical_simple_imputer = instantiate_categorical_simple_imputer(trial)\n",
    "    numerical_simple_imputer = instantiate_numerical_simple_imputer(trial)\n",
    "    column_imputer = ColumnTransformer(\n",
    "        [\n",
    "            (\"categorical_imputation\", categorical_simple_imputer, categorical_columns),\n",
    "            (\"numerical_imputation\", numerical_simple_imputer, numerical_columns),\n",
    "        ],\n",
    "        remainder=\"passthrough\",\n",
    "        verbose_feature_names_out=False,\n",
    "    )\n",
    "    return column_imputer"
   ],
   "outputs": [],
   "execution_count": 18
  },
  {
   "cell_type": "code",
   "id": "f8a8b09f694f9d22",
   "metadata": {
    "ExecuteTime": {
     "end_time": "2024-10-01T03:46:31.406696Z",
     "start_time": "2024-10-01T03:46:31.400963Z"
    }
   },
   "source": [
    "def instantiate_categorical_encoder(\n",
    "    trial: Optional[Trial] = None, X: pd.DataFrame = X_train\n",
    "):\n",
    "    more_than_3, less_or_equal_3 = get_columns_by_cardinality(\n",
    "        X, datatype=\"object\", threshold=3\n",
    "    )\n",
    "    one_hot_encoder = instantiate_oh_encoder(trial)\n",
    "    target_encoder = instantiate_target_encoder(trial)\n",
    "    categorical_encoder = ColumnTransformer(\n",
    "        [\n",
    "            (\"ohe\", one_hot_encoder, less_or_equal_3),\n",
    "            (\"target_enc\", target_encoder, more_than_3),\n",
    "        ],\n",
    "        remainder=\"passthrough\",\n",
    "        verbose_feature_names_out=False,\n",
    "    )\n",
    "    return categorical_encoder"
   ],
   "outputs": [],
   "execution_count": 19
  },
  {
   "cell_type": "code",
   "id": "740951e37d8e3094",
   "metadata": {
    "ExecuteTime": {
     "end_time": "2024-10-01T03:46:31.413732Z",
     "start_time": "2024-10-01T03:46:31.408449Z"
    }
   },
   "source": [
    "def instantiate_numerical_scaler(\n",
    "    trial: Optional[Trial] = None, X: pd.DataFrame = X_train\n",
    "):\n",
    "    numerical_columns = list(X.select_dtypes([\"number\"]).columns)\n",
    "\n",
    "    standard_scaler = instantiate_standard_scaler(trial)\n",
    "    numerical_scaler = ColumnTransformer(\n",
    "        [(\"robust_scaler\", standard_scaler, numerical_columns)],\n",
    "        remainder=\"passthrough\",\n",
    "        verbose_feature_names_out=False,\n",
    "    )\n",
    "    return numerical_scaler"
   ],
   "outputs": [],
   "execution_count": 20
  },
  {
   "cell_type": "code",
   "id": "5c5959e6e2a03361",
   "metadata": {
    "ExecuteTime": {
     "end_time": "2024-10-01T03:46:31.423424Z",
     "start_time": "2024-10-01T03:46:31.416249Z"
    }
   },
   "source": [
    "def instantiate_lgbm_model(\n",
    "    trial: Optional[Trial] = None, X: pd.DataFrame = X_train, y: pd.Series = y_train\n",
    ") -> Pipeline:\n",
    "\n",
    "    num_neg = (y == 0).sum()\n",
    "    num_pos = (y == 1).sum()\n",
    "    scale_pos_weight = num_neg / num_pos\n",
    "\n",
    "    categorical_columns = list(X_val.select_dtypes([\"category\", \"bool\"]).columns)\n",
    "    X_val[categorical_columns] = X_val[categorical_columns].astype(\"object\")\n",
    "\n",
    "    imputer = instantiate_column_imputer(trial, X)\n",
    "    encoder = instantiate_categorical_encoder(trial, X)\n",
    "    scaler = instantiate_numerical_scaler(trial, X)\n",
    "    feature_selector = instantiate_feature_selector(trial)\n",
    "    lgbm = instantiate_lgbm(trial, scale_pos_weight)\n",
    "    lgbm_model = Pipeline(\n",
    "        [\n",
    "            (\"imputer\", imputer),\n",
    "            (\"encoder\", encoder),\n",
    "            (\"scaler\", scaler),\n",
    "            (\"feature_selector\", feature_selector),\n",
    "            (\"model\", lgbm),\n",
    "        ]\n",
    "    )\n",
    "    return lgbm_model"
   ],
   "outputs": [],
   "execution_count": 21
  },
  {
   "cell_type": "code",
   "id": "e86fb8b6d56a2cf3",
   "metadata": {
    "ExecuteTime": {
     "end_time": "2024-10-01T03:46:31.431477Z",
     "start_time": "2024-10-01T03:46:31.425655Z"
    }
   },
   "source": [
    "def instantiate_logistic_regression_model(\n",
    "    trial: Optional[Trial] = None, X: pd.DataFrame = X_train\n",
    ") -> Pipeline:\n",
    "    categorical_columns = list(X.select_dtypes([\"category\", \"bool\"]).columns)\n",
    "    X[categorical_columns] = X[categorical_columns].astype(\"object\")\n",
    "\n",
    "    imputer = instantiate_column_imputer(trial, X)\n",
    "    encoder = instantiate_categorical_encoder(trial, X)\n",
    "    scaler = instantiate_numerical_scaler(trial, X)\n",
    "    feature_selector = instantiate_feature_selector(trial)\n",
    "    logistic_regression = instantiate_logistic_regression(trial)\n",
    "    logistic_regression_model = Pipeline(\n",
    "        [\n",
    "            (\"imputer\", imputer),\n",
    "            (\"encoder\", encoder),\n",
    "            (\"scaler\", scaler),\n",
    "            (\"feature_selector\", feature_selector),\n",
    "            (\"model\", logistic_regression),\n",
    "        ]\n",
    "    )\n",
    "    return logistic_regression_model"
   ],
   "outputs": [],
   "execution_count": 22
  },
  {
   "cell_type": "code",
   "id": "10f9227a32145131",
   "metadata": {
    "ExecuteTime": {
     "end_time": "2024-10-01T03:46:31.439765Z",
     "start_time": "2024-10-01T03:46:31.434673Z"
    }
   },
   "source": [
    "def instantiate_random_forest_model(\n",
    "    trial: Optional[Trial] = None, X: pd.DataFrame = X_train\n",
    ") -> Pipeline:\n",
    "    categorical_columns = list(X_val.select_dtypes([\"category\", \"bool\"]).columns)\n",
    "    X_val[categorical_columns] = X_val[categorical_columns].astype(\"object\")\n",
    "\n",
    "    imputer = instantiate_column_imputer(trial, X)\n",
    "    encoder = instantiate_categorical_encoder(trial, X)\n",
    "    scaler = instantiate_numerical_scaler(trial, X)\n",
    "    feature_selector = instantiate_feature_selector(trial)\n",
    "    random_forest = instantiate_random_forest(trial)\n",
    "    random_forest_model = Pipeline(\n",
    "        [\n",
    "            (\"imputer\", imputer),\n",
    "            (\"encoder\", encoder),\n",
    "            (\"scaler\", scaler),\n",
    "            (\"feature_selector\", feature_selector),\n",
    "            (\"model\", random_forest),\n",
    "        ]\n",
    "    )\n",
    "    return random_forest_model"
   ],
   "outputs": [],
   "execution_count": 23
  },
  {
   "cell_type": "markdown",
   "id": "d206f766a1bd3102",
   "metadata": {},
   "source": [
    "### Models Version 1: Base Models \"Out of the Box\" on Full Dataset with minimal processing"
   ]
  },
  {
   "cell_type": "markdown",
   "id": "914c54d6ae5fa13d",
   "metadata": {},
   "source": [
    "#### Light GBM"
   ]
  },
  {
   "cell_type": "code",
   "id": "95edef9d8ed94869",
   "metadata": {
    "ExecuteTime": {
     "end_time": "2024-10-01T03:50:53.709354Z",
     "start_time": "2024-10-01T03:46:31.442271Z"
    }
   },
   "source": [
    "lgbm_modelv1 = instantiate_lgbm_model(X=X_train, y=y_train)\n",
    "lgbm_modelv1.fit(X_train, y_train)\n",
    "lgbm_model_train_predv1 = lgbm_modelv1.predict(X_train)\n",
    "lgbm_model_train_perfomance_v1 = model_assessment(y_train, lgbm_model_train_predv1)"
   ],
   "outputs": [
    {
     "name": "stdout",
     "output_type": "stream",
     "text": [
      "AUC-ROC: 0.734567192339211\n",
      "Accuracy: 0.7206233549790149\n",
      "F1-Score: 0.30271517887715116\n",
      "Precision: 0.1895497498610339\n",
      "Recall: 0.7511958710976838\n"
     ]
    }
   ],
   "execution_count": 24
  },
  {
   "cell_type": "code",
   "id": "dea6a630101f5e86",
   "metadata": {
    "ExecuteTime": {
     "end_time": "2024-10-01T03:50:55.363607Z",
     "start_time": "2024-10-01T03:50:53.711367Z"
    }
   },
   "source": [
    "lgbm_model_val_predv1 = lgbm_modelv1.predict(X_val)\n",
    "lgbm_model_val_perfomance_v1 = model_assessment(y_val, lgbm_model_val_predv1)"
   ],
   "outputs": [
    {
     "name": "stdout",
     "output_type": "stream",
     "text": [
      "AUC-ROC: 0.7011998203653743\n",
      "Accuracy: 0.7136905003861632\n",
      "F1-Score: 0.27903168022928504\n",
      "Precision: 0.17511402325432004\n",
      "Recall: 0.6863041289023162\n"
     ]
    }
   ],
   "execution_count": 25
  },
  {
   "cell_type": "markdown",
   "id": "a834746a337faa7c",
   "metadata": {},
   "source": [
    "#### Logistic Regression"
   ]
  },
  {
   "cell_type": "code",
   "id": "1a9d515e3489e3f6",
   "metadata": {
    "ExecuteTime": {
     "end_time": "2024-10-01T04:01:27.796627Z",
     "start_time": "2024-10-01T03:50:55.365098Z"
    }
   },
   "source": [
    "logistic_regression_modelv1 = instantiate_logistic_regression_model(X=X_train)\n",
    "logistic_regression_modelv1.fit(X_train, y_train)\n",
    "logistic_regression_model_train_predv1 = logistic_regression_modelv1.predict(X_train)\n",
    "logistic_regression_model_train_perfomance_v1 = model_assessment(\n",
    "    y_train, logistic_regression_model_train_predv1\n",
    ")"
   ],
   "outputs": [
    {
     "name": "stderr",
     "output_type": "stream",
     "text": [
      "/Users/migueldiaz/home-credit/lib/python3.11/site-packages/sklearn/linear_model/_sag.py:349: ConvergenceWarning: The max_iter was reached which means the coef_ did not converge\n",
      "  warnings.warn(\n"
     ]
    },
    {
     "name": "stdout",
     "output_type": "stream",
     "text": [
      "AUC-ROC: 0.7051817766149937\n",
      "Accuracy: 0.7029612918305336\n",
      "F1-Score: 0.27784709268569874\n",
      "Precision: 0.17284785515577208\n",
      "Recall: 0.7078298086606244\n"
     ]
    }
   ],
   "execution_count": 26
  },
  {
   "cell_type": "code",
   "id": "b8186c9839f84c85",
   "metadata": {
    "ExecuteTime": {
     "end_time": "2024-10-01T04:01:29.166298Z",
     "start_time": "2024-10-01T04:01:27.800159Z"
    }
   },
   "source": [
    "categorical_columns = list(X_val.select_dtypes([\"category\", \"bool\"]).columns)\n",
    "X_val[categorical_columns] = X_val[categorical_columns].astype(\"object\")\n",
    "logistic_regression_model_val_predv1 = logistic_regression_modelv1.predict(X_val)\n",
    "logistic_regression_val_perfomance_v1 = model_assessment(\n",
    "    y_val, logistic_regression_model_val_predv1\n",
    ")"
   ],
   "outputs": [
    {
     "name": "stdout",
     "output_type": "stream",
     "text": [
      "AUC-ROC: 0.6932861502994988\n",
      "Accuracy: 0.6385512784033169\n",
      "F1-Score: 0.2530869382612348\n",
      "Precision: 0.15188022986188124\n",
      "Recall: 0.7585599194360524\n"
     ]
    }
   ],
   "execution_count": 27
  },
  {
   "cell_type": "markdown",
   "id": "1484585d81b6d643",
   "metadata": {},
   "source": [
    "#### Random Forest"
   ]
  },
  {
   "cell_type": "code",
   "id": "563e4b08defaebf0",
   "metadata": {
    "ExecuteTime": {
     "end_time": "2024-10-01T04:06:01.225820Z",
     "start_time": "2024-10-01T04:01:29.176371Z"
    }
   },
   "source": [
    "random_forest_modelv1 = instantiate_random_forest_model(X=X_train)\n",
    "random_forest_modelv1.fit(X_train, y_train)\n",
    "random_forest_model_train_predv1 = random_forest_modelv1.predict(X_train)\n",
    "random_forest_model_train_perfomance_v1 = model_assessment(\n",
    "    y_train, random_forest_model_train_predv1\n",
    ")"
   ],
   "outputs": [
    {
     "name": "stdout",
     "output_type": "stream",
     "text": [
      "AUC-ROC: 0.6613143895972768\n",
      "Accuracy: 0.6509151143765942\n",
      "F1-Score: 0.23757629563866386\n",
      "Precision: 0.14421600064670853\n",
      "Recall: 0.6737160120845922\n"
     ]
    }
   ],
   "execution_count": 28
  },
  {
   "cell_type": "code",
   "id": "e6c2e696e69816b5",
   "metadata": {
    "ExecuteTime": {
     "end_time": "2024-10-01T04:06:02.491015Z",
     "start_time": "2024-10-01T04:06:01.227323Z"
    }
   },
   "source": [
    "random_forest_model_val_predv1 = random_forest_modelv1.predict(X_val)\n",
    "random_forest_val_perfomance_v1 = model_assessment(\n",
    "    y_val, random_forest_model_val_predv1\n",
    ")"
   ],
   "outputs": [
    {
     "name": "stdout",
     "output_type": "stream",
     "text": [
      "AUC-ROC: 0.6583579863377046\n",
      "Accuracy: 0.6733466119263445\n",
      "F1-Score: 0.24045368620037808\n",
      "Precision: 0.14801023970211777\n",
      "Recall: 0.6404833836858006\n"
     ]
    }
   ],
   "execution_count": 29
  },
  {
   "cell_type": "code",
   "id": "c9ad385abd939ef0",
   "metadata": {
    "ExecuteTime": {
     "end_time": "2024-10-01T04:06:02.513746Z",
     "start_time": "2024-10-01T04:06:02.492272Z"
    }
   },
   "source": [
    "v1_model_performance = concatenate_model_scores(\n",
    "    [\n",
    "        lgbm_model_train_perfomance_v1,\n",
    "        logistic_regression_model_train_perfomance_v1,\n",
    "        random_forest_model_train_perfomance_v1,\n",
    "        lgbm_model_val_perfomance_v1,\n",
    "        logistic_regression_val_perfomance_v1,\n",
    "        random_forest_val_perfomance_v1,\n",
    "    ],\n",
    "    [\n",
    "        \"lgbm v1 train\",\n",
    "        \"log reg v1 train\",\n",
    "        \"rf v1 train\",\n",
    "        \"lgbm v1 val\",\n",
    "        \"log reg v1 val\",\n",
    "        \"rf v1 val\",\n",
    "    ],\n",
    ")\n",
    "v1_model_performance"
   ],
   "outputs": [
    {
     "data": {
      "text/plain": [
       "           lgbm v1 train  log reg v1 train  rf v1 train  lgbm v1 val  \\\n",
       "auc              0.73457           0.70518      0.66131      0.70120   \n",
       "accuracy         0.72062           0.70296      0.65092      0.71369   \n",
       "f1               0.30272           0.27785      0.23758      0.27903   \n",
       "precision        0.18955           0.17285      0.14422      0.17511   \n",
       "recall           0.75120           0.70783      0.67372      0.68630   \n",
       "\n",
       "           log reg v1 val  rf v1 val  \n",
       "auc               0.69329    0.65836  \n",
       "accuracy          0.63855    0.67335  \n",
       "f1                0.25309    0.24045  \n",
       "precision         0.15188    0.14801  \n",
       "recall            0.75856    0.64048  "
      ],
      "text/html": [
       "<div>\n",
       "<style scoped>\n",
       "    .dataframe tbody tr th:only-of-type {\n",
       "        vertical-align: middle;\n",
       "    }\n",
       "\n",
       "    .dataframe tbody tr th {\n",
       "        vertical-align: top;\n",
       "    }\n",
       "\n",
       "    .dataframe thead th {\n",
       "        text-align: right;\n",
       "    }\n",
       "</style>\n",
       "<table border=\"1\" class=\"dataframe\">\n",
       "  <thead>\n",
       "    <tr style=\"text-align: right;\">\n",
       "      <th></th>\n",
       "      <th>lgbm v1 train</th>\n",
       "      <th>log reg v1 train</th>\n",
       "      <th>rf v1 train</th>\n",
       "      <th>lgbm v1 val</th>\n",
       "      <th>log reg v1 val</th>\n",
       "      <th>rf v1 val</th>\n",
       "    </tr>\n",
       "  </thead>\n",
       "  <tbody>\n",
       "    <tr>\n",
       "      <th>auc</th>\n",
       "      <td>0.73457</td>\n",
       "      <td>0.70518</td>\n",
       "      <td>0.66131</td>\n",
       "      <td>0.70120</td>\n",
       "      <td>0.69329</td>\n",
       "      <td>0.65836</td>\n",
       "    </tr>\n",
       "    <tr>\n",
       "      <th>accuracy</th>\n",
       "      <td>0.72062</td>\n",
       "      <td>0.70296</td>\n",
       "      <td>0.65092</td>\n",
       "      <td>0.71369</td>\n",
       "      <td>0.63855</td>\n",
       "      <td>0.67335</td>\n",
       "    </tr>\n",
       "    <tr>\n",
       "      <th>f1</th>\n",
       "      <td>0.30272</td>\n",
       "      <td>0.27785</td>\n",
       "      <td>0.23758</td>\n",
       "      <td>0.27903</td>\n",
       "      <td>0.25309</td>\n",
       "      <td>0.24045</td>\n",
       "    </tr>\n",
       "    <tr>\n",
       "      <th>precision</th>\n",
       "      <td>0.18955</td>\n",
       "      <td>0.17285</td>\n",
       "      <td>0.14422</td>\n",
       "      <td>0.17511</td>\n",
       "      <td>0.15188</td>\n",
       "      <td>0.14801</td>\n",
       "    </tr>\n",
       "    <tr>\n",
       "      <th>recall</th>\n",
       "      <td>0.75120</td>\n",
       "      <td>0.70783</td>\n",
       "      <td>0.67372</td>\n",
       "      <td>0.68630</td>\n",
       "      <td>0.75856</td>\n",
       "      <td>0.64048</td>\n",
       "    </tr>\n",
       "  </tbody>\n",
       "</table>\n",
       "</div>"
      ]
     },
     "execution_count": 30,
     "metadata": {},
     "output_type": "execute_result"
    }
   ],
   "execution_count": 30
  },
  {
   "cell_type": "markdown",
   "id": "cc17f301c490fd29",
   "metadata": {},
   "source": [
    "see the previous models here:"
   ]
  },
  {
   "cell_type": "code",
   "id": "cf5f7add88d06d80",
   "metadata": {
    "ExecuteTime": {
     "end_time": "2024-10-01T04:06:02.525133Z",
     "start_time": "2024-10-01T04:06:02.515097Z"
    }
   },
   "source": [
    "preliminary_model_performance = pd.read_pickle(\n",
    "    \"../data/model_performance/preliminary_model_performance.pkl\"\n",
    ")\n",
    "preliminary_model_performance"
   ],
   "outputs": [
    {
     "data": {
      "text/plain": [
       "           LGBM-train  LGBM-train-boruta  baselineLGBM-val  LGBM-val  \\\n",
       "auc           0.76278            0.75564           0.70247   0.70852   \n",
       "accuracy      0.74251            0.73736           0.70969   0.72503   \n",
       "f1            0.33041            0.32338           0.27844   0.28798   \n",
       "precision     0.20910            0.20415           0.17417   0.18205   \n",
       "recall        0.78695            0.77744           0.69386   0.68882   \n",
       "\n",
       "           LGBM-val-boruta  Logreg-train  Logreg-train-boruta  Logreg-val  \\\n",
       "auc                0.70573       0.70375              0.70244     0.69584   \n",
       "accuracy           0.72034       0.70150              0.70009     0.69814   \n",
       "f1                 0.28438       0.27647              0.27519     0.27046   \n",
       "precision          0.17921       0.17187              0.17095     0.16801   \n",
       "recall             0.68832       0.70645              0.70525     0.69310   \n",
       "\n",
       "           Logreg-val-boruta  RF-train  RF-train-boruta  RF-val  rf-val-boruta  \n",
       "auc                  0.69521   0.75797          0.75940 0.67828        0.67610  \n",
       "accuracy             0.69530   0.77849          0.78253 0.75641        0.75790  \n",
       "f1                   0.26918   0.34838          0.35205 0.27944        0.27841  \n",
       "precision            0.16691   0.22844          0.23178 0.18356        0.18331  \n",
       "recall               0.69512   0.73351          0.73181 0.58510        0.57855  "
      ],
      "text/html": [
       "<div>\n",
       "<style scoped>\n",
       "    .dataframe tbody tr th:only-of-type {\n",
       "        vertical-align: middle;\n",
       "    }\n",
       "\n",
       "    .dataframe tbody tr th {\n",
       "        vertical-align: top;\n",
       "    }\n",
       "\n",
       "    .dataframe thead th {\n",
       "        text-align: right;\n",
       "    }\n",
       "</style>\n",
       "<table border=\"1\" class=\"dataframe\">\n",
       "  <thead>\n",
       "    <tr style=\"text-align: right;\">\n",
       "      <th></th>\n",
       "      <th>LGBM-train</th>\n",
       "      <th>LGBM-train-boruta</th>\n",
       "      <th>baselineLGBM-val</th>\n",
       "      <th>LGBM-val</th>\n",
       "      <th>LGBM-val-boruta</th>\n",
       "      <th>Logreg-train</th>\n",
       "      <th>Logreg-train-boruta</th>\n",
       "      <th>Logreg-val</th>\n",
       "      <th>Logreg-val-boruta</th>\n",
       "      <th>RF-train</th>\n",
       "      <th>RF-train-boruta</th>\n",
       "      <th>RF-val</th>\n",
       "      <th>rf-val-boruta</th>\n",
       "    </tr>\n",
       "  </thead>\n",
       "  <tbody>\n",
       "    <tr>\n",
       "      <th>auc</th>\n",
       "      <td>0.76278</td>\n",
       "      <td>0.75564</td>\n",
       "      <td>0.70247</td>\n",
       "      <td>0.70852</td>\n",
       "      <td>0.70573</td>\n",
       "      <td>0.70375</td>\n",
       "      <td>0.70244</td>\n",
       "      <td>0.69584</td>\n",
       "      <td>0.69521</td>\n",
       "      <td>0.75797</td>\n",
       "      <td>0.75940</td>\n",
       "      <td>0.67828</td>\n",
       "      <td>0.67610</td>\n",
       "    </tr>\n",
       "    <tr>\n",
       "      <th>accuracy</th>\n",
       "      <td>0.74251</td>\n",
       "      <td>0.73736</td>\n",
       "      <td>0.70969</td>\n",
       "      <td>0.72503</td>\n",
       "      <td>0.72034</td>\n",
       "      <td>0.70150</td>\n",
       "      <td>0.70009</td>\n",
       "      <td>0.69814</td>\n",
       "      <td>0.69530</td>\n",
       "      <td>0.77849</td>\n",
       "      <td>0.78253</td>\n",
       "      <td>0.75641</td>\n",
       "      <td>0.75790</td>\n",
       "    </tr>\n",
       "    <tr>\n",
       "      <th>f1</th>\n",
       "      <td>0.33041</td>\n",
       "      <td>0.32338</td>\n",
       "      <td>0.27844</td>\n",
       "      <td>0.28798</td>\n",
       "      <td>0.28438</td>\n",
       "      <td>0.27647</td>\n",
       "      <td>0.27519</td>\n",
       "      <td>0.27046</td>\n",
       "      <td>0.26918</td>\n",
       "      <td>0.34838</td>\n",
       "      <td>0.35205</td>\n",
       "      <td>0.27944</td>\n",
       "      <td>0.27841</td>\n",
       "    </tr>\n",
       "    <tr>\n",
       "      <th>precision</th>\n",
       "      <td>0.20910</td>\n",
       "      <td>0.20415</td>\n",
       "      <td>0.17417</td>\n",
       "      <td>0.18205</td>\n",
       "      <td>0.17921</td>\n",
       "      <td>0.17187</td>\n",
       "      <td>0.17095</td>\n",
       "      <td>0.16801</td>\n",
       "      <td>0.16691</td>\n",
       "      <td>0.22844</td>\n",
       "      <td>0.23178</td>\n",
       "      <td>0.18356</td>\n",
       "      <td>0.18331</td>\n",
       "    </tr>\n",
       "    <tr>\n",
       "      <th>recall</th>\n",
       "      <td>0.78695</td>\n",
       "      <td>0.77744</td>\n",
       "      <td>0.69386</td>\n",
       "      <td>0.68882</td>\n",
       "      <td>0.68832</td>\n",
       "      <td>0.70645</td>\n",
       "      <td>0.70525</td>\n",
       "      <td>0.69310</td>\n",
       "      <td>0.69512</td>\n",
       "      <td>0.73351</td>\n",
       "      <td>0.73181</td>\n",
       "      <td>0.58510</td>\n",
       "      <td>0.57855</td>\n",
       "    </tr>\n",
       "  </tbody>\n",
       "</table>\n",
       "</div>"
      ]
     },
     "execution_count": 31,
     "metadata": {},
     "output_type": "execute_result"
    }
   ],
   "execution_count": 31
  },
  {
   "cell_type": "markdown",
   "id": "256f002e0001107f",
   "metadata": {},
   "source": [
    "Impressively, I have managed to generate inferior performing models across the board compared to those models that I created prior to EDA and creating a more general workflow. Let's see if I can do any better."
   ]
  },
  {
   "cell_type": "markdown",
   "id": "7be3434cc0c6f48c",
   "metadata": {},
   "source": [
    "### Models Version 2: \"The Same but Better\" <br> \n",
    "- I will do a bit of feature selection by removing 25% of features\n",
    "- For one hot encoding, I will try to drop 'first' as default (for the sake of logistic regression model), but I will just do it as a default\n",
    "- Change a few default hyperparameters "
   ]
  },
  {
   "cell_type": "code",
   "id": "dc99207a03eb62f3",
   "metadata": {
    "ExecuteTime": {
     "end_time": "2024-10-01T04:06:02.529930Z",
     "start_time": "2024-10-01T04:06:02.526544Z"
    }
   },
   "source": [
    "def instantiate_feature_selector(trial: Optional[Trial] = None):\n",
    "    percentile = trial.suggest_int(\"percentile\", 1, 100) if trial else 75\n",
    "    return SelectPercentile(score_func=mutual_info_classif, percentile=percentile)"
   ],
   "outputs": [],
   "execution_count": 32
  },
  {
   "cell_type": "code",
   "id": "6dd27e4c5fd0d3ff",
   "metadata": {
    "ExecuteTime": {
     "end_time": "2024-10-01T04:06:02.534373Z",
     "start_time": "2024-10-01T04:06:02.531239Z"
    }
   },
   "source": [
    "def instantiate_oh_encoder(trial: Optional[Trial] = None) -> OneHotEncoder:\n",
    "    drop = (\n",
    "        trial.suggest_categorical(\"drop\", [None, \"first\", \"if_binary\"])\n",
    "        if trial\n",
    "        else \"first\"\n",
    "    )\n",
    "    return OneHotEncoder(sparse_output=False, drop=drop, handle_unknown=\"ignore\")"
   ],
   "outputs": [],
   "execution_count": 33
  },
  {
   "cell_type": "code",
   "id": "4fa67cce28cddc39",
   "metadata": {
    "ExecuteTime": {
     "end_time": "2024-10-01T08:35:29.357095Z",
     "start_time": "2024-10-01T08:35:29.350188Z"
    }
   },
   "source": [
    "def instantiate_lgbm(\n",
    "    trial: Optional[Trial] = None, scale_pos_weight: float = 10.0\n",
    ") -> lgb.LGBMClassifier:\n",
    "    if trial:\n",
    "        params = {\n",
    "            \"objective\": \"binary\",\n",
    "            \"metric\": [\"auc\", \"binary_logloss\"],\n",
    "            \"boosting_type\": \"gbdt\",\n",
    "            \"learning_rate\": trial.suggest_float(\"learning_rate\", 1e-3, 1e-1, log=True),\n",
    "            \"num_leaves\": trial.suggest_int(\"num_leaves\", 20, 300),\n",
    "            \"max_depth\": trial.suggest_int(\"max_depth\", 3, 12),\n",
    "            \"feature_fraction\": trial.suggest_float(\"feature_fraction\", 0.6, 1.0),\n",
    "            \"bagging_fraction\": trial.suggest_float(\"bagging_fraction\", 0.6, 1.0),\n",
    "            \"bagging_freq\": trial.suggest_int(\"bagging_freq\", 1, 7),\n",
    "            \"min_child_samples\": trial.suggest_int(\"min_child_samples\", 5, 100),\n",
    "            \"lambda_l1\": trial.suggest_float(\"lambda_l1\", 1e-8, 10.0, log=True),\n",
    "            \"lambda_l2\": trial.suggest_float(\"lambda_l2\", 1e-8, 10.0, log=True),\n",
    "            \"min_split_gain\": trial.suggest_float(\n",
    "                \"min_split_gain\", 1e-8, 1.0, log=True\n",
    "            ),\n",
    "            \"n_estimators\": trial.suggest_int(\"n_estimators\", 50, 500),\n",
    "            \"verbosity\": -1,\n",
    "        }\n",
    "    else:\n",
    "        params = {\n",
    "            \"objective\": \"binary\",\n",
    "            \"metric\": [\"auc\", \"binary_logloss\"],\n",
    "            \"boosting_type\": \"gbdt\",\n",
    "            \"learning_rate\": 0.05,\n",
    "            \"num_leaves\": 31,\n",
    "            \"max_depth\": -1,\n",
    "            \"min_child_samples\": 20,\n",
    "            \"lambda_l1\": 0.0,\n",
    "            \"lambda_l2\": 0.0,\n",
    "            \"min_split_gain\": 0.0,\n",
    "            \"n_estimators\": 200,\n",
    "            \"verbosity\": -1,\n",
    "        }\n",
    "    return lgb.LGBMClassifier(scale_pos_weight=scale_pos_weight, **params)"
   ],
   "outputs": [],
   "execution_count": 62
  },
  {
   "cell_type": "code",
   "id": "8e0a4349ab7226d6",
   "metadata": {
    "ExecuteTime": {
     "end_time": "2024-10-01T04:06:02.546690Z",
     "start_time": "2024-10-01T04:06:02.542970Z"
    }
   },
   "source": [
    "def instantiate_logistic_regression(\n",
    "    trial: Optional[Trial] = None,\n",
    ") -> LogisticRegression:\n",
    "    if trial:\n",
    "        params = {\n",
    "            \"penalty\": trial.suggest_categorical(\"penalty\", [\"elasticnet\"]),\n",
    "            \"tol\": trial.suggest_float(\"tol\", 1e-8, 1.0, log=True),\n",
    "            \"C\": trial.suggest_float(\"C\", 1e-4, 1.0, log=True),\n",
    "            \"solver\": trial.suggest_categorical(\"solver\", [\"saga\"]),\n",
    "            \"max_iter\": trial.suggest_int(\"max_iter\", 50, 1000, step=50),\n",
    "            \"l1_ratio\": trial.suggest_float(\"l1_ratio\", 0, 1.0),\n",
    "        }\n",
    "    else:\n",
    "        params = {\n",
    "            \"penalty\": \"elasticnet\",\n",
    "            \"tol\": 1e-4,\n",
    "            \"C\": 1,\n",
    "            \"solver\": \"saga\",\n",
    "            \"max_iter\": 200,\n",
    "            \"l1_ratio\": 0.5,\n",
    "        }\n",
    "    return LogisticRegression(\n",
    "        class_weight=\"balanced\", n_jobs=-1, random_state=42, **params\n",
    "    )"
   ],
   "outputs": [],
   "execution_count": 35
  },
  {
   "cell_type": "code",
   "id": "c5e8032b97023ff8",
   "metadata": {
    "ExecuteTime": {
     "end_time": "2024-10-01T04:06:02.551386Z",
     "start_time": "2024-10-01T04:06:02.547804Z"
    }
   },
   "source": [
    "def instantiate_random_forest(trial: Optional[Trial] = None) -> RandomForestClassifier:\n",
    "    if trial:\n",
    "        params = {\n",
    "            \"n_estimators\": trial.suggest_int(\"n_estimators\", 500, 2000),\n",
    "            \"criterion\": trial.suggest_categorical(\"criterion\", [\"gini\", \"entropy\"]),\n",
    "            \"max_depth\": trial.suggest_int(\"max_depth\", 2, 30),\n",
    "            \"min_samples_split\": trial.suggest_float(\"min_samples_split\", 0.0, 1.0),\n",
    "            \"min_samples_leaf\": trial.suggest_float(\"min_samples_leaf\", 0.0, 1.0),\n",
    "            \"max_features\": trial.suggest_categorical(\"max_features\", [\"sqrt\", \"log2\"]),\n",
    "        }\n",
    "    else:\n",
    "        params = {\n",
    "            \"n_estimators\": 1000,\n",
    "            \"criterion\": \"gini\",\n",
    "            \"max_depth\": 25,\n",
    "            \"min_samples_split\": 0.3,\n",
    "            \"min_samples_leaf\": 0.15,\n",
    "            \"max_features\": \"sqrt\",\n",
    "        }\n",
    "    return RandomForestClassifier(n_jobs=-1, class_weight=\"balanced\", **params)"
   ],
   "outputs": [],
   "execution_count": 36
  },
  {
   "cell_type": "markdown",
   "id": "4fe6f4357befe2c9",
   "metadata": {},
   "source": [
    "#### LightGBM"
   ]
  },
  {
   "cell_type": "code",
   "id": "cbaf0f8a86dd5c4e",
   "metadata": {
    "ExecuteTime": {
     "end_time": "2024-10-01T04:10:13.235201Z",
     "start_time": "2024-10-01T04:06:02.552478Z"
    }
   },
   "source": [
    "lgbm_modelv2 = instantiate_lgbm_model(X=X_train, y=y_train)\n",
    "lgbm_modelv2.fit(X_train, y_train)\n",
    "lgbm_model_train_predv2 = lgbm_modelv2.predict(X_train)\n",
    "lgbm_model_train_perfomance_v2 = model_assessment(y_train, lgbm_model_train_predv2)"
   ],
   "outputs": [
    {
     "name": "stdout",
     "output_type": "stream",
     "text": [
      "AUC-ROC: 0.7532498563719793\n",
      "Accuracy: 0.7372387020720913\n",
      "F1-Score: 0.32184119074159073\n",
      "Precision: 0.20327331157751752\n",
      "Recall: 0.7723439073514602\n"
     ]
    }
   ],
   "execution_count": 37
  },
  {
   "cell_type": "code",
   "id": "c33d4f7e12d0ddb",
   "metadata": {
    "ExecuteTime": {
     "end_time": "2024-10-01T04:10:14.717210Z",
     "start_time": "2024-10-01T04:10:13.236823Z"
    }
   },
   "source": [
    "lgbm_model_val_predv2 = lgbm_modelv2.predict(X_val)\n",
    "lgbm_model_val_perfomance_v2 = model_assessment(y_val, lgbm_model_val_predv2)"
   ],
   "outputs": [
    {
     "name": "stdout",
     "output_type": "stream",
     "text": [
      "AUC-ROC: 0.7058615871569703\n",
      "Accuracy: 0.7338726068046014\n",
      "F1-Score: 0.2897591668474723\n",
      "Precision: 0.18466537610619468\n",
      "Recall: 0.6724572004028198\n"
     ]
    }
   ],
   "execution_count": 38
  },
  {
   "cell_type": "markdown",
   "id": "28eedf0b300a34fb",
   "metadata": {},
   "source": [
    "#### Logistic Regression\n",
    "\n",
    "- I have generated a method to use Phi K Correlations to remove redundant features. This will decrease the feature space for logistic regression, so I will perform this and then only use those features for the logistic regression portion of the modeling."
   ]
  },
  {
   "cell_type": "code",
   "id": "ad1faa1061141d3e",
   "metadata": {
    "ExecuteTime": {
     "end_time": "2024-10-01T04:30:17.168917Z",
     "start_time": "2024-10-01T04:10:14.718740Z"
    }
   },
   "source": [
    "training_data_phik = pd.concat([X_train, y_train], axis=1).phik_matrix(verbose=False)"
   ],
   "outputs": [
    {
     "name": "stderr",
     "output_type": "stream",
     "text": [
      "/Users/migueldiaz/home-credit/lib/python3.11/site-packages/phik/data_quality.py:82: UserWarning: Not enough unique value for variable EMERGENCYSTATE_MODE for analysis 1. Dropping this column\n",
      "  warnings.warn(\n",
      "/Users/migueldiaz/home-credit/lib/python3.11/site-packages/phik/data_quality.py:82: UserWarning: Not enough unique value for variable FLAG_OWN_CAR for analysis 1. Dropping this column\n",
      "  warnings.warn(\n",
      "/Users/migueldiaz/home-credit/lib/python3.11/site-packages/phik/data_quality.py:82: UserWarning: Not enough unique value for variable FLAG_OWN_REALTY for analysis 1. Dropping this column\n",
      "  warnings.warn(\n"
     ]
    }
   ],
   "execution_count": 39
  },
  {
   "cell_type": "code",
   "id": "35f11ddcffd9756a",
   "metadata": {
    "ExecuteTime": {
     "end_time": "2024-10-01T04:30:17.182975Z",
     "start_time": "2024-10-01T04:30:17.170456Z"
    }
   },
   "source": [
    "training_data_phik_matrix = correlation_threshold(training_data_phik, threshold=0.85)"
   ],
   "outputs": [],
   "execution_count": 40
  },
  {
   "cell_type": "code",
   "id": "1de413448ca8c632",
   "metadata": {
    "ExecuteTime": {
     "end_time": "2024-10-01T04:30:18.421844Z",
     "start_time": "2024-10-01T04:30:17.184769Z"
    }
   },
   "source": [
    "X_train_lr = drop_least_target_correlated_features(\n",
    "    training_data_phik_matrix.copy(),\n",
    "    training_data_phik[\"TARGET\"].copy(),\n",
    "    X_train.copy(),\n",
    ")"
   ],
   "outputs": [],
   "execution_count": 41
  },
  {
   "cell_type": "code",
   "id": "4ed96dd0fce670a8",
   "metadata": {
    "ExecuteTime": {
     "end_time": "2024-10-01T04:30:18.485828Z",
     "start_time": "2024-10-01T04:30:18.423551Z"
    }
   },
   "source": [
    "X_train_lr"
   ],
   "outputs": [
    {
     "data": {
      "text/plain": [
       "              AMT_CREDIT  AMT_ANNUITY  AMT_CREDIT_div_AMT_ANNUITY  \\\n",
       "SK_ID_CURR                                                          \n",
       "303785      808650.00000  23773.50000                    34.01476   \n",
       "337526      733315.50000  39199.50000                    18.70727   \n",
       "164863      555273.00000  18040.50000                    30.77925   \n",
       "374999      835380.00000  40320.00000                    20.71875   \n",
       "183756     1724220.00000  50544.00000                    34.11325   \n",
       "...                  ...          ...                         ...   \n",
       "116887      270000.00000  13500.00000                    20.00000   \n",
       "412145      225000.00000  11488.50000                    19.58480   \n",
       "364978      521280.00000  23089.50000                    22.57650   \n",
       "397255      247500.00000  12375.00000                    20.00000   \n",
       "453297      450000.00000  33646.50000                    13.37435   \n",
       "\n",
       "            AMT_INCOME_TOTAL  AMT_ANNUITY_div_AMT_INCOME_TOTAL  \\\n",
       "SK_ID_CURR                                                       \n",
       "303785          112500.00000                           0.21132   \n",
       "337526          270000.00000                           0.14518   \n",
       "164863          112500.00000                           0.16036   \n",
       "374999          292500.00000                           0.13785   \n",
       "183756          202500.00000                           0.24960   \n",
       "...                      ...                               ...   \n",
       "116887          225000.00000                           0.06000   \n",
       "412145          180000.00000                           0.06383   \n",
       "364978          180000.00000                           0.12828   \n",
       "397255          135000.00000                           0.09167   \n",
       "453297           90000.00000                           0.37385   \n",
       "\n",
       "            AMT_ANNUITY_log  AMT_ANNUITY_log_div_AMT_INCOME_TOTAL  \\\n",
       "SK_ID_CURR                                                          \n",
       "303785             10.07637                               0.00009   \n",
       "337526             10.57644                               0.00004   \n",
       "164863              9.80043                               0.00009   \n",
       "374999             10.60463                               0.00004   \n",
       "183756             10.83062                               0.00005   \n",
       "...                     ...                                   ...   \n",
       "116887              9.51052                               0.00004   \n",
       "412145              9.34919                               0.00005   \n",
       "364978             10.04718                               0.00006   \n",
       "397255              9.42351                               0.00007   \n",
       "453297             10.42369                               0.00012   \n",
       "\n",
       "            HOUR_APPR_PROCESS_START_sin FLAG_DOCUMENT_2 FLAG_DOCUMENT_3  ...  \\\n",
       "SK_ID_CURR                                                               ...   \n",
       "303785                         -0.13617           False            True  ...   \n",
       "337526                         -0.39840           False            True  ...   \n",
       "164863                         -0.13617           False            True  ...   \n",
       "374999                         -0.99767           False            True  ...   \n",
       "183756                         -0.94226           False            True  ...   \n",
       "...                                 ...             ...             ...  ...   \n",
       "116887                         -0.99767           False           False  ...   \n",
       "412145                         -0.13617           False            True  ...   \n",
       "364978                         -0.13617           False           False  ...   \n",
       "397255                          0.13617           False           False  ...   \n",
       "453297                         -0.13617           False            True  ...   \n",
       "\n",
       "           PRODUCT_COMBINATION_Cash_X_Sell__low_cts  \\\n",
       "SK_ID_CURR                                            \n",
       "303785                                      1.00000   \n",
       "337526                                      0.00000   \n",
       "164863                                      0.00000   \n",
       "374999                                      2.00000   \n",
       "183756                                      0.00000   \n",
       "...                                             ...   \n",
       "116887                                      0.00000   \n",
       "412145                                      0.00000   \n",
       "364978                                          NaN   \n",
       "397255                                      0.00000   \n",
       "453297                                      0.00000   \n",
       "\n",
       "           PRODUCT_COMBINATION_POS_industry_with_interest_cts  \\\n",
       "SK_ID_CURR                                                      \n",
       "303785                                                0.00000   \n",
       "337526                                                0.00000   \n",
       "164863                                                0.00000   \n",
       "374999                                                0.00000   \n",
       "183756                                                0.00000   \n",
       "...                                                       ...   \n",
       "116887                                                0.00000   \n",
       "412145                                                2.00000   \n",
       "364978                                                    NaN   \n",
       "397255                                                0.00000   \n",
       "453297                                                0.00000   \n",
       "\n",
       "           PRODUCT_COMBINATION_POS_industry_without_interest_cts  \\\n",
       "SK_ID_CURR                                                         \n",
       "303785                                                0.00000      \n",
       "337526                                                0.00000      \n",
       "164863                                                0.00000      \n",
       "374999                                                0.00000      \n",
       "183756                                                0.00000      \n",
       "...                                                       ...      \n",
       "116887                                                0.00000      \n",
       "412145                                                0.00000      \n",
       "364978                                                    NaN      \n",
       "397255                                                0.00000      \n",
       "453297                                                0.00000      \n",
       "\n",
       "           PRODUCT_COMBINATION_POS_mobile_with_interest_cts AMT_PAYMENT_max  \\\n",
       "SK_ID_CURR                                                                    \n",
       "303785                                              0.00000     17311.81445   \n",
       "337526                                              0.00000     65431.53125   \n",
       "164863                                              0.00000      6096.87012   \n",
       "374999                                              2.00000    758109.25000   \n",
       "183756                                              0.00000   1249819.37500   \n",
       "...                                                     ...             ...   \n",
       "116887                                              0.00000     10868.21973   \n",
       "412145                                              0.00000     11889.31543   \n",
       "364978                                                  NaN      7500.73486   \n",
       "397255                                              0.00000     55003.32031   \n",
       "453297                                              0.00000    121656.50781   \n",
       "\n",
       "           AMT_PAYMENT_std NUM_INSTALMENT_NUMBER_std  \\\n",
       "SK_ID_CURR                                             \n",
       "303785          7229.09067                   6.84289   \n",
       "337526         10619.82725                   6.05311   \n",
       "164863             7.85520                   3.02765   \n",
       "374999        120949.36381                   8.38301   \n",
       "183756        320623.07577                   3.28344   \n",
       "...                    ...                       ...   \n",
       "116887          1335.81811                   6.41347   \n",
       "412145          4268.68875                   2.56495   \n",
       "364978          2561.77141                   3.14416   \n",
       "397255         27845.29761                   1.00000   \n",
       "453297         17368.04649                  17.21332   \n",
       "\n",
       "           NUM_INSTALMENT_VERSION_min NUM_INSTALMENT_VERSION_max  \\\n",
       "SK_ID_CURR                                                         \n",
       "303785                        1.00000                    1.00000   \n",
       "337526                        1.00000                    3.00000   \n",
       "164863                        1.00000                    1.00000   \n",
       "374999                        1.00000                    3.00000   \n",
       "183756                        1.00000                    2.00000   \n",
       "...                               ...                        ...   \n",
       "116887                        1.00000                    3.00000   \n",
       "412145                        1.00000                    1.00000   \n",
       "364978                        1.00000                    1.00000   \n",
       "397255                        1.00000                    2.00000   \n",
       "453297                        0.00000                    1.00000   \n",
       "\n",
       "           NUM_INSTALMENT_VERSION_mean  \n",
       "SK_ID_CURR                              \n",
       "303785                         1.00000  \n",
       "337526                         1.13043  \n",
       "164863                         1.00000  \n",
       "374999                         1.10811  \n",
       "183756                         1.13333  \n",
       "...                                ...  \n",
       "116887                         1.61111  \n",
       "412145                         1.00000  \n",
       "364978                         1.00000  \n",
       "397255                         1.33333  \n",
       "453297                         0.33708  \n",
       "\n",
       "[196806 rows x 193 columns]"
      ],
      "text/html": [
       "<div>\n",
       "<style scoped>\n",
       "    .dataframe tbody tr th:only-of-type {\n",
       "        vertical-align: middle;\n",
       "    }\n",
       "\n",
       "    .dataframe tbody tr th {\n",
       "        vertical-align: top;\n",
       "    }\n",
       "\n",
       "    .dataframe thead th {\n",
       "        text-align: right;\n",
       "    }\n",
       "</style>\n",
       "<table border=\"1\" class=\"dataframe\">\n",
       "  <thead>\n",
       "    <tr style=\"text-align: right;\">\n",
       "      <th></th>\n",
       "      <th>AMT_CREDIT</th>\n",
       "      <th>AMT_ANNUITY</th>\n",
       "      <th>AMT_CREDIT_div_AMT_ANNUITY</th>\n",
       "      <th>AMT_INCOME_TOTAL</th>\n",
       "      <th>AMT_ANNUITY_div_AMT_INCOME_TOTAL</th>\n",
       "      <th>AMT_ANNUITY_log</th>\n",
       "      <th>AMT_ANNUITY_log_div_AMT_INCOME_TOTAL</th>\n",
       "      <th>HOUR_APPR_PROCESS_START_sin</th>\n",
       "      <th>FLAG_DOCUMENT_2</th>\n",
       "      <th>FLAG_DOCUMENT_3</th>\n",
       "      <th>...</th>\n",
       "      <th>PRODUCT_COMBINATION_Cash_X_Sell__low_cts</th>\n",
       "      <th>PRODUCT_COMBINATION_POS_industry_with_interest_cts</th>\n",
       "      <th>PRODUCT_COMBINATION_POS_industry_without_interest_cts</th>\n",
       "      <th>PRODUCT_COMBINATION_POS_mobile_with_interest_cts</th>\n",
       "      <th>AMT_PAYMENT_max</th>\n",
       "      <th>AMT_PAYMENT_std</th>\n",
       "      <th>NUM_INSTALMENT_NUMBER_std</th>\n",
       "      <th>NUM_INSTALMENT_VERSION_min</th>\n",
       "      <th>NUM_INSTALMENT_VERSION_max</th>\n",
       "      <th>NUM_INSTALMENT_VERSION_mean</th>\n",
       "    </tr>\n",
       "    <tr>\n",
       "      <th>SK_ID_CURR</th>\n",
       "      <th></th>\n",
       "      <th></th>\n",
       "      <th></th>\n",
       "      <th></th>\n",
       "      <th></th>\n",
       "      <th></th>\n",
       "      <th></th>\n",
       "      <th></th>\n",
       "      <th></th>\n",
       "      <th></th>\n",
       "      <th></th>\n",
       "      <th></th>\n",
       "      <th></th>\n",
       "      <th></th>\n",
       "      <th></th>\n",
       "      <th></th>\n",
       "      <th></th>\n",
       "      <th></th>\n",
       "      <th></th>\n",
       "      <th></th>\n",
       "      <th></th>\n",
       "    </tr>\n",
       "  </thead>\n",
       "  <tbody>\n",
       "    <tr>\n",
       "      <th>303785</th>\n",
       "      <td>808650.00000</td>\n",
       "      <td>23773.50000</td>\n",
       "      <td>34.01476</td>\n",
       "      <td>112500.00000</td>\n",
       "      <td>0.21132</td>\n",
       "      <td>10.07637</td>\n",
       "      <td>0.00009</td>\n",
       "      <td>-0.13617</td>\n",
       "      <td>False</td>\n",
       "      <td>True</td>\n",
       "      <td>...</td>\n",
       "      <td>1.00000</td>\n",
       "      <td>0.00000</td>\n",
       "      <td>0.00000</td>\n",
       "      <td>0.00000</td>\n",
       "      <td>17311.81445</td>\n",
       "      <td>7229.09067</td>\n",
       "      <td>6.84289</td>\n",
       "      <td>1.00000</td>\n",
       "      <td>1.00000</td>\n",
       "      <td>1.00000</td>\n",
       "    </tr>\n",
       "    <tr>\n",
       "      <th>337526</th>\n",
       "      <td>733315.50000</td>\n",
       "      <td>39199.50000</td>\n",
       "      <td>18.70727</td>\n",
       "      <td>270000.00000</td>\n",
       "      <td>0.14518</td>\n",
       "      <td>10.57644</td>\n",
       "      <td>0.00004</td>\n",
       "      <td>-0.39840</td>\n",
       "      <td>False</td>\n",
       "      <td>True</td>\n",
       "      <td>...</td>\n",
       "      <td>0.00000</td>\n",
       "      <td>0.00000</td>\n",
       "      <td>0.00000</td>\n",
       "      <td>0.00000</td>\n",
       "      <td>65431.53125</td>\n",
       "      <td>10619.82725</td>\n",
       "      <td>6.05311</td>\n",
       "      <td>1.00000</td>\n",
       "      <td>3.00000</td>\n",
       "      <td>1.13043</td>\n",
       "    </tr>\n",
       "    <tr>\n",
       "      <th>164863</th>\n",
       "      <td>555273.00000</td>\n",
       "      <td>18040.50000</td>\n",
       "      <td>30.77925</td>\n",
       "      <td>112500.00000</td>\n",
       "      <td>0.16036</td>\n",
       "      <td>9.80043</td>\n",
       "      <td>0.00009</td>\n",
       "      <td>-0.13617</td>\n",
       "      <td>False</td>\n",
       "      <td>True</td>\n",
       "      <td>...</td>\n",
       "      <td>0.00000</td>\n",
       "      <td>0.00000</td>\n",
       "      <td>0.00000</td>\n",
       "      <td>0.00000</td>\n",
       "      <td>6096.87012</td>\n",
       "      <td>7.85520</td>\n",
       "      <td>3.02765</td>\n",
       "      <td>1.00000</td>\n",
       "      <td>1.00000</td>\n",
       "      <td>1.00000</td>\n",
       "    </tr>\n",
       "    <tr>\n",
       "      <th>374999</th>\n",
       "      <td>835380.00000</td>\n",
       "      <td>40320.00000</td>\n",
       "      <td>20.71875</td>\n",
       "      <td>292500.00000</td>\n",
       "      <td>0.13785</td>\n",
       "      <td>10.60463</td>\n",
       "      <td>0.00004</td>\n",
       "      <td>-0.99767</td>\n",
       "      <td>False</td>\n",
       "      <td>True</td>\n",
       "      <td>...</td>\n",
       "      <td>2.00000</td>\n",
       "      <td>0.00000</td>\n",
       "      <td>0.00000</td>\n",
       "      <td>2.00000</td>\n",
       "      <td>758109.25000</td>\n",
       "      <td>120949.36381</td>\n",
       "      <td>8.38301</td>\n",
       "      <td>1.00000</td>\n",
       "      <td>3.00000</td>\n",
       "      <td>1.10811</td>\n",
       "    </tr>\n",
       "    <tr>\n",
       "      <th>183756</th>\n",
       "      <td>1724220.00000</td>\n",
       "      <td>50544.00000</td>\n",
       "      <td>34.11325</td>\n",
       "      <td>202500.00000</td>\n",
       "      <td>0.24960</td>\n",
       "      <td>10.83062</td>\n",
       "      <td>0.00005</td>\n",
       "      <td>-0.94226</td>\n",
       "      <td>False</td>\n",
       "      <td>True</td>\n",
       "      <td>...</td>\n",
       "      <td>0.00000</td>\n",
       "      <td>0.00000</td>\n",
       "      <td>0.00000</td>\n",
       "      <td>0.00000</td>\n",
       "      <td>1249819.37500</td>\n",
       "      <td>320623.07577</td>\n",
       "      <td>3.28344</td>\n",
       "      <td>1.00000</td>\n",
       "      <td>2.00000</td>\n",
       "      <td>1.13333</td>\n",
       "    </tr>\n",
       "    <tr>\n",
       "      <th>...</th>\n",
       "      <td>...</td>\n",
       "      <td>...</td>\n",
       "      <td>...</td>\n",
       "      <td>...</td>\n",
       "      <td>...</td>\n",
       "      <td>...</td>\n",
       "      <td>...</td>\n",
       "      <td>...</td>\n",
       "      <td>...</td>\n",
       "      <td>...</td>\n",
       "      <td>...</td>\n",
       "      <td>...</td>\n",
       "      <td>...</td>\n",
       "      <td>...</td>\n",
       "      <td>...</td>\n",
       "      <td>...</td>\n",
       "      <td>...</td>\n",
       "      <td>...</td>\n",
       "      <td>...</td>\n",
       "      <td>...</td>\n",
       "      <td>...</td>\n",
       "    </tr>\n",
       "    <tr>\n",
       "      <th>116887</th>\n",
       "      <td>270000.00000</td>\n",
       "      <td>13500.00000</td>\n",
       "      <td>20.00000</td>\n",
       "      <td>225000.00000</td>\n",
       "      <td>0.06000</td>\n",
       "      <td>9.51052</td>\n",
       "      <td>0.00004</td>\n",
       "      <td>-0.99767</td>\n",
       "      <td>False</td>\n",
       "      <td>False</td>\n",
       "      <td>...</td>\n",
       "      <td>0.00000</td>\n",
       "      <td>0.00000</td>\n",
       "      <td>0.00000</td>\n",
       "      <td>0.00000</td>\n",
       "      <td>10868.21973</td>\n",
       "      <td>1335.81811</td>\n",
       "      <td>6.41347</td>\n",
       "      <td>1.00000</td>\n",
       "      <td>3.00000</td>\n",
       "      <td>1.61111</td>\n",
       "    </tr>\n",
       "    <tr>\n",
       "      <th>412145</th>\n",
       "      <td>225000.00000</td>\n",
       "      <td>11488.50000</td>\n",
       "      <td>19.58480</td>\n",
       "      <td>180000.00000</td>\n",
       "      <td>0.06383</td>\n",
       "      <td>9.34919</td>\n",
       "      <td>0.00005</td>\n",
       "      <td>-0.13617</td>\n",
       "      <td>False</td>\n",
       "      <td>True</td>\n",
       "      <td>...</td>\n",
       "      <td>0.00000</td>\n",
       "      <td>2.00000</td>\n",
       "      <td>0.00000</td>\n",
       "      <td>0.00000</td>\n",
       "      <td>11889.31543</td>\n",
       "      <td>4268.68875</td>\n",
       "      <td>2.56495</td>\n",
       "      <td>1.00000</td>\n",
       "      <td>1.00000</td>\n",
       "      <td>1.00000</td>\n",
       "    </tr>\n",
       "    <tr>\n",
       "      <th>364978</th>\n",
       "      <td>521280.00000</td>\n",
       "      <td>23089.50000</td>\n",
       "      <td>22.57650</td>\n",
       "      <td>180000.00000</td>\n",
       "      <td>0.12828</td>\n",
       "      <td>10.04718</td>\n",
       "      <td>0.00006</td>\n",
       "      <td>-0.13617</td>\n",
       "      <td>False</td>\n",
       "      <td>False</td>\n",
       "      <td>...</td>\n",
       "      <td>NaN</td>\n",
       "      <td>NaN</td>\n",
       "      <td>NaN</td>\n",
       "      <td>NaN</td>\n",
       "      <td>7500.73486</td>\n",
       "      <td>2561.77141</td>\n",
       "      <td>3.14416</td>\n",
       "      <td>1.00000</td>\n",
       "      <td>1.00000</td>\n",
       "      <td>1.00000</td>\n",
       "    </tr>\n",
       "    <tr>\n",
       "      <th>397255</th>\n",
       "      <td>247500.00000</td>\n",
       "      <td>12375.00000</td>\n",
       "      <td>20.00000</td>\n",
       "      <td>135000.00000</td>\n",
       "      <td>0.09167</td>\n",
       "      <td>9.42351</td>\n",
       "      <td>0.00007</td>\n",
       "      <td>0.13617</td>\n",
       "      <td>False</td>\n",
       "      <td>False</td>\n",
       "      <td>...</td>\n",
       "      <td>0.00000</td>\n",
       "      <td>0.00000</td>\n",
       "      <td>0.00000</td>\n",
       "      <td>0.00000</td>\n",
       "      <td>55003.32031</td>\n",
       "      <td>27845.29761</td>\n",
       "      <td>1.00000</td>\n",
       "      <td>1.00000</td>\n",
       "      <td>2.00000</td>\n",
       "      <td>1.33333</td>\n",
       "    </tr>\n",
       "    <tr>\n",
       "      <th>453297</th>\n",
       "      <td>450000.00000</td>\n",
       "      <td>33646.50000</td>\n",
       "      <td>13.37435</td>\n",
       "      <td>90000.00000</td>\n",
       "      <td>0.37385</td>\n",
       "      <td>10.42369</td>\n",
       "      <td>0.00012</td>\n",
       "      <td>-0.13617</td>\n",
       "      <td>False</td>\n",
       "      <td>True</td>\n",
       "      <td>...</td>\n",
       "      <td>0.00000</td>\n",
       "      <td>0.00000</td>\n",
       "      <td>0.00000</td>\n",
       "      <td>0.00000</td>\n",
       "      <td>121656.50781</td>\n",
       "      <td>17368.04649</td>\n",
       "      <td>17.21332</td>\n",
       "      <td>0.00000</td>\n",
       "      <td>1.00000</td>\n",
       "      <td>0.33708</td>\n",
       "    </tr>\n",
       "  </tbody>\n",
       "</table>\n",
       "<p>196806 rows × 193 columns</p>\n",
       "</div>"
      ]
     },
     "execution_count": 42,
     "metadata": {},
     "output_type": "execute_result"
    }
   ],
   "execution_count": 42
  },
  {
   "cell_type": "code",
   "id": "e8e30e1f2574d0f2",
   "metadata": {
    "ExecuteTime": {
     "end_time": "2024-10-01T04:30:43.742739Z",
     "start_time": "2024-10-01T04:30:18.487155Z"
    }
   },
   "source": [
    "X_train_lr.to_pickle(\"../data/for_modeling/X_train_lr.pkl\")"
   ],
   "outputs": [],
   "execution_count": 43
  },
  {
   "cell_type": "code",
   "id": "74669366f919f3f6",
   "metadata": {
    "ExecuteTime": {
     "end_time": "2024-10-01T04:30:43.909271Z",
     "start_time": "2024-10-01T04:30:43.744446Z"
    }
   },
   "source": [
    "lr_model_columns = list(X_train_lr.columns)\n",
    "object_columns_lr = list(X_train_lr.select_dtypes([\"object\"]).columns)\n",
    "numerical_columns_lr = list(X_train_lr.select_dtypes([\"number\"]).columns)"
   ],
   "outputs": [],
   "execution_count": 44
  },
  {
   "cell_type": "code",
   "id": "bf67094e7b839cc4",
   "metadata": {
    "ExecuteTime": {
     "end_time": "2024-10-01T04:30:44.290922Z",
     "start_time": "2024-10-01T04:30:43.911321Z"
    }
   },
   "source": [
    "X_val_lr = X_val[lr_model_columns]\n",
    "X_test_lr = X_test[lr_model_columns]\n",
    "kaggle_X_test_lr = kaggle_X_test[lr_model_columns]"
   ],
   "outputs": [],
   "execution_count": 45
  },
  {
   "cell_type": "code",
   "id": "d19fcd5127634615",
   "metadata": {
    "ExecuteTime": {
     "end_time": "2024-10-01T04:34:59.148917Z",
     "start_time": "2024-10-01T04:30:44.292823Z"
    }
   },
   "source": [
    "logistic_regression_modelv2 = instantiate_logistic_regression_model(X=X_train_lr)\n",
    "logistic_regression_modelv2.fit(X_train_lr, y_train)\n",
    "logistic_regression_model_train_predv2 = logistic_regression_modelv2.predict(X_train_lr)\n",
    "logistic_regression_model_train_performance_v2 = model_assessment(\n",
    "    y_train, logistic_regression_model_train_predv2\n",
    ")"
   ],
   "outputs": [
    {
     "name": "stderr",
     "output_type": "stream",
     "text": [
      "/Users/migueldiaz/home-credit/lib/python3.11/site-packages/sklearn/linear_model/_sag.py:349: ConvergenceWarning: The max_iter was reached which means the coef_ did not converge\n",
      "  warnings.warn(\n"
     ]
    },
    {
     "name": "stdout",
     "output_type": "stream",
     "text": [
      "AUC-ROC: 0.6974923233903867\n",
      "Accuracy: 0.6956850909017002\n",
      "F1-Score: 0.2707158774034071\n",
      "Precision: 0.16782667773835586\n",
      "Recall: 0.6996475327291037\n"
     ]
    }
   ],
   "execution_count": 46
  },
  {
   "cell_type": "code",
   "id": "ffbc11341da7203d",
   "metadata": {
    "ExecuteTime": {
     "end_time": "2024-10-01T04:35:00.117564Z",
     "start_time": "2024-10-01T04:34:59.150799Z"
    }
   },
   "source": [
    "logistic_regression_model_val_predv2 = logistic_regression_modelv2.predict(X_val_lr)\n",
    "logistic_regression_model_val_performance_v2 = model_assessment(\n",
    "    y_val, logistic_regression_model_val_predv2\n",
    ")"
   ],
   "outputs": [
    {
     "name": "stdout",
     "output_type": "stream",
     "text": [
      "AUC-ROC: 0.6913801262830528\n",
      "Accuracy: 0.6941587740335758\n",
      "F1-Score: 0.2664521789997075\n",
      "Precision: 0.1652158142908959\n",
      "Recall: 0.6880664652567976\n"
     ]
    }
   ],
   "execution_count": 47
  },
  {
   "cell_type": "markdown",
   "id": "c13634db4f2208f0",
   "metadata": {},
   "source": [
    "This reduced feature set does not perform much better, but it does seem like it might be less prone to overfitting as evidenced by the smaller decrease in performance across categories such as Accuracy.<br><br>\n",
    "How would a tree-based model such as Light GBM perform given this reduced feature set? "
   ]
  },
  {
   "cell_type": "markdown",
   "id": "bd299096cce4c045",
   "metadata": {},
   "source": [
    "#### LGBM version 2.1"
   ]
  },
  {
   "cell_type": "code",
   "id": "4d20ce97a0b54633",
   "metadata": {
    "ExecuteTime": {
     "end_time": "2024-10-01T04:37:57.749301Z",
     "start_time": "2024-10-01T04:35:00.119034Z"
    }
   },
   "source": [
    "lgbm_modelv2_1 = instantiate_lgbm_model(X=X_train_lr, y=y_train)\n",
    "lgbm_modelv2_1.fit(X_train_lr, y_train)\n",
    "lgbm_model_train_predv2_1 = lgbm_modelv2_1.predict(X_train_lr)\n",
    "lgbm_model_train_perfomance_v2_1 = model_assessment(y_train, lgbm_model_train_predv2_1)"
   ],
   "outputs": [
    {
     "name": "stdout",
     "output_type": "stream",
     "text": [
      "AUC-ROC: 0.7499904951431151\n",
      "Accuracy: 0.7338851457780758\n",
      "F1-Score: 0.31819306125105773\n",
      "Precision: 0.2005843058085906\n",
      "Recall: 0.7691968781470292\n"
     ]
    }
   ],
   "execution_count": 48
  },
  {
   "cell_type": "code",
   "id": "55df5eb052ffc096",
   "metadata": {
    "ExecuteTime": {
     "end_time": "2024-10-01T04:37:58.881903Z",
     "start_time": "2024-10-01T04:37:57.750799Z"
    }
   },
   "source": [
    "lgbm_model_val_predv2_1 = lgbm_modelv2_1.predict(X_val_lr)\n",
    "lgbm_model_val_perfomance_v2_1 = model_assessment(y_val, lgbm_model_val_predv2_1)"
   ],
   "outputs": [
    {
     "name": "stdout",
     "output_type": "stream",
     "text": [
      "AUC-ROC: 0.7078743499433021\n",
      "Accuracy: 0.7189951627982603\n",
      "F1-Score: 0.28525641025641024\n",
      "Precision: 0.17948217538381472\n",
      "Recall: 0.6946122860020141\n"
     ]
    }
   ],
   "execution_count": 49
  },
  {
   "cell_type": "markdown",
   "id": "45522039c2084263",
   "metadata": {},
   "source": [
    "This is our best performance yet! and it runs even faster. So, we will continue to work with this reduced dataset! "
   ]
  },
  {
   "cell_type": "markdown",
   "id": "b6a956f04e6461d2",
   "metadata": {},
   "source": [
    "#### Random Forest\n",
    "For the random forest models seen here I am using the \"lr\" dataset (the dataset initially reduced for logistic regression). I have also modified a few hyperparameters to give me a better idea of the feature space. "
   ]
  },
  {
   "cell_type": "code",
   "id": "316f71d4eac0c53f",
   "metadata": {
    "ExecuteTime": {
     "end_time": "2024-10-01T04:41:03.647937Z",
     "start_time": "2024-10-01T04:37:58.883346Z"
    }
   },
   "source": [
    "random_forest_modelv2 = instantiate_random_forest_model(X=X_train_lr)\n",
    "random_forest_modelv2.fit(X_train_lr, y_train)\n",
    "random_forest_model_train_predv2 = random_forest_modelv2.predict(X_train_lr)\n",
    "random_forest_model_train_perfomance_v2 = model_assessment(\n",
    "    y_train, random_forest_model_train_predv2\n",
    ")"
   ],
   "outputs": [
    {
     "name": "stdout",
     "output_type": "stream",
     "text": [
      "AUC-ROC: 0.6700380843866137\n",
      "Accuracy: 0.6601983679359369\n",
      "F1-Score: 0.244683133986153\n",
      "Precision: 0.14909636481259722\n",
      "Recall: 0.6817724068479355\n"
     ]
    }
   ],
   "execution_count": 50
  },
  {
   "cell_type": "code",
   "id": "92a3ac0012aab685",
   "metadata": {
    "ExecuteTime": {
     "end_time": "2024-10-01T04:41:04.815649Z",
     "start_time": "2024-10-01T04:41:03.649840Z"
    }
   },
   "source": [
    "random_forest_model_val_predv2 = random_forest_modelv2.predict(X_val_lr)\n",
    "random_forest_model_val_perfomance_v2 = model_assessment(\n",
    "    y_val, random_forest_model_val_predv2\n",
    ")"
   ],
   "outputs": [
    {
     "name": "stdout",
     "output_type": "stream",
     "text": [
      "AUC-ROC: 0.6636754094936944\n",
      "Accuracy: 0.656944839640665\n",
      "F1-Score: 0.24019806437092056\n",
      "Precision: 0.14624787589760457\n",
      "Recall: 0.6717019133937563\n"
     ]
    }
   ],
   "execution_count": 51
  },
  {
   "cell_type": "code",
   "id": "ebf8e14332b4663f",
   "metadata": {
    "ExecuteTime": {
     "end_time": "2024-10-01T04:41:04.831170Z",
     "start_time": "2024-10-01T04:41:04.817668Z"
    }
   },
   "source": [
    "v2_model_performance = concatenate_model_scores(\n",
    "    [\n",
    "        lgbm_model_train_perfomance_v2,\n",
    "        lgbm_model_train_perfomance_v2_1,\n",
    "        logistic_regression_model_train_performance_v2,\n",
    "        random_forest_model_train_perfomance_v2,\n",
    "        lgbm_model_val_perfomance_v2,\n",
    "        lgbm_model_val_perfomance_v2_1,\n",
    "        logistic_regression_model_val_performance_v2,\n",
    "        random_forest_model_val_perfomance_v2,\n",
    "    ],\n",
    "    [\n",
    "        \"lgbm v2 train\",\n",
    "        \"lgbm v2.1 train\",\n",
    "        \"log reg v2 train\",\n",
    "        \"rf v2 train\",\n",
    "        \"lgbm v2 val\",\n",
    "        \"lgbm v2.1 val\",\n",
    "        \"log reg v2 val\",\n",
    "        \"rf v2 val\",\n",
    "    ],\n",
    ")\n",
    "v2_model_performance"
   ],
   "outputs": [
    {
     "data": {
      "text/plain": [
       "           lgbm v2 train  lgbm v2.1 train  log reg v2 train  rf v2 train  \\\n",
       "auc              0.75325          0.74999           0.69749      0.67004   \n",
       "accuracy         0.73724          0.73389           0.69569      0.66020   \n",
       "f1               0.32184          0.31819           0.27072      0.24468   \n",
       "precision        0.20327          0.20058           0.16783      0.14910   \n",
       "recall           0.77234          0.76920           0.69965      0.68177   \n",
       "\n",
       "           lgbm v2 val  lgbm v2.1 val  log reg v2 val  rf v2 val  \n",
       "auc            0.70586        0.70787         0.69138    0.66368  \n",
       "accuracy       0.73387        0.71900         0.69416    0.65694  \n",
       "f1             0.28976        0.28526         0.26645    0.24020  \n",
       "precision      0.18467        0.17948         0.16522    0.14625  \n",
       "recall         0.67246        0.69461         0.68807    0.67170  "
      ],
      "text/html": [
       "<div>\n",
       "<style scoped>\n",
       "    .dataframe tbody tr th:only-of-type {\n",
       "        vertical-align: middle;\n",
       "    }\n",
       "\n",
       "    .dataframe tbody tr th {\n",
       "        vertical-align: top;\n",
       "    }\n",
       "\n",
       "    .dataframe thead th {\n",
       "        text-align: right;\n",
       "    }\n",
       "</style>\n",
       "<table border=\"1\" class=\"dataframe\">\n",
       "  <thead>\n",
       "    <tr style=\"text-align: right;\">\n",
       "      <th></th>\n",
       "      <th>lgbm v2 train</th>\n",
       "      <th>lgbm v2.1 train</th>\n",
       "      <th>log reg v2 train</th>\n",
       "      <th>rf v2 train</th>\n",
       "      <th>lgbm v2 val</th>\n",
       "      <th>lgbm v2.1 val</th>\n",
       "      <th>log reg v2 val</th>\n",
       "      <th>rf v2 val</th>\n",
       "    </tr>\n",
       "  </thead>\n",
       "  <tbody>\n",
       "    <tr>\n",
       "      <th>auc</th>\n",
       "      <td>0.75325</td>\n",
       "      <td>0.74999</td>\n",
       "      <td>0.69749</td>\n",
       "      <td>0.67004</td>\n",
       "      <td>0.70586</td>\n",
       "      <td>0.70787</td>\n",
       "      <td>0.69138</td>\n",
       "      <td>0.66368</td>\n",
       "    </tr>\n",
       "    <tr>\n",
       "      <th>accuracy</th>\n",
       "      <td>0.73724</td>\n",
       "      <td>0.73389</td>\n",
       "      <td>0.69569</td>\n",
       "      <td>0.66020</td>\n",
       "      <td>0.73387</td>\n",
       "      <td>0.71900</td>\n",
       "      <td>0.69416</td>\n",
       "      <td>0.65694</td>\n",
       "    </tr>\n",
       "    <tr>\n",
       "      <th>f1</th>\n",
       "      <td>0.32184</td>\n",
       "      <td>0.31819</td>\n",
       "      <td>0.27072</td>\n",
       "      <td>0.24468</td>\n",
       "      <td>0.28976</td>\n",
       "      <td>0.28526</td>\n",
       "      <td>0.26645</td>\n",
       "      <td>0.24020</td>\n",
       "    </tr>\n",
       "    <tr>\n",
       "      <th>precision</th>\n",
       "      <td>0.20327</td>\n",
       "      <td>0.20058</td>\n",
       "      <td>0.16783</td>\n",
       "      <td>0.14910</td>\n",
       "      <td>0.18467</td>\n",
       "      <td>0.17948</td>\n",
       "      <td>0.16522</td>\n",
       "      <td>0.14625</td>\n",
       "    </tr>\n",
       "    <tr>\n",
       "      <th>recall</th>\n",
       "      <td>0.77234</td>\n",
       "      <td>0.76920</td>\n",
       "      <td>0.69965</td>\n",
       "      <td>0.68177</td>\n",
       "      <td>0.67246</td>\n",
       "      <td>0.69461</td>\n",
       "      <td>0.68807</td>\n",
       "      <td>0.67170</td>\n",
       "    </tr>\n",
       "  </tbody>\n",
       "</table>\n",
       "</div>"
      ]
     },
     "execution_count": 52,
     "metadata": {},
     "output_type": "execute_result"
    }
   ],
   "execution_count": 52
  },
  {
   "cell_type": "code",
   "id": "c702e8be809418af",
   "metadata": {
    "ExecuteTime": {
     "end_time": "2024-10-01T04:41:04.843666Z",
     "start_time": "2024-10-01T04:41:04.832314Z"
    }
   },
   "source": [
    "v1_model_performance"
   ],
   "outputs": [
    {
     "data": {
      "text/plain": [
       "           lgbm v1 train  log reg v1 train  rf v1 train  lgbm v1 val  \\\n",
       "auc              0.73457           0.70518      0.66131      0.70120   \n",
       "accuracy         0.72062           0.70296      0.65092      0.71369   \n",
       "f1               0.30272           0.27785      0.23758      0.27903   \n",
       "precision        0.18955           0.17285      0.14422      0.17511   \n",
       "recall           0.75120           0.70783      0.67372      0.68630   \n",
       "\n",
       "           log reg v1 val  rf v1 val  \n",
       "auc               0.69329    0.65836  \n",
       "accuracy          0.63855    0.67335  \n",
       "f1                0.25309    0.24045  \n",
       "precision         0.15188    0.14801  \n",
       "recall            0.75856    0.64048  "
      ],
      "text/html": [
       "<div>\n",
       "<style scoped>\n",
       "    .dataframe tbody tr th:only-of-type {\n",
       "        vertical-align: middle;\n",
       "    }\n",
       "\n",
       "    .dataframe tbody tr th {\n",
       "        vertical-align: top;\n",
       "    }\n",
       "\n",
       "    .dataframe thead th {\n",
       "        text-align: right;\n",
       "    }\n",
       "</style>\n",
       "<table border=\"1\" class=\"dataframe\">\n",
       "  <thead>\n",
       "    <tr style=\"text-align: right;\">\n",
       "      <th></th>\n",
       "      <th>lgbm v1 train</th>\n",
       "      <th>log reg v1 train</th>\n",
       "      <th>rf v1 train</th>\n",
       "      <th>lgbm v1 val</th>\n",
       "      <th>log reg v1 val</th>\n",
       "      <th>rf v1 val</th>\n",
       "    </tr>\n",
       "  </thead>\n",
       "  <tbody>\n",
       "    <tr>\n",
       "      <th>auc</th>\n",
       "      <td>0.73457</td>\n",
       "      <td>0.70518</td>\n",
       "      <td>0.66131</td>\n",
       "      <td>0.70120</td>\n",
       "      <td>0.69329</td>\n",
       "      <td>0.65836</td>\n",
       "    </tr>\n",
       "    <tr>\n",
       "      <th>accuracy</th>\n",
       "      <td>0.72062</td>\n",
       "      <td>0.70296</td>\n",
       "      <td>0.65092</td>\n",
       "      <td>0.71369</td>\n",
       "      <td>0.63855</td>\n",
       "      <td>0.67335</td>\n",
       "    </tr>\n",
       "    <tr>\n",
       "      <th>f1</th>\n",
       "      <td>0.30272</td>\n",
       "      <td>0.27785</td>\n",
       "      <td>0.23758</td>\n",
       "      <td>0.27903</td>\n",
       "      <td>0.25309</td>\n",
       "      <td>0.24045</td>\n",
       "    </tr>\n",
       "    <tr>\n",
       "      <th>precision</th>\n",
       "      <td>0.18955</td>\n",
       "      <td>0.17285</td>\n",
       "      <td>0.14422</td>\n",
       "      <td>0.17511</td>\n",
       "      <td>0.15188</td>\n",
       "      <td>0.14801</td>\n",
       "    </tr>\n",
       "    <tr>\n",
       "      <th>recall</th>\n",
       "      <td>0.75120</td>\n",
       "      <td>0.70783</td>\n",
       "      <td>0.67372</td>\n",
       "      <td>0.68630</td>\n",
       "      <td>0.75856</td>\n",
       "      <td>0.64048</td>\n",
       "    </tr>\n",
       "  </tbody>\n",
       "</table>\n",
       "</div>"
      ]
     },
     "execution_count": 53,
     "metadata": {},
     "output_type": "execute_result"
    }
   ],
   "execution_count": 53
  },
  {
   "cell_type": "code",
   "id": "db9a525b589ab72",
   "metadata": {
    "ExecuteTime": {
     "end_time": "2024-10-01T04:41:04.854105Z",
     "start_time": "2024-10-01T04:41:04.845015Z"
    }
   },
   "source": [
    "preliminary_model_performance"
   ],
   "outputs": [
    {
     "data": {
      "text/plain": [
       "           LGBM-train  LGBM-train-boruta  baselineLGBM-val  LGBM-val  \\\n",
       "auc           0.76278            0.75564           0.70247   0.70852   \n",
       "accuracy      0.74251            0.73736           0.70969   0.72503   \n",
       "f1            0.33041            0.32338           0.27844   0.28798   \n",
       "precision     0.20910            0.20415           0.17417   0.18205   \n",
       "recall        0.78695            0.77744           0.69386   0.68882   \n",
       "\n",
       "           LGBM-val-boruta  Logreg-train  Logreg-train-boruta  Logreg-val  \\\n",
       "auc                0.70573       0.70375              0.70244     0.69584   \n",
       "accuracy           0.72034       0.70150              0.70009     0.69814   \n",
       "f1                 0.28438       0.27647              0.27519     0.27046   \n",
       "precision          0.17921       0.17187              0.17095     0.16801   \n",
       "recall             0.68832       0.70645              0.70525     0.69310   \n",
       "\n",
       "           Logreg-val-boruta  RF-train  RF-train-boruta  RF-val  rf-val-boruta  \n",
       "auc                  0.69521   0.75797          0.75940 0.67828        0.67610  \n",
       "accuracy             0.69530   0.77849          0.78253 0.75641        0.75790  \n",
       "f1                   0.26918   0.34838          0.35205 0.27944        0.27841  \n",
       "precision            0.16691   0.22844          0.23178 0.18356        0.18331  \n",
       "recall               0.69512   0.73351          0.73181 0.58510        0.57855  "
      ],
      "text/html": [
       "<div>\n",
       "<style scoped>\n",
       "    .dataframe tbody tr th:only-of-type {\n",
       "        vertical-align: middle;\n",
       "    }\n",
       "\n",
       "    .dataframe tbody tr th {\n",
       "        vertical-align: top;\n",
       "    }\n",
       "\n",
       "    .dataframe thead th {\n",
       "        text-align: right;\n",
       "    }\n",
       "</style>\n",
       "<table border=\"1\" class=\"dataframe\">\n",
       "  <thead>\n",
       "    <tr style=\"text-align: right;\">\n",
       "      <th></th>\n",
       "      <th>LGBM-train</th>\n",
       "      <th>LGBM-train-boruta</th>\n",
       "      <th>baselineLGBM-val</th>\n",
       "      <th>LGBM-val</th>\n",
       "      <th>LGBM-val-boruta</th>\n",
       "      <th>Logreg-train</th>\n",
       "      <th>Logreg-train-boruta</th>\n",
       "      <th>Logreg-val</th>\n",
       "      <th>Logreg-val-boruta</th>\n",
       "      <th>RF-train</th>\n",
       "      <th>RF-train-boruta</th>\n",
       "      <th>RF-val</th>\n",
       "      <th>rf-val-boruta</th>\n",
       "    </tr>\n",
       "  </thead>\n",
       "  <tbody>\n",
       "    <tr>\n",
       "      <th>auc</th>\n",
       "      <td>0.76278</td>\n",
       "      <td>0.75564</td>\n",
       "      <td>0.70247</td>\n",
       "      <td>0.70852</td>\n",
       "      <td>0.70573</td>\n",
       "      <td>0.70375</td>\n",
       "      <td>0.70244</td>\n",
       "      <td>0.69584</td>\n",
       "      <td>0.69521</td>\n",
       "      <td>0.75797</td>\n",
       "      <td>0.75940</td>\n",
       "      <td>0.67828</td>\n",
       "      <td>0.67610</td>\n",
       "    </tr>\n",
       "    <tr>\n",
       "      <th>accuracy</th>\n",
       "      <td>0.74251</td>\n",
       "      <td>0.73736</td>\n",
       "      <td>0.70969</td>\n",
       "      <td>0.72503</td>\n",
       "      <td>0.72034</td>\n",
       "      <td>0.70150</td>\n",
       "      <td>0.70009</td>\n",
       "      <td>0.69814</td>\n",
       "      <td>0.69530</td>\n",
       "      <td>0.77849</td>\n",
       "      <td>0.78253</td>\n",
       "      <td>0.75641</td>\n",
       "      <td>0.75790</td>\n",
       "    </tr>\n",
       "    <tr>\n",
       "      <th>f1</th>\n",
       "      <td>0.33041</td>\n",
       "      <td>0.32338</td>\n",
       "      <td>0.27844</td>\n",
       "      <td>0.28798</td>\n",
       "      <td>0.28438</td>\n",
       "      <td>0.27647</td>\n",
       "      <td>0.27519</td>\n",
       "      <td>0.27046</td>\n",
       "      <td>0.26918</td>\n",
       "      <td>0.34838</td>\n",
       "      <td>0.35205</td>\n",
       "      <td>0.27944</td>\n",
       "      <td>0.27841</td>\n",
       "    </tr>\n",
       "    <tr>\n",
       "      <th>precision</th>\n",
       "      <td>0.20910</td>\n",
       "      <td>0.20415</td>\n",
       "      <td>0.17417</td>\n",
       "      <td>0.18205</td>\n",
       "      <td>0.17921</td>\n",
       "      <td>0.17187</td>\n",
       "      <td>0.17095</td>\n",
       "      <td>0.16801</td>\n",
       "      <td>0.16691</td>\n",
       "      <td>0.22844</td>\n",
       "      <td>0.23178</td>\n",
       "      <td>0.18356</td>\n",
       "      <td>0.18331</td>\n",
       "    </tr>\n",
       "    <tr>\n",
       "      <th>recall</th>\n",
       "      <td>0.78695</td>\n",
       "      <td>0.77744</td>\n",
       "      <td>0.69386</td>\n",
       "      <td>0.68882</td>\n",
       "      <td>0.68832</td>\n",
       "      <td>0.70645</td>\n",
       "      <td>0.70525</td>\n",
       "      <td>0.69310</td>\n",
       "      <td>0.69512</td>\n",
       "      <td>0.73351</td>\n",
       "      <td>0.73181</td>\n",
       "      <td>0.58510</td>\n",
       "      <td>0.57855</td>\n",
       "    </tr>\n",
       "  </tbody>\n",
       "</table>\n",
       "</div>"
      ]
     },
     "execution_count": 54,
     "metadata": {},
     "output_type": "execute_result"
    }
   ],
   "execution_count": 54
  },
  {
   "cell_type": "markdown",
   "id": "e0c2c3bf1b9b5436",
   "metadata": {},
   "source": [
    "While we have yet to improve the performance of the logistic regression and random forest models beyond baseline levels, we have been able to generate our best performing LightGBM model yet, that would be LGBM2.1 (the model that uses the reduced \"lr\" dataset and some removal of features by SelectPercentile). "
   ]
  },
  {
   "cell_type": "markdown",
   "id": "319aea1c5fb19fa3",
   "metadata": {},
   "source": [
    "### Model Version 3: HYPERPARAMETER TUNING WITH OPTUNA"
   ]
  },
  {
   "cell_type": "markdown",
   "id": "d7544cf118a5146",
   "metadata": {},
   "source": [
    "_note the renaming of X_train_lr to just X_train as this is the best performing dataset yet._"
   ]
  },
  {
   "cell_type": "code",
   "id": "11d503646b1a89d3",
   "metadata": {
    "ExecuteTime": {
     "end_time": "2024-10-01T08:32:45.103161Z",
     "start_time": "2024-10-01T08:32:43.607809Z"
    }
   },
   "source": [
    "X_train = reduce_mem_usage(X_train_lr)\n",
    "X_val = reduce_mem_usage(X_val_lr)\n",
    "X_test = reduce_mem_usage(X_test_lr)\n",
    "kaggle_X_test = reduce_mem_usage(kaggle_X_test_lr)"
   ],
   "outputs": [
    {
     "name": "stdout",
     "output_type": "stream",
     "text": [
      "Memory usage before optimization: 139.11 MB\n"
     ]
    },
    {
     "name": "stderr",
     "output_type": "stream",
     "text": [
      "Optimizing columns: 100%|██████████| 193/193 [00:00<00:00, 468.54it/s]\n"
     ]
    },
    {
     "name": "stdout",
     "output_type": "stream",
     "text": [
      "Memory usage after optimization: 139.11 MB\n",
      "Decreased by 0.0%\n",
      "Memory usage before optimization: 34.02 MB\n"
     ]
    },
    {
     "name": "stderr",
     "output_type": "stream",
     "text": [
      "Optimizing columns: 100%|██████████| 193/193 [00:00<00:00, 1220.70it/s]\n"
     ]
    },
    {
     "name": "stdout",
     "output_type": "stream",
     "text": [
      "Memory usage after optimization: 34.02 MB\n",
      "Decreased by 0.0%\n",
      "Memory usage before optimization: 24.46 MB\n"
     ]
    },
    {
     "name": "stderr",
     "output_type": "stream",
     "text": [
      "Optimizing columns: 100%|██████████| 193/193 [00:00<00:00, 1041.85it/s]\n"
     ]
    },
    {
     "name": "stdout",
     "output_type": "stream",
     "text": [
      "Memory usage after optimization: 24.46 MB\n",
      "Decreased by 0.0%\n",
      "Memory usage before optimization: 19.39 MB\n"
     ]
    },
    {
     "name": "stderr",
     "output_type": "stream",
     "text": [
      "Optimizing columns: 100%|██████████| 193/193 [00:00<00:00, 1211.24it/s]\n"
     ]
    },
    {
     "name": "stdout",
     "output_type": "stream",
     "text": [
      "Memory usage after optimization: 19.39 MB\n",
      "Decreased by 0.0%\n"
     ]
    }
   ],
   "execution_count": 61
  },
  {
   "cell_type": "markdown",
   "id": "938d6f5a0b4121e2",
   "metadata": {},
   "source": [
    "### Define Objective Function"
   ]
  },
  {
   "cell_type": "code",
   "id": "4fcd6c98c96ced6a",
   "metadata": {
    "ExecuteTime": {
     "end_time": "2024-10-01T04:41:07.946516Z",
     "start_time": "2024-10-01T04:41:07.942733Z"
    }
   },
   "source": [
    "def log_int(x, base: int = 2):\n",
    "    return np.floor(np.log(x) / np.log(base)).astype(int)"
   ],
   "outputs": [],
   "execution_count": 56
  },
  {
   "cell_type": "code",
   "id": "9e41bfe45d87ed43",
   "metadata": {
    "ExecuteTime": {
     "end_time": "2024-10-01T04:41:07.952081Z",
     "start_time": "2024-10-01T04:41:07.948516Z"
    }
   },
   "source": [
    "def generate_sample_numbers(y: pd.DataFrame, base: int, n_rungs: int) -> list[int]:\n",
    "\n",
    "    data_size = len(y)\n",
    "    data_scale = log_int(data_size, base)\n",
    "    min_scale = data_scale - n_rungs\n",
    "    min_samples = base**min_scale\n",
    "\n",
    "    return [*map(lambda scale: base**scale, range(min_scale, data_scale + 1))]"
   ],
   "outputs": [],
   "execution_count": 57
  },
  {
   "cell_type": "code",
   "id": "e74f83a60894a73c",
   "metadata": {
    "ExecuteTime": {
     "end_time": "2024-10-01T04:41:07.960493Z",
     "start_time": "2024-10-01T04:41:07.953877Z"
    }
   },
   "source": [
    "def objective(\n",
    "    trial: Trial,\n",
    "    X: pd.DataFrame,\n",
    "    y: np.ndarray | pd.Series,\n",
    "    train_size: float = 0.4,\n",
    "    model_type: Optional[str] = \"rf\",\n",
    "    random_state: int = 42,\n",
    "    k_folds: int = 3,\n",
    "    base: int = 2,\n",
    "    n_rungs: int = 4,\n",
    ") -> float:\n",
    "\n",
    "    X_tune, X_test, y_tune, y_test = train_test_split(\n",
    "        X, y, stratify=y, train_size=train_size, random_state=random_state\n",
    "    )\n",
    "\n",
    "    if model_type == \"lgbm\":\n",
    "        model = instantiate_lgbm_model(trial, X=X_tune, y=y_tune)\n",
    "\n",
    "    if model_type == \"log_reg\":\n",
    "        model = instantiate_logistic_regression_model(trial, X=X_tune)\n",
    "\n",
    "    if model_type == \"rf\":\n",
    "        model = instantiate_random_forest_model(trial, X=X_tune)\n",
    "\n",
    "    n_samples_list = generate_sample_numbers(y_train, base, n_rungs)\n",
    "\n",
    "    for n_samples in n_samples_list:\n",
    "        X_train_sample = X_train.sample(n_samples, random_state=random_state).copy()\n",
    "        y_train_sample = y_train.sample(n_samples, random_state=random_state).copy()\n",
    "\n",
    "        model.fit(X_train_sample, y_train_sample.values.ravel())\n",
    "        score = roc_auc_score(y_test, model.predict_proba(X_test)[:, 1])\n",
    "        trial.report(score, n_samples)\n",
    "\n",
    "        if trial.should_prune():\n",
    "            raise TrialPruned()\n",
    "\n",
    "    kf = KFold(n_splits=k_folds, shuffle=True, random_state=random_state)\n",
    "    roc_auc_scorer = make_scorer(roc_auc_score, response_method=\"predict_proba\")\n",
    "    scores = cross_val_score(model, X_tune, y_tune, scoring=roc_auc_scorer, cv=kf)\n",
    "\n",
    "    return np.min([np.mean(scores), np.median([scores])])"
   ],
   "outputs": [],
   "execution_count": 58
  },
  {
   "cell_type": "markdown",
   "id": "152385417492fef8",
   "metadata": {},
   "source": [
    "Just for this section I will suppress UserWarnings because they occur frequently as some of the columns from one hot encoding are not found in the training set but are in fact found in the validation sets during cross validation"
   ]
  },
  {
   "cell_type": "code",
   "id": "26a1e278caaa5309",
   "metadata": {
    "ExecuteTime": {
     "end_time": "2024-10-01T04:41:07.964866Z",
     "start_time": "2024-10-01T04:41:07.962007Z"
    }
   },
   "source": [
    "import warnings\n",
    "\n",
    "warnings.filterwarnings(\"ignore\", category=UserWarning)"
   ],
   "outputs": [],
   "execution_count": 59
  },
  {
   "cell_type": "markdown",
   "id": "c48dd5b2b0a80b38",
   "metadata": {},
   "source": [
    "#### LGBM"
   ]
  },
  {
   "cell_type": "code",
   "id": "56d670bb882d18f",
   "metadata": {
    "ExecuteTime": {
     "end_time": "2024-10-01T09:47:58.169944Z",
     "start_time": "2024-10-01T08:37:28.548506Z"
    }
   },
   "source": [
    "lgbm_study = create_study(\n",
    "    study_name=\"lgbm_optimization\",\n",
    "    direction=\"maximize\",\n",
    "    pruner=SuccessiveHalvingPruner(),\n",
    "    sampler=RandomSampler(seed=42),\n",
    ")\n",
    "\n",
    "lgbm_study.optimize(\n",
    "    lambda trial: objective(\n",
    "        trial, X_train, y_train, base=2, n_rungs=4, train_size=0.6, model_type=\"lgbm\"\n",
    "    ),\n",
    "    n_trials=100,\n",
    ")"
   ],
   "outputs": [],
   "execution_count": 63
  },
  {
   "cell_type": "code",
   "id": "be637831e443a38e",
   "metadata": {
    "ExecuteTime": {
     "end_time": "2024-10-01T09:51:18.362171Z",
     "start_time": "2024-10-01T09:47:58.172315Z"
    }
   },
   "source": [
    "lgbm_best_trial = lgbm_study.best_trial\n",
    "lgbm_modelv3 = instantiate_lgbm_model(lgbm_best_trial, X=X_train, y=y_train)\n",
    "lgbm_modelv3.set_output(transform=\"pandas\")\n",
    "lgbm_modelv3.fit(X_train, y_train)\n",
    "lgbm_model_train_predv3 = lgbm_modelv3.predict(X_train)\n",
    "lgbm_model_train_perfomance_v3 = model_assessment(y_train, lgbm_model_train_predv3)"
   ],
   "outputs": [
    {
     "name": "stdout",
     "output_type": "stream",
     "text": [
      "AUC-ROC: 0.7680375099997732\n",
      "Accuracy: 0.7460595713545318\n",
      "F1-Score: 0.3355447716545902\n",
      "Precision: 0.21270247947814655\n",
      "Recall: 0.7942472306143001\n"
     ]
    }
   ],
   "execution_count": 64
  },
  {
   "cell_type": "code",
   "id": "812152790a429f10",
   "metadata": {
    "ExecuteTime": {
     "end_time": "2024-10-01T09:51:20.058254Z",
     "start_time": "2024-10-01T09:51:18.363159Z"
    }
   },
   "source": [
    "lgbm_val_predv3 = lgbm_modelv3.predict(X_val)\n",
    "lgbm_val_perfomance_v3 = model_assessment(y_val, lgbm_val_predv3)"
   ],
   "outputs": [
    {
     "name": "stdout",
     "output_type": "stream",
     "text": [
      "AUC-ROC: 0.7056761914431309\n",
      "Accuracy: 0.7274094549002074\n",
      "F1-Score: 0.2870508186264087\n",
      "Precision: 0.18194070080862534\n",
      "Recall: 0.6797583081570997\n"
     ]
    }
   ],
   "execution_count": 65
  },
  {
   "cell_type": "code",
   "id": "b9306a565e1cacb7",
   "metadata": {
    "ExecuteTime": {
     "end_time": "2024-10-01T11:21:49.292914Z",
     "start_time": "2024-10-01T09:51:20.061128Z"
    }
   },
   "source": [
    "log_reg_study = create_study(\n",
    "    study_name=\"log_reg_optimization\",\n",
    "    direction=\"maximize\",\n",
    "    pruner=SuccessiveHalvingPruner(),\n",
    "    sampler=RandomSampler(seed=42),\n",
    ")\n",
    "\n",
    "log_reg_study.optimize(\n",
    "    lambda trial: objective(\n",
    "        trial, X_train, y_train, base=2, n_rungs=4, train_size=0.6, model_type=\"log_reg\"\n",
    "    ),\n",
    "    n_trials=100,\n",
    ")"
   ],
   "outputs": [],
   "execution_count": 66
  },
  {
   "cell_type": "code",
   "id": "72ef6eba6cdcbee9",
   "metadata": {
    "ExecuteTime": {
     "end_time": "2024-10-01T11:31:07.176259Z",
     "start_time": "2024-10-01T11:21:49.295176Z"
    }
   },
   "source": [
    "log_reg_best_trial = log_reg_study.best_trial\n",
    "log_reg_modelv3 = instantiate_logistic_regression_model(log_reg_best_trial, X=X_train)\n",
    "log_reg_modelv3.fit(X_train, y_train)\n",
    "log_reg_model_train_predv3 = log_reg_modelv3.predict(X_train)\n",
    "log_reg_model_train_perfomance_v3 = model_assessment(\n",
    "    y_train, log_reg_model_train_predv3\n",
    ")"
   ],
   "outputs": [
    {
     "name": "stdout",
     "output_type": "stream",
     "text": [
      "AUC-ROC: 0.6994959038043274\n",
      "Accuracy: 0.6984187473959127\n",
      "F1-Score: 0.27282194533269627\n",
      "Precision: 0.16938219767848722\n",
      "Recall: 0.7007804632426989\n"
     ]
    }
   ],
   "execution_count": 67
  },
  {
   "cell_type": "code",
   "id": "c7ef933b5a5ed9b8",
   "metadata": {
    "ExecuteTime": {
     "end_time": "2024-10-01T11:31:08.186380Z",
     "start_time": "2024-10-01T11:31:07.179712Z"
    }
   },
   "source": [
    "log_reg_val_predv3 = log_reg_modelv3.predict(X_val)\n",
    "log_reg_val_perfomance_v3 = model_assessment(y_val, log_reg_val_predv3)"
   ],
   "outputs": [
    {
     "name": "stdout",
     "output_type": "stream",
     "text": [
      "AUC-ROC: 0.6909332884914721\n",
      "Accuracy: 0.6962928336246494\n",
      "F1-Score: 0.266817133604828\n",
      "Precision: 0.16570174904016088\n",
      "Recall: 0.6845417925478349\n"
     ]
    }
   ],
   "execution_count": 68
  },
  {
   "cell_type": "code",
   "id": "d687b544a199a098",
   "metadata": {
    "ExecuteTime": {
     "end_time": "2024-10-01T12:29:03.164346Z",
     "start_time": "2024-10-01T11:31:08.187925Z"
    }
   },
   "source": [
    "rf_study = create_study(\n",
    "    study_name=\"rf_optimization\",\n",
    "    direction=\"maximize\",\n",
    "    pruner=SuccessiveHalvingPruner(),\n",
    "    sampler=RandomSampler(seed=42),\n",
    ")\n",
    "\n",
    "rf_study.optimize(\n",
    "    lambda trial: objective(\n",
    "        trial, X_train, y_train, base=2, n_rungs=4, train_size=0.6, model_type=\"rf\"\n",
    "    ),\n",
    "    n_trials=100,\n",
    ")"
   ],
   "outputs": [],
   "execution_count": 69
  },
  {
   "cell_type": "code",
   "id": "5b001e046e3543df",
   "metadata": {
    "ExecuteTime": {
     "end_time": "2024-10-01T12:32:28.157288Z",
     "start_time": "2024-10-01T12:29:03.166324Z"
    }
   },
   "source": [
    "rf_best_trial = rf_study.best_trial\n",
    "rf_modelv3 = instantiate_random_forest_model(rf_best_trial, X=X_train)\n",
    "rf_modelv3.fit(X_train, y_train)"
   ],
   "outputs": [
    {
     "name": "stderr",
     "output_type": "stream",
     "text": [
      "/Users/migueldiaz/home-credit/lib/python3.11/site-packages/sklearn/compose/_column_transformer.py:1623: FutureWarning: \n",
      "The format of the columns of the 'remainder' transformer in ColumnTransformer.transformers_ will change in version 1.7 to match the format of the other transformers.\n",
      "At the moment the remainder columns are stored as indices (of type int). With the same ColumnTransformer configuration, in the future they will be stored as column names (of type str).\n",
      "To use the new behavior now and suppress this warning, use ColumnTransformer(force_int_remainder_cols=False).\n",
      "\n",
      "  warnings.warn(\n"
     ]
    },
    {
     "data": {
      "text/plain": [
       "Pipeline(steps=[('imputer',\n",
       "                 ColumnTransformer(remainder='passthrough',\n",
       "                                   transformers=[('categorical_imputation',\n",
       "                                                  SimpleImputer(fill_value='unknown',\n",
       "                                                                strategy='constant'),\n",
       "                                                  []),\n",
       "                                                 ('numerical_imputation',\n",
       "                                                  SimpleImputer(fill_value=0,\n",
       "                                                                strategy='constant'),\n",
       "                                                  ['AMT_CREDIT', 'AMT_ANNUITY',\n",
       "                                                   'AMT_CREDIT_div_AMT_ANNUITY',\n",
       "                                                   'AMT_INCOME_TOTAL',\n",
       "                                                   'AMT_ANNUITY_div_AMT_INCOME_TOTAL...\n",
       "                                                   'DAYS_INSTALMENT_max', ...])],\n",
       "                                   verbose_feature_names_out=False)),\n",
       "                ('feature_selector',\n",
       "                 SelectPercentile(percentile=39,\n",
       "                                  score_func=<function mutual_info_classif at 0x123b40d60>)),\n",
       "                ('model',\n",
       "                 RandomForestClassifier(class_weight='balanced', max_depth=4,\n",
       "                                        max_features='log2',\n",
       "                                        min_samples_leaf=0.018221825651549728,\n",
       "                                        min_samples_split=0.10077800137742665,\n",
       "                                        n_estimators=1942, n_jobs=-1))])"
      ],
      "text/html": [
       "<style>#sk-container-id-1 {\n",
       "  /* Definition of color scheme common for light and dark mode */\n",
       "  --sklearn-color-text: black;\n",
       "  --sklearn-color-line: gray;\n",
       "  /* Definition of color scheme for unfitted estimators */\n",
       "  --sklearn-color-unfitted-level-0: #fff5e6;\n",
       "  --sklearn-color-unfitted-level-1: #f6e4d2;\n",
       "  --sklearn-color-unfitted-level-2: #ffe0b3;\n",
       "  --sklearn-color-unfitted-level-3: chocolate;\n",
       "  /* Definition of color scheme for fitted estimators */\n",
       "  --sklearn-color-fitted-level-0: #f0f8ff;\n",
       "  --sklearn-color-fitted-level-1: #d4ebff;\n",
       "  --sklearn-color-fitted-level-2: #b3dbfd;\n",
       "  --sklearn-color-fitted-level-3: cornflowerblue;\n",
       "\n",
       "  /* Specific color for light theme */\n",
       "  --sklearn-color-text-on-default-background: var(--sg-text-color, var(--theme-code-foreground, var(--jp-content-font-color1, black)));\n",
       "  --sklearn-color-background: var(--sg-background-color, var(--theme-background, var(--jp-layout-color0, white)));\n",
       "  --sklearn-color-border-box: var(--sg-text-color, var(--theme-code-foreground, var(--jp-content-font-color1, black)));\n",
       "  --sklearn-color-icon: #696969;\n",
       "\n",
       "  @media (prefers-color-scheme: dark) {\n",
       "    /* Redefinition of color scheme for dark theme */\n",
       "    --sklearn-color-text-on-default-background: var(--sg-text-color, var(--theme-code-foreground, var(--jp-content-font-color1, white)));\n",
       "    --sklearn-color-background: var(--sg-background-color, var(--theme-background, var(--jp-layout-color0, #111)));\n",
       "    --sklearn-color-border-box: var(--sg-text-color, var(--theme-code-foreground, var(--jp-content-font-color1, white)));\n",
       "    --sklearn-color-icon: #878787;\n",
       "  }\n",
       "}\n",
       "\n",
       "#sk-container-id-1 {\n",
       "  color: var(--sklearn-color-text);\n",
       "}\n",
       "\n",
       "#sk-container-id-1 pre {\n",
       "  padding: 0;\n",
       "}\n",
       "\n",
       "#sk-container-id-1 input.sk-hidden--visually {\n",
       "  border: 0;\n",
       "  clip: rect(1px 1px 1px 1px);\n",
       "  clip: rect(1px, 1px, 1px, 1px);\n",
       "  height: 1px;\n",
       "  margin: -1px;\n",
       "  overflow: hidden;\n",
       "  padding: 0;\n",
       "  position: absolute;\n",
       "  width: 1px;\n",
       "}\n",
       "\n",
       "#sk-container-id-1 div.sk-dashed-wrapped {\n",
       "  border: 1px dashed var(--sklearn-color-line);\n",
       "  margin: 0 0.4em 0.5em 0.4em;\n",
       "  box-sizing: border-box;\n",
       "  padding-bottom: 0.4em;\n",
       "  background-color: var(--sklearn-color-background);\n",
       "}\n",
       "\n",
       "#sk-container-id-1 div.sk-container {\n",
       "  /* jupyter's `normalize.less` sets `[hidden] { display: none; }`\n",
       "     but bootstrap.min.css set `[hidden] { display: none !important; }`\n",
       "     so we also need the `!important` here to be able to override the\n",
       "     default hidden behavior on the sphinx rendered scikit-learn.org.\n",
       "     See: https://github.com/scikit-learn/scikit-learn/issues/21755 */\n",
       "  display: inline-block !important;\n",
       "  position: relative;\n",
       "}\n",
       "\n",
       "#sk-container-id-1 div.sk-text-repr-fallback {\n",
       "  display: none;\n",
       "}\n",
       "\n",
       "div.sk-parallel-item,\n",
       "div.sk-serial,\n",
       "div.sk-item {\n",
       "  /* draw centered vertical line to link estimators */\n",
       "  background-image: linear-gradient(var(--sklearn-color-text-on-default-background), var(--sklearn-color-text-on-default-background));\n",
       "  background-size: 2px 100%;\n",
       "  background-repeat: no-repeat;\n",
       "  background-position: center center;\n",
       "}\n",
       "\n",
       "/* Parallel-specific style estimator block */\n",
       "\n",
       "#sk-container-id-1 div.sk-parallel-item::after {\n",
       "  content: \"\";\n",
       "  width: 100%;\n",
       "  border-bottom: 2px solid var(--sklearn-color-text-on-default-background);\n",
       "  flex-grow: 1;\n",
       "}\n",
       "\n",
       "#sk-container-id-1 div.sk-parallel {\n",
       "  display: flex;\n",
       "  align-items: stretch;\n",
       "  justify-content: center;\n",
       "  background-color: var(--sklearn-color-background);\n",
       "  position: relative;\n",
       "}\n",
       "\n",
       "#sk-container-id-1 div.sk-parallel-item {\n",
       "  display: flex;\n",
       "  flex-direction: column;\n",
       "}\n",
       "\n",
       "#sk-container-id-1 div.sk-parallel-item:first-child::after {\n",
       "  align-self: flex-end;\n",
       "  width: 50%;\n",
       "}\n",
       "\n",
       "#sk-container-id-1 div.sk-parallel-item:last-child::after {\n",
       "  align-self: flex-start;\n",
       "  width: 50%;\n",
       "}\n",
       "\n",
       "#sk-container-id-1 div.sk-parallel-item:only-child::after {\n",
       "  width: 0;\n",
       "}\n",
       "\n",
       "/* Serial-specific style estimator block */\n",
       "\n",
       "#sk-container-id-1 div.sk-serial {\n",
       "  display: flex;\n",
       "  flex-direction: column;\n",
       "  align-items: center;\n",
       "  background-color: var(--sklearn-color-background);\n",
       "  padding-right: 1em;\n",
       "  padding-left: 1em;\n",
       "}\n",
       "\n",
       "\n",
       "/* Toggleable style: style used for estimator/Pipeline/ColumnTransformer box that is\n",
       "clickable and can be expanded/collapsed.\n",
       "- Pipeline and ColumnTransformer use this feature and define the default style\n",
       "- Estimators will overwrite some part of the style using the `sk-estimator` class\n",
       "*/\n",
       "\n",
       "/* Pipeline and ColumnTransformer style (default) */\n",
       "\n",
       "#sk-container-id-1 div.sk-toggleable {\n",
       "  /* Default theme specific background. It is overwritten whether we have a\n",
       "  specific estimator or a Pipeline/ColumnTransformer */\n",
       "  background-color: var(--sklearn-color-background);\n",
       "}\n",
       "\n",
       "/* Toggleable label */\n",
       "#sk-container-id-1 label.sk-toggleable__label {\n",
       "  cursor: pointer;\n",
       "  display: block;\n",
       "  width: 100%;\n",
       "  margin-bottom: 0;\n",
       "  padding: 0.5em;\n",
       "  box-sizing: border-box;\n",
       "  text-align: center;\n",
       "}\n",
       "\n",
       "#sk-container-id-1 label.sk-toggleable__label-arrow:before {\n",
       "  /* Arrow on the left of the label */\n",
       "  content: \"▸\";\n",
       "  float: left;\n",
       "  margin-right: 0.25em;\n",
       "  color: var(--sklearn-color-icon);\n",
       "}\n",
       "\n",
       "#sk-container-id-1 label.sk-toggleable__label-arrow:hover:before {\n",
       "  color: var(--sklearn-color-text);\n",
       "}\n",
       "\n",
       "/* Toggleable content - dropdown */\n",
       "\n",
       "#sk-container-id-1 div.sk-toggleable__content {\n",
       "  max-height: 0;\n",
       "  max-width: 0;\n",
       "  overflow: hidden;\n",
       "  text-align: left;\n",
       "  /* unfitted */\n",
       "  background-color: var(--sklearn-color-unfitted-level-0);\n",
       "}\n",
       "\n",
       "#sk-container-id-1 div.sk-toggleable__content.fitted {\n",
       "  /* fitted */\n",
       "  background-color: var(--sklearn-color-fitted-level-0);\n",
       "}\n",
       "\n",
       "#sk-container-id-1 div.sk-toggleable__content pre {\n",
       "  margin: 0.2em;\n",
       "  border-radius: 0.25em;\n",
       "  color: var(--sklearn-color-text);\n",
       "  /* unfitted */\n",
       "  background-color: var(--sklearn-color-unfitted-level-0);\n",
       "}\n",
       "\n",
       "#sk-container-id-1 div.sk-toggleable__content.fitted pre {\n",
       "  /* unfitted */\n",
       "  background-color: var(--sklearn-color-fitted-level-0);\n",
       "}\n",
       "\n",
       "#sk-container-id-1 input.sk-toggleable__control:checked~div.sk-toggleable__content {\n",
       "  /* Expand drop-down */\n",
       "  max-height: 200px;\n",
       "  max-width: 100%;\n",
       "  overflow: auto;\n",
       "}\n",
       "\n",
       "#sk-container-id-1 input.sk-toggleable__control:checked~label.sk-toggleable__label-arrow:before {\n",
       "  content: \"▾\";\n",
       "}\n",
       "\n",
       "/* Pipeline/ColumnTransformer-specific style */\n",
       "\n",
       "#sk-container-id-1 div.sk-label input.sk-toggleable__control:checked~label.sk-toggleable__label {\n",
       "  color: var(--sklearn-color-text);\n",
       "  background-color: var(--sklearn-color-unfitted-level-2);\n",
       "}\n",
       "\n",
       "#sk-container-id-1 div.sk-label.fitted input.sk-toggleable__control:checked~label.sk-toggleable__label {\n",
       "  background-color: var(--sklearn-color-fitted-level-2);\n",
       "}\n",
       "\n",
       "/* Estimator-specific style */\n",
       "\n",
       "/* Colorize estimator box */\n",
       "#sk-container-id-1 div.sk-estimator input.sk-toggleable__control:checked~label.sk-toggleable__label {\n",
       "  /* unfitted */\n",
       "  background-color: var(--sklearn-color-unfitted-level-2);\n",
       "}\n",
       "\n",
       "#sk-container-id-1 div.sk-estimator.fitted input.sk-toggleable__control:checked~label.sk-toggleable__label {\n",
       "  /* fitted */\n",
       "  background-color: var(--sklearn-color-fitted-level-2);\n",
       "}\n",
       "\n",
       "#sk-container-id-1 div.sk-label label.sk-toggleable__label,\n",
       "#sk-container-id-1 div.sk-label label {\n",
       "  /* The background is the default theme color */\n",
       "  color: var(--sklearn-color-text-on-default-background);\n",
       "}\n",
       "\n",
       "/* On hover, darken the color of the background */\n",
       "#sk-container-id-1 div.sk-label:hover label.sk-toggleable__label {\n",
       "  color: var(--sklearn-color-text);\n",
       "  background-color: var(--sklearn-color-unfitted-level-2);\n",
       "}\n",
       "\n",
       "/* Label box, darken color on hover, fitted */\n",
       "#sk-container-id-1 div.sk-label.fitted:hover label.sk-toggleable__label.fitted {\n",
       "  color: var(--sklearn-color-text);\n",
       "  background-color: var(--sklearn-color-fitted-level-2);\n",
       "}\n",
       "\n",
       "/* Estimator label */\n",
       "\n",
       "#sk-container-id-1 div.sk-label label {\n",
       "  font-family: monospace;\n",
       "  font-weight: bold;\n",
       "  display: inline-block;\n",
       "  line-height: 1.2em;\n",
       "}\n",
       "\n",
       "#sk-container-id-1 div.sk-label-container {\n",
       "  text-align: center;\n",
       "}\n",
       "\n",
       "/* Estimator-specific */\n",
       "#sk-container-id-1 div.sk-estimator {\n",
       "  font-family: monospace;\n",
       "  border: 1px dotted var(--sklearn-color-border-box);\n",
       "  border-radius: 0.25em;\n",
       "  box-sizing: border-box;\n",
       "  margin-bottom: 0.5em;\n",
       "  /* unfitted */\n",
       "  background-color: var(--sklearn-color-unfitted-level-0);\n",
       "}\n",
       "\n",
       "#sk-container-id-1 div.sk-estimator.fitted {\n",
       "  /* fitted */\n",
       "  background-color: var(--sklearn-color-fitted-level-0);\n",
       "}\n",
       "\n",
       "/* on hover */\n",
       "#sk-container-id-1 div.sk-estimator:hover {\n",
       "  /* unfitted */\n",
       "  background-color: var(--sklearn-color-unfitted-level-2);\n",
       "}\n",
       "\n",
       "#sk-container-id-1 div.sk-estimator.fitted:hover {\n",
       "  /* fitted */\n",
       "  background-color: var(--sklearn-color-fitted-level-2);\n",
       "}\n",
       "\n",
       "/* Specification for estimator info (e.g. \"i\" and \"?\") */\n",
       "\n",
       "/* Common style for \"i\" and \"?\" */\n",
       "\n",
       ".sk-estimator-doc-link,\n",
       "a:link.sk-estimator-doc-link,\n",
       "a:visited.sk-estimator-doc-link {\n",
       "  float: right;\n",
       "  font-size: smaller;\n",
       "  line-height: 1em;\n",
       "  font-family: monospace;\n",
       "  background-color: var(--sklearn-color-background);\n",
       "  border-radius: 1em;\n",
       "  height: 1em;\n",
       "  width: 1em;\n",
       "  text-decoration: none !important;\n",
       "  margin-left: 1ex;\n",
       "  /* unfitted */\n",
       "  border: var(--sklearn-color-unfitted-level-1) 1pt solid;\n",
       "  color: var(--sklearn-color-unfitted-level-1);\n",
       "}\n",
       "\n",
       ".sk-estimator-doc-link.fitted,\n",
       "a:link.sk-estimator-doc-link.fitted,\n",
       "a:visited.sk-estimator-doc-link.fitted {\n",
       "  /* fitted */\n",
       "  border: var(--sklearn-color-fitted-level-1) 1pt solid;\n",
       "  color: var(--sklearn-color-fitted-level-1);\n",
       "}\n",
       "\n",
       "/* On hover */\n",
       "div.sk-estimator:hover .sk-estimator-doc-link:hover,\n",
       ".sk-estimator-doc-link:hover,\n",
       "div.sk-label-container:hover .sk-estimator-doc-link:hover,\n",
       ".sk-estimator-doc-link:hover {\n",
       "  /* unfitted */\n",
       "  background-color: var(--sklearn-color-unfitted-level-3);\n",
       "  color: var(--sklearn-color-background);\n",
       "  text-decoration: none;\n",
       "}\n",
       "\n",
       "div.sk-estimator.fitted:hover .sk-estimator-doc-link.fitted:hover,\n",
       ".sk-estimator-doc-link.fitted:hover,\n",
       "div.sk-label-container:hover .sk-estimator-doc-link.fitted:hover,\n",
       ".sk-estimator-doc-link.fitted:hover {\n",
       "  /* fitted */\n",
       "  background-color: var(--sklearn-color-fitted-level-3);\n",
       "  color: var(--sklearn-color-background);\n",
       "  text-decoration: none;\n",
       "}\n",
       "\n",
       "/* Span, style for the box shown on hovering the info icon */\n",
       ".sk-estimator-doc-link span {\n",
       "  display: none;\n",
       "  z-index: 9999;\n",
       "  position: relative;\n",
       "  font-weight: normal;\n",
       "  right: .2ex;\n",
       "  padding: .5ex;\n",
       "  margin: .5ex;\n",
       "  width: min-content;\n",
       "  min-width: 20ex;\n",
       "  max-width: 50ex;\n",
       "  color: var(--sklearn-color-text);\n",
       "  box-shadow: 2pt 2pt 4pt #999;\n",
       "  /* unfitted */\n",
       "  background: var(--sklearn-color-unfitted-level-0);\n",
       "  border: .5pt solid var(--sklearn-color-unfitted-level-3);\n",
       "}\n",
       "\n",
       ".sk-estimator-doc-link.fitted span {\n",
       "  /* fitted */\n",
       "  background: var(--sklearn-color-fitted-level-0);\n",
       "  border: var(--sklearn-color-fitted-level-3);\n",
       "}\n",
       "\n",
       ".sk-estimator-doc-link:hover span {\n",
       "  display: block;\n",
       "}\n",
       "\n",
       "/* \"?\"-specific style due to the `<a>` HTML tag */\n",
       "\n",
       "#sk-container-id-1 a.estimator_doc_link {\n",
       "  float: right;\n",
       "  font-size: 1rem;\n",
       "  line-height: 1em;\n",
       "  font-family: monospace;\n",
       "  background-color: var(--sklearn-color-background);\n",
       "  border-radius: 1rem;\n",
       "  height: 1rem;\n",
       "  width: 1rem;\n",
       "  text-decoration: none;\n",
       "  /* unfitted */\n",
       "  color: var(--sklearn-color-unfitted-level-1);\n",
       "  border: var(--sklearn-color-unfitted-level-1) 1pt solid;\n",
       "}\n",
       "\n",
       "#sk-container-id-1 a.estimator_doc_link.fitted {\n",
       "  /* fitted */\n",
       "  border: var(--sklearn-color-fitted-level-1) 1pt solid;\n",
       "  color: var(--sklearn-color-fitted-level-1);\n",
       "}\n",
       "\n",
       "/* On hover */\n",
       "#sk-container-id-1 a.estimator_doc_link:hover {\n",
       "  /* unfitted */\n",
       "  background-color: var(--sklearn-color-unfitted-level-3);\n",
       "  color: var(--sklearn-color-background);\n",
       "  text-decoration: none;\n",
       "}\n",
       "\n",
       "#sk-container-id-1 a.estimator_doc_link.fitted:hover {\n",
       "  /* fitted */\n",
       "  background-color: var(--sklearn-color-fitted-level-3);\n",
       "}\n",
       "</style><div id=\"sk-container-id-1\" class=\"sk-top-container\"><div class=\"sk-text-repr-fallback\"><pre>Pipeline(steps=[(&#x27;imputer&#x27;,\n",
       "                 ColumnTransformer(remainder=&#x27;passthrough&#x27;,\n",
       "                                   transformers=[(&#x27;categorical_imputation&#x27;,\n",
       "                                                  SimpleImputer(fill_value=&#x27;unknown&#x27;,\n",
       "                                                                strategy=&#x27;constant&#x27;),\n",
       "                                                  []),\n",
       "                                                 (&#x27;numerical_imputation&#x27;,\n",
       "                                                  SimpleImputer(fill_value=0,\n",
       "                                                                strategy=&#x27;constant&#x27;),\n",
       "                                                  [&#x27;AMT_CREDIT&#x27;, &#x27;AMT_ANNUITY&#x27;,\n",
       "                                                   &#x27;AMT_CREDIT_div_AMT_ANNUITY&#x27;,\n",
       "                                                   &#x27;AMT_INCOME_TOTAL&#x27;,\n",
       "                                                   &#x27;AMT_ANNUITY_div_AMT_INCOME_TOTAL...\n",
       "                                                   &#x27;DAYS_INSTALMENT_max&#x27;, ...])],\n",
       "                                   verbose_feature_names_out=False)),\n",
       "                (&#x27;feature_selector&#x27;,\n",
       "                 SelectPercentile(percentile=39,\n",
       "                                  score_func=&lt;function mutual_info_classif at 0x123b40d60&gt;)),\n",
       "                (&#x27;model&#x27;,\n",
       "                 RandomForestClassifier(class_weight=&#x27;balanced&#x27;, max_depth=4,\n",
       "                                        max_features=&#x27;log2&#x27;,\n",
       "                                        min_samples_leaf=0.018221825651549728,\n",
       "                                        min_samples_split=0.10077800137742665,\n",
       "                                        n_estimators=1942, n_jobs=-1))])</pre><b>In a Jupyter environment, please rerun this cell to show the HTML representation or trust the notebook. <br />On GitHub, the HTML representation is unable to render, please try loading this page with nbviewer.org.</b></div><div class=\"sk-container\" hidden><div class=\"sk-item sk-dashed-wrapped\"><div class=\"sk-label-container\"><div class=\"sk-label fitted sk-toggleable\"><input class=\"sk-toggleable__control sk-hidden--visually\" id=\"sk-estimator-id-1\" type=\"checkbox\" ><label for=\"sk-estimator-id-1\" class=\"sk-toggleable__label fitted sk-toggleable__label-arrow fitted\">&nbsp;&nbsp;Pipeline<a class=\"sk-estimator-doc-link fitted\" rel=\"noreferrer\" target=\"_blank\" href=\"https://scikit-learn.org/1.5/modules/generated/sklearn.pipeline.Pipeline.html\">?<span>Documentation for Pipeline</span></a><span class=\"sk-estimator-doc-link fitted\">i<span>Fitted</span></span></label><div class=\"sk-toggleable__content fitted\"><pre>Pipeline(steps=[(&#x27;imputer&#x27;,\n",
       "                 ColumnTransformer(remainder=&#x27;passthrough&#x27;,\n",
       "                                   transformers=[(&#x27;categorical_imputation&#x27;,\n",
       "                                                  SimpleImputer(fill_value=&#x27;unknown&#x27;,\n",
       "                                                                strategy=&#x27;constant&#x27;),\n",
       "                                                  []),\n",
       "                                                 (&#x27;numerical_imputation&#x27;,\n",
       "                                                  SimpleImputer(fill_value=0,\n",
       "                                                                strategy=&#x27;constant&#x27;),\n",
       "                                                  [&#x27;AMT_CREDIT&#x27;, &#x27;AMT_ANNUITY&#x27;,\n",
       "                                                   &#x27;AMT_CREDIT_div_AMT_ANNUITY&#x27;,\n",
       "                                                   &#x27;AMT_INCOME_TOTAL&#x27;,\n",
       "                                                   &#x27;AMT_ANNUITY_div_AMT_INCOME_TOTAL...\n",
       "                                                   &#x27;DAYS_INSTALMENT_max&#x27;, ...])],\n",
       "                                   verbose_feature_names_out=False)),\n",
       "                (&#x27;feature_selector&#x27;,\n",
       "                 SelectPercentile(percentile=39,\n",
       "                                  score_func=&lt;function mutual_info_classif at 0x123b40d60&gt;)),\n",
       "                (&#x27;model&#x27;,\n",
       "                 RandomForestClassifier(class_weight=&#x27;balanced&#x27;, max_depth=4,\n",
       "                                        max_features=&#x27;log2&#x27;,\n",
       "                                        min_samples_leaf=0.018221825651549728,\n",
       "                                        min_samples_split=0.10077800137742665,\n",
       "                                        n_estimators=1942, n_jobs=-1))])</pre></div> </div></div><div class=\"sk-serial\"><div class=\"sk-item sk-dashed-wrapped\"><div class=\"sk-label-container\"><div class=\"sk-label fitted sk-toggleable\"><input class=\"sk-toggleable__control sk-hidden--visually\" id=\"sk-estimator-id-2\" type=\"checkbox\" ><label for=\"sk-estimator-id-2\" class=\"sk-toggleable__label fitted sk-toggleable__label-arrow fitted\">&nbsp;imputer: ColumnTransformer<a class=\"sk-estimator-doc-link fitted\" rel=\"noreferrer\" target=\"_blank\" href=\"https://scikit-learn.org/1.5/modules/generated/sklearn.compose.ColumnTransformer.html\">?<span>Documentation for imputer: ColumnTransformer</span></a></label><div class=\"sk-toggleable__content fitted\"><pre>ColumnTransformer(remainder=&#x27;passthrough&#x27;,\n",
       "                  transformers=[(&#x27;categorical_imputation&#x27;,\n",
       "                                 SimpleImputer(fill_value=&#x27;unknown&#x27;,\n",
       "                                               strategy=&#x27;constant&#x27;),\n",
       "                                 []),\n",
       "                                (&#x27;numerical_imputation&#x27;,\n",
       "                                 SimpleImputer(fill_value=0,\n",
       "                                               strategy=&#x27;constant&#x27;),\n",
       "                                 [&#x27;AMT_CREDIT&#x27;, &#x27;AMT_ANNUITY&#x27;,\n",
       "                                  &#x27;AMT_CREDIT_div_AMT_ANNUITY&#x27;,\n",
       "                                  &#x27;AMT_INCOME_TOTAL&#x27;,\n",
       "                                  &#x27;AMT_ANNUITY_div_AMT_INCOME_TOTAL&#x27;,\n",
       "                                  &#x27;AMT_ANNUITY_log&#x27;,\n",
       "                                  &#x27;AMT_AN...\n",
       "                                  &#x27;AMT_REQ_CREDIT_BUREAU_WEEK&#x27;,\n",
       "                                  &#x27;AMT_REQ_CREDIT_BUREAU_YEAR&#x27;,\n",
       "                                  &#x27;EXT_SOURCE_MEAN&#x27;, &#x27;EXT_SOURCE_STD&#x27;,\n",
       "                                  &#x27;DAYS_EMPLOYED&#x27;, &#x27;AMT_PAYMENT_min&#x27;,\n",
       "                                  &#x27;CNT_INSTALMENT_FUTURE_std&#x27;,\n",
       "                                  &#x27;n_old_credit_balances_log&#x27;,\n",
       "                                  &#x27;n_prev_apps_log&#x27;, &#x27;n_prev_payments_log&#x27;,\n",
       "                                  &#x27;AMT_PAYMENT_min_log&#x27;, &#x27;DAYS_CREDIT_max&#x27;,\n",
       "                                  &#x27;DAYS_CREDIT_UPDATE_mean&#x27;,\n",
       "                                  &#x27;DAYS_INSTALMENT_max&#x27;, ...])],\n",
       "                  verbose_feature_names_out=False)</pre></div> </div></div><div class=\"sk-parallel\"><div class=\"sk-parallel-item\"><div class=\"sk-item\"><div class=\"sk-label-container\"><div class=\"sk-label fitted sk-toggleable\"><input class=\"sk-toggleable__control sk-hidden--visually\" id=\"sk-estimator-id-3\" type=\"checkbox\" ><label for=\"sk-estimator-id-3\" class=\"sk-toggleable__label fitted sk-toggleable__label-arrow fitted\">categorical_imputation</label><div class=\"sk-toggleable__content fitted\"><pre>[]</pre></div> </div></div><div class=\"sk-serial\"><div class=\"sk-item\"><div class=\"sk-estimator fitted sk-toggleable\"><input class=\"sk-toggleable__control sk-hidden--visually\" id=\"sk-estimator-id-4\" type=\"checkbox\" ><label for=\"sk-estimator-id-4\" class=\"sk-toggleable__label fitted sk-toggleable__label-arrow fitted\">&nbsp;SimpleImputer<a class=\"sk-estimator-doc-link fitted\" rel=\"noreferrer\" target=\"_blank\" href=\"https://scikit-learn.org/1.5/modules/generated/sklearn.impute.SimpleImputer.html\">?<span>Documentation for SimpleImputer</span></a></label><div class=\"sk-toggleable__content fitted\"><pre>SimpleImputer(fill_value=&#x27;unknown&#x27;, strategy=&#x27;constant&#x27;)</pre></div> </div></div></div></div></div><div class=\"sk-parallel-item\"><div class=\"sk-item\"><div class=\"sk-label-container\"><div class=\"sk-label fitted sk-toggleable\"><input class=\"sk-toggleable__control sk-hidden--visually\" id=\"sk-estimator-id-5\" type=\"checkbox\" ><label for=\"sk-estimator-id-5\" class=\"sk-toggleable__label fitted sk-toggleable__label-arrow fitted\">numerical_imputation</label><div class=\"sk-toggleable__content fitted\"><pre>[&#x27;AMT_CREDIT&#x27;, &#x27;AMT_ANNUITY&#x27;, &#x27;AMT_CREDIT_div_AMT_ANNUITY&#x27;, &#x27;AMT_INCOME_TOTAL&#x27;, &#x27;AMT_ANNUITY_div_AMT_INCOME_TOTAL&#x27;, &#x27;AMT_ANNUITY_log&#x27;, &#x27;AMT_ANNUITY_log_div_AMT_INCOME_TOTAL&#x27;, &#x27;HOUR_APPR_PROCESS_START_sin&#x27;, &#x27;nFLAGS_ALL_ZEROS&#x27;, &#x27;EXT_SOURCE_1&#x27;, &#x27;EXT_SOURCE_2&#x27;, &#x27;EXT_SOURCE_3&#x27;, &#x27;AMT_REQ_CREDIT_BUREAU_DAY&#x27;, &#x27;AMT_REQ_CREDIT_BUREAU_HOUR&#x27;, &#x27;AMT_REQ_CREDIT_BUREAU_MON&#x27;, &#x27;AMT_REQ_CREDIT_BUREAU_QRT&#x27;, &#x27;AMT_REQ_CREDIT_BUREAU_WEEK&#x27;, &#x27;AMT_REQ_CREDIT_BUREAU_YEAR&#x27;, &#x27;EXT_SOURCE_MEAN&#x27;, &#x27;EXT_SOURCE_STD&#x27;, &#x27;DAYS_EMPLOYED&#x27;, &#x27;AMT_PAYMENT_min&#x27;, &#x27;CNT_INSTALMENT_FUTURE_std&#x27;, &#x27;n_old_credit_balances_log&#x27;, &#x27;n_prev_apps_log&#x27;, &#x27;n_prev_payments_log&#x27;, &#x27;AMT_PAYMENT_min_log&#x27;, &#x27;DAYS_CREDIT_max&#x27;, &#x27;DAYS_CREDIT_UPDATE_mean&#x27;, &#x27;DAYS_INSTALMENT_max&#x27;, &#x27;DAYS_CREDIT_ENDDATE_mean_log&#x27;, &#x27;CNT_CHILDREN&#x27;, &#x27;REGION_POPULATION_RELATIVE&#x27;, &#x27;DAYS_BIRTH&#x27;, &#x27;DAYS_REGISTRATION&#x27;, &#x27;DAYS_ID_PUBLISH&#x27;, &#x27;OWN_CAR_AGE&#x27;, &#x27;REGION_RATING_CLIENT&#x27;, &#x27;YEARS_BUILD_AVG&#x27;, &#x27;ENTRANCES_AVG&#x27;, &#x27;FLOORSMAX_AVG&#x27;, &#x27;LANDAREA_AVG&#x27;, &#x27;NONLIVINGAPARTMENTS_AVG&#x27;, &#x27;NONLIVINGAREA_AVG&#x27;, &#x27;BASEMENTAREA_MODE&#x27;, &#x27;YEARS_BEGINEXPLUATATION_MODE&#x27;, &#x27;LIVINGAPARTMENTS_MODE&#x27;, &#x27;COMMONAREA_MEDI&#x27;, &#x27;OBS_30_CNT_SOCIAL_CIRCLE&#x27;, &#x27;DEF_30_CNT_SOCIAL_CIRCLE&#x27;, &#x27;DAYS_LAST_PHONE_CHANGE&#x27;, &#x27;AMT_ANNUITY_max_x&#x27;, &#x27;AMT_CREDIT_MAX_OVERDUE_max&#x27;, &#x27;AMT_CREDIT_MAX_OVERDUE_std&#x27;, &#x27;AMT_CREDIT_SUM_median&#x27;, &#x27;AMT_CREDIT_SUM_DEBT_max&#x27;, &#x27;AMT_CREDIT_SUM_DEBT_std&#x27;, &#x27;AMT_CREDIT_SUM_LIMIT_max&#x27;, &#x27;AMT_CREDIT_SUM_LIMIT_mean&#x27;, &#x27;AMT_CREDIT_SUM_OVERDUE_max&#x27;, &#x27;CREDIT_DAY_OVERDUE_std&#x27;, &#x27;DAYS_CREDIT_min&#x27;, &#x27;DAYS_CREDIT_std&#x27;, &#x27;DAYS_CREDIT_ENDDATE_min&#x27;, &#x27;DAYS_CREDIT_ENDDATE_max&#x27;, &#x27;DAYS_CREDIT_UPDATE_max&#x27;, &#x27;DAYS_ENDDATE_FACT_max&#x27;, &#x27;MONTHS_BALANCE_mean_mean&#x27;, &#x27;STATUS_1_cts_max&#x27;, &#x27;STATUS_1_cts_mean&#x27;, &#x27;STATUS_1_cts_std&#x27;, &#x27;CREDIT_ACTIVE_Active_cts&#x27;, &#x27;CREDIT_TYPE_Consumer_credit_cts&#x27;, &#x27;CREDIT_TYPE_Credit_card_cts&#x27;, &#x27;CREDIT_TYPE_Microloan_cts&#x27;, &#x27;CREDIT_TYPE_Mortgage_cts&#x27;, &#x27;AMT_CREDIT_LIMIT_ACTUAL_median&#x27;, &#x27;AMT_CREDIT_LIMIT_ACTUAL_std&#x27;, &#x27;AMT_DRAWINGS_ATM_CURRENT_max&#x27;, &#x27;AMT_DRAWINGS_ATM_CURRENT_mean&#x27;, &#x27;AMT_DRAWINGS_CURRENT_std&#x27;, &#x27;AMT_DRAWINGS_POS_CURRENT_mean&#x27;, &#x27;AMT_DRAWINGS_POS_CURRENT_std&#x27;, &#x27;AMT_PAYMENT_TOTAL_CURRENT_max&#x27;, &#x27;AMT_RECEIVABLE_PRINCIPAL_max&#x27;, &#x27;AMT_RECIVABLE_min&#x27;, &#x27;AMT_RECIVABLE_median&#x27;, &#x27;CNT_DRAWINGS_ATM_CURRENT_mean&#x27;, &#x27;CNT_DRAWINGS_ATM_CURRENT_std&#x27;, &#x27;CNT_DRAWINGS_CURRENT_max&#x27;, &#x27;CNT_DRAWINGS_CURRENT_mean&#x27;, &#x27;CNT_INSTALMENT_MATURE_CUM_min&#x27;, &#x27;CNT_INSTALMENT_MATURE_CUM_std&#x27;, &#x27;MONTHS_BALANCE_max_x&#x27;, &#x27;CNT_INSTALMENT_min&#x27;, &#x27;CNT_INSTALMENT_FUTURE_median&#x27;, &#x27;MONTHS_BALANCE_std&#x27;, &#x27;SK_DPD_std&#x27;, &#x27;SK_DPD_DEF_max&#x27;, &#x27;NAME_CONTRACT_STATUS_Active_cts&#x27;, &#x27;NAME_CONTRACT_STATUS_Completed_cts&#x27;, &#x27;AMT_ANNUITY_max_y&#x27;, &#x27;AMT_ANNUITY_mean&#x27;, &#x27;AMT_CREDIT_median&#x27;, &#x27;AMT_CREDIT_std&#x27;, &#x27;AMT_DOWN_PAYMENT_max&#x27;, &#x27;CNT_PAYMENT_max&#x27;, &#x27;CNT_PAYMENT_mean&#x27;, &#x27;CNT_PAYMENT_std&#x27;, &#x27;DAYS_DECISION_min&#x27;, &#x27;DAYS_DECISION_mean&#x27;, &#x27;DAYS_DECISION_std&#x27;, &#x27;DAYS_FIRST_DRAWING_std&#x27;, &#x27;DAYS_FIRST_DUE_min&#x27;, &#x27;DAYS_FIRST_DUE_std&#x27;, &#x27;DAYS_LAST_DUE_1ST_VERSION_median&#x27;, &#x27;DAYS_TERMINATION_mean&#x27;, &#x27;HOUR_APPR_PROCESS_START_min&#x27;, &#x27;RATE_DOWN_PAYMENT_max&#x27;, &#x27;RATE_DOWN_PAYMENT_std&#x27;, &#x27;SELLERPLACE_AREA_max&#x27;, &#x27;NAME_CONTRACT_STATUS_Approved_cts&#x27;, &#x27;CODE_REJECT_REASON_HC_cts&#x27;, &#x27;CODE_REJECT_REASON_LIMIT_cts&#x27;, &#x27;CODE_REJECT_REASON_SCOFR_cts&#x27;, &#x27;NAME_CLIENT_TYPE_New_cts&#x27;, &#x27;NAME_CLIENT_TYPE_Refreshed_cts&#x27;, &#x27;NAME_GOODS_CATEGORY_Furniture_cts&#x27;, &#x27;NAME_GOODS_CATEGORY_Mobile_cts&#x27;, &#x27;NAME_PORTFOLIO_Cards_cts&#x27;, &#x27;NAME_PRODUCT_TYPE_walk_in_cts&#x27;, &#x27;CHANNEL_TYPE_AP___Cash_loan__cts&#x27;, &#x27;NAME_SELLER_INDUSTRY_XNA_cts&#x27;, &#x27;NAME_YIELD_GROUP_high_cts&#x27;, &#x27;NAME_YIELD_GROUP_low_action_cts&#x27;, &#x27;NAME_YIELD_GROUP_low_normal_cts&#x27;, &#x27;PRODUCT_COMBINATION_Cash_Street__high_cts&#x27;, &#x27;PRODUCT_COMBINATION_Cash_Street__middle_cts&#x27;, &#x27;PRODUCT_COMBINATION_Cash_X_Sell__high_cts&#x27;, &#x27;PRODUCT_COMBINATION_Cash_X_Sell__low_cts&#x27;, &#x27;PRODUCT_COMBINATION_POS_industry_with_interest_cts&#x27;, &#x27;PRODUCT_COMBINATION_POS_industry_without_interest_cts&#x27;, &#x27;PRODUCT_COMBINATION_POS_mobile_with_interest_cts&#x27;, &#x27;AMT_PAYMENT_max&#x27;, &#x27;AMT_PAYMENT_std&#x27;, &#x27;NUM_INSTALMENT_NUMBER_std&#x27;, &#x27;NUM_INSTALMENT_VERSION_min&#x27;, &#x27;NUM_INSTALMENT_VERSION_max&#x27;, &#x27;NUM_INSTALMENT_VERSION_mean&#x27;]</pre></div> </div></div><div class=\"sk-serial\"><div class=\"sk-item\"><div class=\"sk-estimator fitted sk-toggleable\"><input class=\"sk-toggleable__control sk-hidden--visually\" id=\"sk-estimator-id-6\" type=\"checkbox\" ><label for=\"sk-estimator-id-6\" class=\"sk-toggleable__label fitted sk-toggleable__label-arrow fitted\">&nbsp;SimpleImputer<a class=\"sk-estimator-doc-link fitted\" rel=\"noreferrer\" target=\"_blank\" href=\"https://scikit-learn.org/1.5/modules/generated/sklearn.impute.SimpleImputer.html\">?<span>Documentation for SimpleImputer</span></a></label><div class=\"sk-toggleable__content fitted\"><pre>SimpleImputer(fill_value=0, strategy=&#x27;constant&#x27;)</pre></div> </div></div></div></div></div><div class=\"sk-parallel-item\"><div class=\"sk-item\"><div class=\"sk-label-container\"><div class=\"sk-label fitted sk-toggleable\"><input class=\"sk-toggleable__control sk-hidden--visually\" id=\"sk-estimator-id-7\" type=\"checkbox\" ><label for=\"sk-estimator-id-7\" class=\"sk-toggleable__label fitted sk-toggleable__label-arrow fitted\">remainder</label><div class=\"sk-toggleable__content fitted\"><pre>[&#x27;FLAG_DOCUMENT_2&#x27;, &#x27;FLAG_DOCUMENT_3&#x27;, &#x27;FLAG_DOCUMENT_4&#x27;, &#x27;FLAG_DOCUMENT_5&#x27;, &#x27;FLAG_DOCUMENT_6&#x27;, &#x27;FLAG_DOCUMENT_7&#x27;, &#x27;FLAG_DOCUMENT_8&#x27;, &#x27;FLAG_DOCUMENT_9&#x27;, &#x27;FLAG_DOCUMENT_10&#x27;, &#x27;FLAG_DOCUMENT_11&#x27;, &#x27;FLAG_DOCUMENT_12&#x27;, &#x27;FLAG_DOCUMENT_13&#x27;, &#x27;FLAG_DOCUMENT_14&#x27;, &#x27;FLAG_DOCUMENT_15&#x27;, &#x27;FLAG_DOCUMENT_16&#x27;, &#x27;FLAG_DOCUMENT_17&#x27;, &#x27;FLAG_DOCUMENT_18&#x27;, &#x27;FLAG_DOCUMENT_19&#x27;, &#x27;FLAG_DOCUMENT_21&#x27;, &#x27;ANY_EXT_SOURCE_MISSING&#x27;, &#x27;NAME_CONTRACT_TYPE&#x27;, &#x27;CODE_GENDER&#x27;, &#x27;FLAG_OWN_CAR&#x27;, &#x27;FLAG_OWN_REALTY&#x27;, &#x27;NAME_TYPE_SUITE&#x27;, &#x27;NAME_EDUCATION_TYPE&#x27;, &#x27;NAME_FAMILY_STATUS&#x27;, &#x27;NAME_HOUSING_TYPE&#x27;, &#x27;FLAG_MOBIL&#x27;, &#x27;FLAG_WORK_PHONE&#x27;, &#x27;FLAG_CONT_MOBILE&#x27;, &#x27;FLAG_PHONE&#x27;, &#x27;FLAG_EMAIL&#x27;, &#x27;OCCUPATION_TYPE&#x27;, &#x27;WEEKDAY_APPR_PROCESS_START&#x27;, &#x27;REG_REGION_NOT_LIVE_REGION&#x27;, &#x27;LIVE_REGION_NOT_WORK_REGION&#x27;, &#x27;REG_CITY_NOT_LIVE_CITY&#x27;, &#x27;REG_CITY_NOT_WORK_CITY&#x27;, &#x27;ORGANIZATION_TYPE&#x27;, &#x27;FONDKAPREMONT_MODE&#x27;, &#x27;HOUSETYPE_MODE&#x27;, &#x27;WALLSMATERIAL_MODE&#x27;, &#x27;EMERGENCYSTATE_MODE&#x27;]</pre></div> </div></div><div class=\"sk-serial\"><div class=\"sk-item\"><div class=\"sk-estimator fitted sk-toggleable\"><input class=\"sk-toggleable__control sk-hidden--visually\" id=\"sk-estimator-id-8\" type=\"checkbox\" ><label for=\"sk-estimator-id-8\" class=\"sk-toggleable__label fitted sk-toggleable__label-arrow fitted\">passthrough</label><div class=\"sk-toggleable__content fitted\"><pre>passthrough</pre></div> </div></div></div></div></div></div></div><div class=\"sk-item sk-dashed-wrapped\"><div class=\"sk-label-container\"><div class=\"sk-label fitted sk-toggleable\"><input class=\"sk-toggleable__control sk-hidden--visually\" id=\"sk-estimator-id-9\" type=\"checkbox\" ><label for=\"sk-estimator-id-9\" class=\"sk-toggleable__label fitted sk-toggleable__label-arrow fitted\">&nbsp;encoder: ColumnTransformer<a class=\"sk-estimator-doc-link fitted\" rel=\"noreferrer\" target=\"_blank\" href=\"https://scikit-learn.org/1.5/modules/generated/sklearn.compose.ColumnTransformer.html\">?<span>Documentation for encoder: ColumnTransformer</span></a></label><div class=\"sk-toggleable__content fitted\"><pre>ColumnTransformer(remainder=&#x27;passthrough&#x27;,\n",
       "                  transformers=[(&#x27;ohe&#x27;,\n",
       "                                 OneHotEncoder(drop=&#x27;first&#x27;,\n",
       "                                               handle_unknown=&#x27;ignore&#x27;,\n",
       "                                               sparse_output=False),\n",
       "                                 [&#x27;FLAG_DOCUMENT_2&#x27;, &#x27;FLAG_DOCUMENT_3&#x27;,\n",
       "                                  &#x27;FLAG_DOCUMENT_4&#x27;, &#x27;FLAG_DOCUMENT_5&#x27;,\n",
       "                                  &#x27;FLAG_DOCUMENT_6&#x27;, &#x27;FLAG_DOCUMENT_7&#x27;,\n",
       "                                  &#x27;FLAG_DOCUMENT_8&#x27;, &#x27;FLAG_DOCUMENT_9&#x27;,\n",
       "                                  &#x27;FLAG_DOCUMENT_10&#x27;, &#x27;FLAG_DOCUMENT_11&#x27;,\n",
       "                                  &#x27;FLAG_DOCUMENT_12&#x27;, &#x27;FLAG_DOCUMEN...\n",
       "                                  &#x27;FLAG_CONT_MOBILE&#x27;, &#x27;FLAG_PHONE&#x27;,\n",
       "                                  &#x27;FLAG_EMAIL&#x27;, &#x27;REG_REGION_NOT_LIVE_REGION&#x27;, ...]),\n",
       "                                (&#x27;target_enc&#x27;,\n",
       "                                 TargetEncoder(smooth=7.763398524130438,\n",
       "                                               target_type=&#x27;binary&#x27;),\n",
       "                                 [&#x27;NAME_TYPE_SUITE&#x27;, &#x27;NAME_EDUCATION_TYPE&#x27;,\n",
       "                                  &#x27;NAME_FAMILY_STATUS&#x27;, &#x27;NAME_HOUSING_TYPE&#x27;,\n",
       "                                  &#x27;OCCUPATION_TYPE&#x27;,\n",
       "                                  &#x27;WEEKDAY_APPR_PROCESS_START&#x27;,\n",
       "                                  &#x27;ORGANIZATION_TYPE&#x27;, &#x27;FONDKAPREMONT_MODE&#x27;,\n",
       "                                  &#x27;WALLSMATERIAL_MODE&#x27;])],\n",
       "                  verbose_feature_names_out=False)</pre></div> </div></div><div class=\"sk-parallel\"><div class=\"sk-parallel-item\"><div class=\"sk-item\"><div class=\"sk-label-container\"><div class=\"sk-label fitted sk-toggleable\"><input class=\"sk-toggleable__control sk-hidden--visually\" id=\"sk-estimator-id-10\" type=\"checkbox\" ><label for=\"sk-estimator-id-10\" class=\"sk-toggleable__label fitted sk-toggleable__label-arrow fitted\">ohe</label><div class=\"sk-toggleable__content fitted\"><pre>[&#x27;FLAG_DOCUMENT_2&#x27;, &#x27;FLAG_DOCUMENT_3&#x27;, &#x27;FLAG_DOCUMENT_4&#x27;, &#x27;FLAG_DOCUMENT_5&#x27;, &#x27;FLAG_DOCUMENT_6&#x27;, &#x27;FLAG_DOCUMENT_7&#x27;, &#x27;FLAG_DOCUMENT_8&#x27;, &#x27;FLAG_DOCUMENT_9&#x27;, &#x27;FLAG_DOCUMENT_10&#x27;, &#x27;FLAG_DOCUMENT_11&#x27;, &#x27;FLAG_DOCUMENT_12&#x27;, &#x27;FLAG_DOCUMENT_13&#x27;, &#x27;FLAG_DOCUMENT_14&#x27;, &#x27;FLAG_DOCUMENT_15&#x27;, &#x27;FLAG_DOCUMENT_16&#x27;, &#x27;FLAG_DOCUMENT_17&#x27;, &#x27;FLAG_DOCUMENT_18&#x27;, &#x27;FLAG_DOCUMENT_19&#x27;, &#x27;FLAG_DOCUMENT_21&#x27;, &#x27;ANY_EXT_SOURCE_MISSING&#x27;, &#x27;NAME_CONTRACT_TYPE&#x27;, &#x27;CODE_GENDER&#x27;, &#x27;FLAG_OWN_CAR&#x27;, &#x27;FLAG_OWN_REALTY&#x27;, &#x27;FLAG_MOBIL&#x27;, &#x27;FLAG_WORK_PHONE&#x27;, &#x27;FLAG_CONT_MOBILE&#x27;, &#x27;FLAG_PHONE&#x27;, &#x27;FLAG_EMAIL&#x27;, &#x27;REG_REGION_NOT_LIVE_REGION&#x27;, &#x27;LIVE_REGION_NOT_WORK_REGION&#x27;, &#x27;REG_CITY_NOT_LIVE_CITY&#x27;, &#x27;REG_CITY_NOT_WORK_CITY&#x27;, &#x27;HOUSETYPE_MODE&#x27;, &#x27;EMERGENCYSTATE_MODE&#x27;]</pre></div> </div></div><div class=\"sk-serial\"><div class=\"sk-item\"><div class=\"sk-estimator fitted sk-toggleable\"><input class=\"sk-toggleable__control sk-hidden--visually\" id=\"sk-estimator-id-11\" type=\"checkbox\" ><label for=\"sk-estimator-id-11\" class=\"sk-toggleable__label fitted sk-toggleable__label-arrow fitted\">&nbsp;OneHotEncoder<a class=\"sk-estimator-doc-link fitted\" rel=\"noreferrer\" target=\"_blank\" href=\"https://scikit-learn.org/1.5/modules/generated/sklearn.preprocessing.OneHotEncoder.html\">?<span>Documentation for OneHotEncoder</span></a></label><div class=\"sk-toggleable__content fitted\"><pre>OneHotEncoder(drop=&#x27;first&#x27;, handle_unknown=&#x27;ignore&#x27;, sparse_output=False)</pre></div> </div></div></div></div></div><div class=\"sk-parallel-item\"><div class=\"sk-item\"><div class=\"sk-label-container\"><div class=\"sk-label fitted sk-toggleable\"><input class=\"sk-toggleable__control sk-hidden--visually\" id=\"sk-estimator-id-12\" type=\"checkbox\" ><label for=\"sk-estimator-id-12\" class=\"sk-toggleable__label fitted sk-toggleable__label-arrow fitted\">target_enc</label><div class=\"sk-toggleable__content fitted\"><pre>[&#x27;NAME_TYPE_SUITE&#x27;, &#x27;NAME_EDUCATION_TYPE&#x27;, &#x27;NAME_FAMILY_STATUS&#x27;, &#x27;NAME_HOUSING_TYPE&#x27;, &#x27;OCCUPATION_TYPE&#x27;, &#x27;WEEKDAY_APPR_PROCESS_START&#x27;, &#x27;ORGANIZATION_TYPE&#x27;, &#x27;FONDKAPREMONT_MODE&#x27;, &#x27;WALLSMATERIAL_MODE&#x27;]</pre></div> </div></div><div class=\"sk-serial\"><div class=\"sk-item\"><div class=\"sk-estimator fitted sk-toggleable\"><input class=\"sk-toggleable__control sk-hidden--visually\" id=\"sk-estimator-id-13\" type=\"checkbox\" ><label for=\"sk-estimator-id-13\" class=\"sk-toggleable__label fitted sk-toggleable__label-arrow fitted\">&nbsp;TargetEncoder<a class=\"sk-estimator-doc-link fitted\" rel=\"noreferrer\" target=\"_blank\" href=\"https://scikit-learn.org/1.5/modules/generated/sklearn.preprocessing.TargetEncoder.html\">?<span>Documentation for TargetEncoder</span></a></label><div class=\"sk-toggleable__content fitted\"><pre>TargetEncoder(smooth=7.763398524130438, target_type=&#x27;binary&#x27;)</pre></div> </div></div></div></div></div><div class=\"sk-parallel-item\"><div class=\"sk-item\"><div class=\"sk-label-container\"><div class=\"sk-label fitted sk-toggleable\"><input class=\"sk-toggleable__control sk-hidden--visually\" id=\"sk-estimator-id-14\" type=\"checkbox\" ><label for=\"sk-estimator-id-14\" class=\"sk-toggleable__label fitted sk-toggleable__label-arrow fitted\">remainder</label><div class=\"sk-toggleable__content fitted\"><pre>[&#x27;AMT_CREDIT&#x27;, &#x27;AMT_ANNUITY&#x27;, &#x27;AMT_CREDIT_div_AMT_ANNUITY&#x27;, &#x27;AMT_INCOME_TOTAL&#x27;, &#x27;AMT_ANNUITY_div_AMT_INCOME_TOTAL&#x27;, &#x27;AMT_ANNUITY_log&#x27;, &#x27;AMT_ANNUITY_log_div_AMT_INCOME_TOTAL&#x27;, &#x27;HOUR_APPR_PROCESS_START_sin&#x27;, &#x27;nFLAGS_ALL_ZEROS&#x27;, &#x27;EXT_SOURCE_1&#x27;, &#x27;EXT_SOURCE_2&#x27;, &#x27;EXT_SOURCE_3&#x27;, &#x27;AMT_REQ_CREDIT_BUREAU_DAY&#x27;, &#x27;AMT_REQ_CREDIT_BUREAU_HOUR&#x27;, &#x27;AMT_REQ_CREDIT_BUREAU_MON&#x27;, &#x27;AMT_REQ_CREDIT_BUREAU_QRT&#x27;, &#x27;AMT_REQ_CREDIT_BUREAU_WEEK&#x27;, &#x27;AMT_REQ_CREDIT_BUREAU_YEAR&#x27;, &#x27;EXT_SOURCE_MEAN&#x27;, &#x27;EXT_SOURCE_STD&#x27;, &#x27;DAYS_EMPLOYED&#x27;, &#x27;AMT_PAYMENT_min&#x27;, &#x27;CNT_INSTALMENT_FUTURE_std&#x27;, &#x27;n_old_credit_balances_log&#x27;, &#x27;n_prev_apps_log&#x27;, &#x27;n_prev_payments_log&#x27;, &#x27;AMT_PAYMENT_min_log&#x27;, &#x27;DAYS_CREDIT_max&#x27;, &#x27;DAYS_CREDIT_UPDATE_mean&#x27;, &#x27;DAYS_INSTALMENT_max&#x27;, &#x27;DAYS_CREDIT_ENDDATE_mean_log&#x27;, &#x27;CNT_CHILDREN&#x27;, &#x27;REGION_POPULATION_RELATIVE&#x27;, &#x27;DAYS_BIRTH&#x27;, &#x27;DAYS_REGISTRATION&#x27;, &#x27;DAYS_ID_PUBLISH&#x27;, &#x27;OWN_CAR_AGE&#x27;, &#x27;REGION_RATING_CLIENT&#x27;, &#x27;YEARS_BUILD_AVG&#x27;, &#x27;ENTRANCES_AVG&#x27;, &#x27;FLOORSMAX_AVG&#x27;, &#x27;LANDAREA_AVG&#x27;, &#x27;NONLIVINGAPARTMENTS_AVG&#x27;, &#x27;NONLIVINGAREA_AVG&#x27;, &#x27;BASEMENTAREA_MODE&#x27;, &#x27;YEARS_BEGINEXPLUATATION_MODE&#x27;, &#x27;LIVINGAPARTMENTS_MODE&#x27;, &#x27;COMMONAREA_MEDI&#x27;, &#x27;OBS_30_CNT_SOCIAL_CIRCLE&#x27;, &#x27;DEF_30_CNT_SOCIAL_CIRCLE&#x27;, &#x27;DAYS_LAST_PHONE_CHANGE&#x27;, &#x27;AMT_ANNUITY_max_x&#x27;, &#x27;AMT_CREDIT_MAX_OVERDUE_max&#x27;, &#x27;AMT_CREDIT_MAX_OVERDUE_std&#x27;, &#x27;AMT_CREDIT_SUM_median&#x27;, &#x27;AMT_CREDIT_SUM_DEBT_max&#x27;, &#x27;AMT_CREDIT_SUM_DEBT_std&#x27;, &#x27;AMT_CREDIT_SUM_LIMIT_max&#x27;, &#x27;AMT_CREDIT_SUM_LIMIT_mean&#x27;, &#x27;AMT_CREDIT_SUM_OVERDUE_max&#x27;, &#x27;CREDIT_DAY_OVERDUE_std&#x27;, &#x27;DAYS_CREDIT_min&#x27;, &#x27;DAYS_CREDIT_std&#x27;, &#x27;DAYS_CREDIT_ENDDATE_min&#x27;, &#x27;DAYS_CREDIT_ENDDATE_max&#x27;, &#x27;DAYS_CREDIT_UPDATE_max&#x27;, &#x27;DAYS_ENDDATE_FACT_max&#x27;, &#x27;MONTHS_BALANCE_mean_mean&#x27;, &#x27;STATUS_1_cts_max&#x27;, &#x27;STATUS_1_cts_mean&#x27;, &#x27;STATUS_1_cts_std&#x27;, &#x27;CREDIT_ACTIVE_Active_cts&#x27;, &#x27;CREDIT_TYPE_Consumer_credit_cts&#x27;, &#x27;CREDIT_TYPE_Credit_card_cts&#x27;, &#x27;CREDIT_TYPE_Microloan_cts&#x27;, &#x27;CREDIT_TYPE_Mortgage_cts&#x27;, &#x27;AMT_CREDIT_LIMIT_ACTUAL_median&#x27;, &#x27;AMT_CREDIT_LIMIT_ACTUAL_std&#x27;, &#x27;AMT_DRAWINGS_ATM_CURRENT_max&#x27;, &#x27;AMT_DRAWINGS_ATM_CURRENT_mean&#x27;, &#x27;AMT_DRAWINGS_CURRENT_std&#x27;, &#x27;AMT_DRAWINGS_POS_CURRENT_mean&#x27;, &#x27;AMT_DRAWINGS_POS_CURRENT_std&#x27;, &#x27;AMT_PAYMENT_TOTAL_CURRENT_max&#x27;, &#x27;AMT_RECEIVABLE_PRINCIPAL_max&#x27;, &#x27;AMT_RECIVABLE_min&#x27;, &#x27;AMT_RECIVABLE_median&#x27;, &#x27;CNT_DRAWINGS_ATM_CURRENT_mean&#x27;, &#x27;CNT_DRAWINGS_ATM_CURRENT_std&#x27;, &#x27;CNT_DRAWINGS_CURRENT_max&#x27;, &#x27;CNT_DRAWINGS_CURRENT_mean&#x27;, &#x27;CNT_INSTALMENT_MATURE_CUM_min&#x27;, &#x27;CNT_INSTALMENT_MATURE_CUM_std&#x27;, &#x27;MONTHS_BALANCE_max_x&#x27;, &#x27;CNT_INSTALMENT_min&#x27;, &#x27;CNT_INSTALMENT_FUTURE_median&#x27;, &#x27;MONTHS_BALANCE_std&#x27;, &#x27;SK_DPD_std&#x27;, &#x27;SK_DPD_DEF_max&#x27;, &#x27;NAME_CONTRACT_STATUS_Active_cts&#x27;, &#x27;NAME_CONTRACT_STATUS_Completed_cts&#x27;, &#x27;AMT_ANNUITY_max_y&#x27;, &#x27;AMT_ANNUITY_mean&#x27;, &#x27;AMT_CREDIT_median&#x27;, &#x27;AMT_CREDIT_std&#x27;, &#x27;AMT_DOWN_PAYMENT_max&#x27;, &#x27;CNT_PAYMENT_max&#x27;, &#x27;CNT_PAYMENT_mean&#x27;, &#x27;CNT_PAYMENT_std&#x27;, &#x27;DAYS_DECISION_min&#x27;, &#x27;DAYS_DECISION_mean&#x27;, &#x27;DAYS_DECISION_std&#x27;, &#x27;DAYS_FIRST_DRAWING_std&#x27;, &#x27;DAYS_FIRST_DUE_min&#x27;, &#x27;DAYS_FIRST_DUE_std&#x27;, &#x27;DAYS_LAST_DUE_1ST_VERSION_median&#x27;, &#x27;DAYS_TERMINATION_mean&#x27;, &#x27;HOUR_APPR_PROCESS_START_min&#x27;, &#x27;RATE_DOWN_PAYMENT_max&#x27;, &#x27;RATE_DOWN_PAYMENT_std&#x27;, &#x27;SELLERPLACE_AREA_max&#x27;, &#x27;NAME_CONTRACT_STATUS_Approved_cts&#x27;, &#x27;CODE_REJECT_REASON_HC_cts&#x27;, &#x27;CODE_REJECT_REASON_LIMIT_cts&#x27;, &#x27;CODE_REJECT_REASON_SCOFR_cts&#x27;, &#x27;NAME_CLIENT_TYPE_New_cts&#x27;, &#x27;NAME_CLIENT_TYPE_Refreshed_cts&#x27;, &#x27;NAME_GOODS_CATEGORY_Furniture_cts&#x27;, &#x27;NAME_GOODS_CATEGORY_Mobile_cts&#x27;, &#x27;NAME_PORTFOLIO_Cards_cts&#x27;, &#x27;NAME_PRODUCT_TYPE_walk_in_cts&#x27;, &#x27;CHANNEL_TYPE_AP___Cash_loan__cts&#x27;, &#x27;NAME_SELLER_INDUSTRY_XNA_cts&#x27;, &#x27;NAME_YIELD_GROUP_high_cts&#x27;, &#x27;NAME_YIELD_GROUP_low_action_cts&#x27;, &#x27;NAME_YIELD_GROUP_low_normal_cts&#x27;, &#x27;PRODUCT_COMBINATION_Cash_Street__high_cts&#x27;, &#x27;PRODUCT_COMBINATION_Cash_Street__middle_cts&#x27;, &#x27;PRODUCT_COMBINATION_Cash_X_Sell__high_cts&#x27;, &#x27;PRODUCT_COMBINATION_Cash_X_Sell__low_cts&#x27;, &#x27;PRODUCT_COMBINATION_POS_industry_with_interest_cts&#x27;, &#x27;PRODUCT_COMBINATION_POS_industry_without_interest_cts&#x27;, &#x27;PRODUCT_COMBINATION_POS_mobile_with_interest_cts&#x27;, &#x27;AMT_PAYMENT_max&#x27;, &#x27;AMT_PAYMENT_std&#x27;, &#x27;NUM_INSTALMENT_NUMBER_std&#x27;, &#x27;NUM_INSTALMENT_VERSION_min&#x27;, &#x27;NUM_INSTALMENT_VERSION_max&#x27;, &#x27;NUM_INSTALMENT_VERSION_mean&#x27;]</pre></div> </div></div><div class=\"sk-serial\"><div class=\"sk-item\"><div class=\"sk-estimator fitted sk-toggleable\"><input class=\"sk-toggleable__control sk-hidden--visually\" id=\"sk-estimator-id-15\" type=\"checkbox\" ><label for=\"sk-estimator-id-15\" class=\"sk-toggleable__label fitted sk-toggleable__label-arrow fitted\">passthrough</label><div class=\"sk-toggleable__content fitted\"><pre>passthrough</pre></div> </div></div></div></div></div></div></div><div class=\"sk-item sk-dashed-wrapped\"><div class=\"sk-label-container\"><div class=\"sk-label fitted sk-toggleable\"><input class=\"sk-toggleable__control sk-hidden--visually\" id=\"sk-estimator-id-16\" type=\"checkbox\" ><label for=\"sk-estimator-id-16\" class=\"sk-toggleable__label fitted sk-toggleable__label-arrow fitted\">&nbsp;scaler: ColumnTransformer<a class=\"sk-estimator-doc-link fitted\" rel=\"noreferrer\" target=\"_blank\" href=\"https://scikit-learn.org/1.5/modules/generated/sklearn.compose.ColumnTransformer.html\">?<span>Documentation for scaler: ColumnTransformer</span></a></label><div class=\"sk-toggleable__content fitted\"><pre>ColumnTransformer(remainder=&#x27;passthrough&#x27;,\n",
       "                  transformers=[(&#x27;robust_scaler&#x27;,\n",
       "                                 StandardScaler(with_std=False),\n",
       "                                 [&#x27;AMT_CREDIT&#x27;, &#x27;AMT_ANNUITY&#x27;,\n",
       "                                  &#x27;AMT_CREDIT_div_AMT_ANNUITY&#x27;,\n",
       "                                  &#x27;AMT_INCOME_TOTAL&#x27;,\n",
       "                                  &#x27;AMT_ANNUITY_div_AMT_INCOME_TOTAL&#x27;,\n",
       "                                  &#x27;AMT_ANNUITY_log&#x27;,\n",
       "                                  &#x27;AMT_ANNUITY_log_div_AMT_INCOME_TOTAL&#x27;,\n",
       "                                  &#x27;HOUR_APPR_PROCESS_START_sin&#x27;,\n",
       "                                  &#x27;nFLAGS_ALL_ZEROS&#x27;, &#x27;EXT_SOURCE_1&#x27;,\n",
       "                                  &#x27;EXT_SOURCE_2&#x27;...\n",
       "                                  &#x27;AMT_REQ_CREDIT_BUREAU_WEEK&#x27;,\n",
       "                                  &#x27;AMT_REQ_CREDIT_BUREAU_YEAR&#x27;,\n",
       "                                  &#x27;EXT_SOURCE_MEAN&#x27;, &#x27;EXT_SOURCE_STD&#x27;,\n",
       "                                  &#x27;DAYS_EMPLOYED&#x27;, &#x27;AMT_PAYMENT_min&#x27;,\n",
       "                                  &#x27;CNT_INSTALMENT_FUTURE_std&#x27;,\n",
       "                                  &#x27;n_old_credit_balances_log&#x27;,\n",
       "                                  &#x27;n_prev_apps_log&#x27;, &#x27;n_prev_payments_log&#x27;,\n",
       "                                  &#x27;AMT_PAYMENT_min_log&#x27;, &#x27;DAYS_CREDIT_max&#x27;,\n",
       "                                  &#x27;DAYS_CREDIT_UPDATE_mean&#x27;,\n",
       "                                  &#x27;DAYS_INSTALMENT_max&#x27;, ...])],\n",
       "                  verbose_feature_names_out=False)</pre></div> </div></div><div class=\"sk-parallel\"><div class=\"sk-parallel-item\"><div class=\"sk-item\"><div class=\"sk-label-container\"><div class=\"sk-label fitted sk-toggleable\"><input class=\"sk-toggleable__control sk-hidden--visually\" id=\"sk-estimator-id-17\" type=\"checkbox\" ><label for=\"sk-estimator-id-17\" class=\"sk-toggleable__label fitted sk-toggleable__label-arrow fitted\">robust_scaler</label><div class=\"sk-toggleable__content fitted\"><pre>[&#x27;AMT_CREDIT&#x27;, &#x27;AMT_ANNUITY&#x27;, &#x27;AMT_CREDIT_div_AMT_ANNUITY&#x27;, &#x27;AMT_INCOME_TOTAL&#x27;, &#x27;AMT_ANNUITY_div_AMT_INCOME_TOTAL&#x27;, &#x27;AMT_ANNUITY_log&#x27;, &#x27;AMT_ANNUITY_log_div_AMT_INCOME_TOTAL&#x27;, &#x27;HOUR_APPR_PROCESS_START_sin&#x27;, &#x27;nFLAGS_ALL_ZEROS&#x27;, &#x27;EXT_SOURCE_1&#x27;, &#x27;EXT_SOURCE_2&#x27;, &#x27;EXT_SOURCE_3&#x27;, &#x27;AMT_REQ_CREDIT_BUREAU_DAY&#x27;, &#x27;AMT_REQ_CREDIT_BUREAU_HOUR&#x27;, &#x27;AMT_REQ_CREDIT_BUREAU_MON&#x27;, &#x27;AMT_REQ_CREDIT_BUREAU_QRT&#x27;, &#x27;AMT_REQ_CREDIT_BUREAU_WEEK&#x27;, &#x27;AMT_REQ_CREDIT_BUREAU_YEAR&#x27;, &#x27;EXT_SOURCE_MEAN&#x27;, &#x27;EXT_SOURCE_STD&#x27;, &#x27;DAYS_EMPLOYED&#x27;, &#x27;AMT_PAYMENT_min&#x27;, &#x27;CNT_INSTALMENT_FUTURE_std&#x27;, &#x27;n_old_credit_balances_log&#x27;, &#x27;n_prev_apps_log&#x27;, &#x27;n_prev_payments_log&#x27;, &#x27;AMT_PAYMENT_min_log&#x27;, &#x27;DAYS_CREDIT_max&#x27;, &#x27;DAYS_CREDIT_UPDATE_mean&#x27;, &#x27;DAYS_INSTALMENT_max&#x27;, &#x27;DAYS_CREDIT_ENDDATE_mean_log&#x27;, &#x27;CNT_CHILDREN&#x27;, &#x27;REGION_POPULATION_RELATIVE&#x27;, &#x27;DAYS_BIRTH&#x27;, &#x27;DAYS_REGISTRATION&#x27;, &#x27;DAYS_ID_PUBLISH&#x27;, &#x27;OWN_CAR_AGE&#x27;, &#x27;REGION_RATING_CLIENT&#x27;, &#x27;YEARS_BUILD_AVG&#x27;, &#x27;ENTRANCES_AVG&#x27;, &#x27;FLOORSMAX_AVG&#x27;, &#x27;LANDAREA_AVG&#x27;, &#x27;NONLIVINGAPARTMENTS_AVG&#x27;, &#x27;NONLIVINGAREA_AVG&#x27;, &#x27;BASEMENTAREA_MODE&#x27;, &#x27;YEARS_BEGINEXPLUATATION_MODE&#x27;, &#x27;LIVINGAPARTMENTS_MODE&#x27;, &#x27;COMMONAREA_MEDI&#x27;, &#x27;OBS_30_CNT_SOCIAL_CIRCLE&#x27;, &#x27;DEF_30_CNT_SOCIAL_CIRCLE&#x27;, &#x27;DAYS_LAST_PHONE_CHANGE&#x27;, &#x27;AMT_ANNUITY_max_x&#x27;, &#x27;AMT_CREDIT_MAX_OVERDUE_max&#x27;, &#x27;AMT_CREDIT_MAX_OVERDUE_std&#x27;, &#x27;AMT_CREDIT_SUM_median&#x27;, &#x27;AMT_CREDIT_SUM_DEBT_max&#x27;, &#x27;AMT_CREDIT_SUM_DEBT_std&#x27;, &#x27;AMT_CREDIT_SUM_LIMIT_max&#x27;, &#x27;AMT_CREDIT_SUM_LIMIT_mean&#x27;, &#x27;AMT_CREDIT_SUM_OVERDUE_max&#x27;, &#x27;CREDIT_DAY_OVERDUE_std&#x27;, &#x27;DAYS_CREDIT_min&#x27;, &#x27;DAYS_CREDIT_std&#x27;, &#x27;DAYS_CREDIT_ENDDATE_min&#x27;, &#x27;DAYS_CREDIT_ENDDATE_max&#x27;, &#x27;DAYS_CREDIT_UPDATE_max&#x27;, &#x27;DAYS_ENDDATE_FACT_max&#x27;, &#x27;MONTHS_BALANCE_mean_mean&#x27;, &#x27;STATUS_1_cts_max&#x27;, &#x27;STATUS_1_cts_mean&#x27;, &#x27;STATUS_1_cts_std&#x27;, &#x27;CREDIT_ACTIVE_Active_cts&#x27;, &#x27;CREDIT_TYPE_Consumer_credit_cts&#x27;, &#x27;CREDIT_TYPE_Credit_card_cts&#x27;, &#x27;CREDIT_TYPE_Microloan_cts&#x27;, &#x27;CREDIT_TYPE_Mortgage_cts&#x27;, &#x27;AMT_CREDIT_LIMIT_ACTUAL_median&#x27;, &#x27;AMT_CREDIT_LIMIT_ACTUAL_std&#x27;, &#x27;AMT_DRAWINGS_ATM_CURRENT_max&#x27;, &#x27;AMT_DRAWINGS_ATM_CURRENT_mean&#x27;, &#x27;AMT_DRAWINGS_CURRENT_std&#x27;, &#x27;AMT_DRAWINGS_POS_CURRENT_mean&#x27;, &#x27;AMT_DRAWINGS_POS_CURRENT_std&#x27;, &#x27;AMT_PAYMENT_TOTAL_CURRENT_max&#x27;, &#x27;AMT_RECEIVABLE_PRINCIPAL_max&#x27;, &#x27;AMT_RECIVABLE_min&#x27;, &#x27;AMT_RECIVABLE_median&#x27;, &#x27;CNT_DRAWINGS_ATM_CURRENT_mean&#x27;, &#x27;CNT_DRAWINGS_ATM_CURRENT_std&#x27;, &#x27;CNT_DRAWINGS_CURRENT_max&#x27;, &#x27;CNT_DRAWINGS_CURRENT_mean&#x27;, &#x27;CNT_INSTALMENT_MATURE_CUM_min&#x27;, &#x27;CNT_INSTALMENT_MATURE_CUM_std&#x27;, &#x27;MONTHS_BALANCE_max_x&#x27;, &#x27;CNT_INSTALMENT_min&#x27;, &#x27;CNT_INSTALMENT_FUTURE_median&#x27;, &#x27;MONTHS_BALANCE_std&#x27;, &#x27;SK_DPD_std&#x27;, &#x27;SK_DPD_DEF_max&#x27;, &#x27;NAME_CONTRACT_STATUS_Active_cts&#x27;, &#x27;NAME_CONTRACT_STATUS_Completed_cts&#x27;, &#x27;AMT_ANNUITY_max_y&#x27;, &#x27;AMT_ANNUITY_mean&#x27;, &#x27;AMT_CREDIT_median&#x27;, &#x27;AMT_CREDIT_std&#x27;, &#x27;AMT_DOWN_PAYMENT_max&#x27;, &#x27;CNT_PAYMENT_max&#x27;, &#x27;CNT_PAYMENT_mean&#x27;, &#x27;CNT_PAYMENT_std&#x27;, &#x27;DAYS_DECISION_min&#x27;, &#x27;DAYS_DECISION_mean&#x27;, &#x27;DAYS_DECISION_std&#x27;, &#x27;DAYS_FIRST_DRAWING_std&#x27;, &#x27;DAYS_FIRST_DUE_min&#x27;, &#x27;DAYS_FIRST_DUE_std&#x27;, &#x27;DAYS_LAST_DUE_1ST_VERSION_median&#x27;, &#x27;DAYS_TERMINATION_mean&#x27;, &#x27;HOUR_APPR_PROCESS_START_min&#x27;, &#x27;RATE_DOWN_PAYMENT_max&#x27;, &#x27;RATE_DOWN_PAYMENT_std&#x27;, &#x27;SELLERPLACE_AREA_max&#x27;, &#x27;NAME_CONTRACT_STATUS_Approved_cts&#x27;, &#x27;CODE_REJECT_REASON_HC_cts&#x27;, &#x27;CODE_REJECT_REASON_LIMIT_cts&#x27;, &#x27;CODE_REJECT_REASON_SCOFR_cts&#x27;, &#x27;NAME_CLIENT_TYPE_New_cts&#x27;, &#x27;NAME_CLIENT_TYPE_Refreshed_cts&#x27;, &#x27;NAME_GOODS_CATEGORY_Furniture_cts&#x27;, &#x27;NAME_GOODS_CATEGORY_Mobile_cts&#x27;, &#x27;NAME_PORTFOLIO_Cards_cts&#x27;, &#x27;NAME_PRODUCT_TYPE_walk_in_cts&#x27;, &#x27;CHANNEL_TYPE_AP___Cash_loan__cts&#x27;, &#x27;NAME_SELLER_INDUSTRY_XNA_cts&#x27;, &#x27;NAME_YIELD_GROUP_high_cts&#x27;, &#x27;NAME_YIELD_GROUP_low_action_cts&#x27;, &#x27;NAME_YIELD_GROUP_low_normal_cts&#x27;, &#x27;PRODUCT_COMBINATION_Cash_Street__high_cts&#x27;, &#x27;PRODUCT_COMBINATION_Cash_Street__middle_cts&#x27;, &#x27;PRODUCT_COMBINATION_Cash_X_Sell__high_cts&#x27;, &#x27;PRODUCT_COMBINATION_Cash_X_Sell__low_cts&#x27;, &#x27;PRODUCT_COMBINATION_POS_industry_with_interest_cts&#x27;, &#x27;PRODUCT_COMBINATION_POS_industry_without_interest_cts&#x27;, &#x27;PRODUCT_COMBINATION_POS_mobile_with_interest_cts&#x27;, &#x27;AMT_PAYMENT_max&#x27;, &#x27;AMT_PAYMENT_std&#x27;, &#x27;NUM_INSTALMENT_NUMBER_std&#x27;, &#x27;NUM_INSTALMENT_VERSION_min&#x27;, &#x27;NUM_INSTALMENT_VERSION_max&#x27;, &#x27;NUM_INSTALMENT_VERSION_mean&#x27;]</pre></div> </div></div><div class=\"sk-serial\"><div class=\"sk-item\"><div class=\"sk-estimator fitted sk-toggleable\"><input class=\"sk-toggleable__control sk-hidden--visually\" id=\"sk-estimator-id-18\" type=\"checkbox\" ><label for=\"sk-estimator-id-18\" class=\"sk-toggleable__label fitted sk-toggleable__label-arrow fitted\">&nbsp;StandardScaler<a class=\"sk-estimator-doc-link fitted\" rel=\"noreferrer\" target=\"_blank\" href=\"https://scikit-learn.org/1.5/modules/generated/sklearn.preprocessing.StandardScaler.html\">?<span>Documentation for StandardScaler</span></a></label><div class=\"sk-toggleable__content fitted\"><pre>StandardScaler(with_std=False)</pre></div> </div></div></div></div></div><div class=\"sk-parallel-item\"><div class=\"sk-item\"><div class=\"sk-label-container\"><div class=\"sk-label fitted sk-toggleable\"><input class=\"sk-toggleable__control sk-hidden--visually\" id=\"sk-estimator-id-19\" type=\"checkbox\" ><label for=\"sk-estimator-id-19\" class=\"sk-toggleable__label fitted sk-toggleable__label-arrow fitted\">remainder</label><div class=\"sk-toggleable__content fitted\"><pre>[&#x27;FLAG_DOCUMENT_2_True&#x27;, &#x27;FLAG_DOCUMENT_3_True&#x27;, &#x27;FLAG_DOCUMENT_4_True&#x27;, &#x27;FLAG_DOCUMENT_5_True&#x27;, &#x27;FLAG_DOCUMENT_6_True&#x27;, &#x27;FLAG_DOCUMENT_7_True&#x27;, &#x27;FLAG_DOCUMENT_8_True&#x27;, &#x27;FLAG_DOCUMENT_9_True&#x27;, &#x27;FLAG_DOCUMENT_10_True&#x27;, &#x27;FLAG_DOCUMENT_11_True&#x27;, &#x27;FLAG_DOCUMENT_12_True&#x27;, &#x27;FLAG_DOCUMENT_13_True&#x27;, &#x27;FLAG_DOCUMENT_14_True&#x27;, &#x27;FLAG_DOCUMENT_15_True&#x27;, &#x27;FLAG_DOCUMENT_16_True&#x27;, &#x27;FLAG_DOCUMENT_17_True&#x27;, &#x27;FLAG_DOCUMENT_18_True&#x27;, &#x27;FLAG_DOCUMENT_19_True&#x27;, &#x27;FLAG_DOCUMENT_21_True&#x27;, &#x27;ANY_EXT_SOURCE_MISSING_True&#x27;, &#x27;NAME_CONTRACT_TYPE_Revolving loans&#x27;, &#x27;CODE_GENDER_M&#x27;, &#x27;CODE_GENDER_XNA&#x27;, &#x27;FLAG_MOBIL_True&#x27;, &#x27;FLAG_WORK_PHONE_True&#x27;, &#x27;FLAG_CONT_MOBILE_True&#x27;, &#x27;FLAG_PHONE_True&#x27;, &#x27;FLAG_EMAIL_True&#x27;, &#x27;REG_REGION_NOT_LIVE_REGION_True&#x27;, &#x27;LIVE_REGION_NOT_WORK_REGION_True&#x27;, &#x27;REG_CITY_NOT_LIVE_CITY_True&#x27;, &#x27;REG_CITY_NOT_WORK_CITY_True&#x27;, &#x27;HOUSETYPE_MODE_specific housing&#x27;, &#x27;HOUSETYPE_MODE_terraced house&#x27;, &#x27;HOUSETYPE_MODE_nan&#x27;, &#x27;NAME_TYPE_SUITE&#x27;, &#x27;NAME_EDUCATION_TYPE&#x27;, &#x27;NAME_FAMILY_STATUS&#x27;, &#x27;NAME_HOUSING_TYPE&#x27;, &#x27;OCCUPATION_TYPE&#x27;, &#x27;WEEKDAY_APPR_PROCESS_START&#x27;, &#x27;ORGANIZATION_TYPE&#x27;, &#x27;FONDKAPREMONT_MODE&#x27;, &#x27;WALLSMATERIAL_MODE&#x27;]</pre></div> </div></div><div class=\"sk-serial\"><div class=\"sk-item\"><div class=\"sk-estimator fitted sk-toggleable\"><input class=\"sk-toggleable__control sk-hidden--visually\" id=\"sk-estimator-id-20\" type=\"checkbox\" ><label for=\"sk-estimator-id-20\" class=\"sk-toggleable__label fitted sk-toggleable__label-arrow fitted\">passthrough</label><div class=\"sk-toggleable__content fitted\"><pre>passthrough</pre></div> </div></div></div></div></div></div></div><div class=\"sk-item\"><div class=\"sk-estimator fitted sk-toggleable\"><input class=\"sk-toggleable__control sk-hidden--visually\" id=\"sk-estimator-id-21\" type=\"checkbox\" ><label for=\"sk-estimator-id-21\" class=\"sk-toggleable__label fitted sk-toggleable__label-arrow fitted\">&nbsp;SelectPercentile<a class=\"sk-estimator-doc-link fitted\" rel=\"noreferrer\" target=\"_blank\" href=\"https://scikit-learn.org/1.5/modules/generated/sklearn.feature_selection.SelectPercentile.html\">?<span>Documentation for SelectPercentile</span></a></label><div class=\"sk-toggleable__content fitted\"><pre>SelectPercentile(percentile=39,\n",
       "                 score_func=&lt;function mutual_info_classif at 0x123b40d60&gt;)</pre></div> </div></div><div class=\"sk-item\"><div class=\"sk-estimator fitted sk-toggleable\"><input class=\"sk-toggleable__control sk-hidden--visually\" id=\"sk-estimator-id-22\" type=\"checkbox\" ><label for=\"sk-estimator-id-22\" class=\"sk-toggleable__label fitted sk-toggleable__label-arrow fitted\">&nbsp;RandomForestClassifier<a class=\"sk-estimator-doc-link fitted\" rel=\"noreferrer\" target=\"_blank\" href=\"https://scikit-learn.org/1.5/modules/generated/sklearn.ensemble.RandomForestClassifier.html\">?<span>Documentation for RandomForestClassifier</span></a></label><div class=\"sk-toggleable__content fitted\"><pre>RandomForestClassifier(class_weight=&#x27;balanced&#x27;, max_depth=4,\n",
       "                       max_features=&#x27;log2&#x27;,\n",
       "                       min_samples_leaf=0.018221825651549728,\n",
       "                       min_samples_split=0.10077800137742665, n_estimators=1942,\n",
       "                       n_jobs=-1)</pre></div> </div></div></div></div></div></div>"
      ]
     },
     "execution_count": 70,
     "metadata": {},
     "output_type": "execute_result"
    }
   ],
   "execution_count": 70
  },
  {
   "cell_type": "code",
   "id": "2e7addc9fe8e9f48",
   "metadata": {
    "ExecuteTime": {
     "end_time": "2024-10-01T12:32:33.337324Z",
     "start_time": "2024-10-01T12:32:28.158847Z"
    }
   },
   "source": [
    "rf_model_train_predv3 = rf_modelv3.predict(X_train)\n",
    "rf_model_train_perfomance_v3 = model_assessment(y_train, rf_model_train_predv3)"
   ],
   "outputs": [
    {
     "name": "stdout",
     "output_type": "stream",
     "text": [
      "AUC-ROC: 0.6741271809007362\n",
      "Accuracy: 0.674999745942705\n",
      "F1-Score: 0.2505916813122437\n",
      "Precision: 0.15395468025683107\n",
      "Recall: 0.673086606243706\n"
     ]
    }
   ],
   "execution_count": 71
  },
  {
   "cell_type": "code",
   "id": "bb388c90349dc20d",
   "metadata": {
    "ExecuteTime": {
     "end_time": "2024-10-01T12:32:34.738692Z",
     "start_time": "2024-10-01T12:32:33.341396Z"
    }
   },
   "source": [
    "rf_val_predv3 = rf_modelv3.predict(X_val)\n",
    "rf_val_perfomance_v3 = model_assessment(y_val, rf_val_predv3)"
   ],
   "outputs": [
    {
     "name": "stdout",
     "output_type": "stream",
     "text": [
      "AUC-ROC: 0.6767844288752196\n",
      "Accuracy: 0.6751351571074347\n",
      "F1-Score: 0.2522455089820359\n",
      "Precision: 0.15490691794989658\n",
      "Recall: 0.6787512588116817\n"
     ]
    }
   ],
   "execution_count": 72
  },
  {
   "cell_type": "code",
   "id": "1e51ab66487560af",
   "metadata": {
    "ExecuteTime": {
     "end_time": "2024-10-01T12:32:34.743088Z",
     "start_time": "2024-10-01T12:32:34.740292Z"
    }
   },
   "source": [
    "warnings.resetwarnings()"
   ],
   "outputs": [],
   "execution_count": 73
  },
  {
   "cell_type": "code",
   "id": "9de279e5fc4e0f11",
   "metadata": {
    "ExecuteTime": {
     "end_time": "2024-10-01T12:32:34.848775Z",
     "start_time": "2024-10-01T12:32:34.744670Z"
    }
   },
   "source": [
    "import pickle\n",
    "\n",
    "with open(\"../data/tuned_models/lgbm_optuna.pkl\", \"wb\") as file:\n",
    "    pickle.dump(lgbm_modelv3, file)\n",
    "with open(\"../data/tuned_models/log_reg_optuna.pkl\", \"wb\") as file:\n",
    "    pickle.dump(log_reg_modelv3, file)\n",
    "with open(\"../data/tuned_models/rf_optuna.pkl\", \"wb\") as file:\n",
    "    pickle.dump(rf_modelv3, file)"
   ],
   "outputs": [],
   "execution_count": 74
  },
  {
   "cell_type": "code",
   "id": "ef4b651c9fc8037c",
   "metadata": {
    "ExecuteTime": {
     "end_time": "2024-10-01T12:32:34.856718Z",
     "start_time": "2024-10-01T12:32:34.850409Z"
    }
   },
   "source": [
    "v3_model_performance = concatenate_model_scores(\n",
    "    [\n",
    "        lgbm_model_train_perfomance_v3,\n",
    "        log_reg_model_train_perfomance_v3,\n",
    "        rf_model_train_perfomance_v3,\n",
    "        lgbm_val_perfomance_v3,\n",
    "        log_reg_val_perfomance_v3,\n",
    "        rf_val_perfomance_v3,\n",
    "    ],\n",
    "    [\n",
    "        \"lgbm optuna train\",\n",
    "        \"log reg optuna train\",\n",
    "        \"rf optuna train\",\n",
    "        \"lgbm optuna val\",\n",
    "        \"log reg optuna val\",\n",
    "        \"rf optuna val\",\n",
    "    ],\n",
    ")"
   ],
   "outputs": [],
   "execution_count": 75
  },
  {
   "cell_type": "markdown",
   "id": "c8a7f87b80de2e46",
   "metadata": {},
   "source": [
    "__At this stage we will compare all of the models we have generated thus far__"
   ]
  },
  {
   "cell_type": "code",
   "id": "d1b6b5fab4dde4bc",
   "metadata": {
    "ExecuteTime": {
     "end_time": "2024-10-01T12:32:34.865064Z",
     "start_time": "2024-10-01T12:32:34.858179Z"
    }
   },
   "source": [
    "v3_model_performance"
   ],
   "outputs": [
    {
     "data": {
      "text/plain": [
       "           lgbm optuna train  log reg optuna train  rf optuna train  \\\n",
       "auc                  0.76804               0.69950          0.67413   \n",
       "accuracy             0.74606               0.69842          0.67500   \n",
       "f1                   0.33554               0.27282          0.25059   \n",
       "precision            0.21270               0.16938          0.15395   \n",
       "recall               0.79425               0.70078          0.67309   \n",
       "\n",
       "           lgbm optuna val  log reg optuna val  rf optuna val  \n",
       "auc                0.70568             0.69093        0.67678  \n",
       "accuracy           0.72741             0.69629        0.67514  \n",
       "f1                 0.28705             0.26682        0.25225  \n",
       "precision          0.18194             0.16570        0.15491  \n",
       "recall             0.67976             0.68454        0.67875  "
      ],
      "text/html": [
       "<div>\n",
       "<style scoped>\n",
       "    .dataframe tbody tr th:only-of-type {\n",
       "        vertical-align: middle;\n",
       "    }\n",
       "\n",
       "    .dataframe tbody tr th {\n",
       "        vertical-align: top;\n",
       "    }\n",
       "\n",
       "    .dataframe thead th {\n",
       "        text-align: right;\n",
       "    }\n",
       "</style>\n",
       "<table border=\"1\" class=\"dataframe\">\n",
       "  <thead>\n",
       "    <tr style=\"text-align: right;\">\n",
       "      <th></th>\n",
       "      <th>lgbm optuna train</th>\n",
       "      <th>log reg optuna train</th>\n",
       "      <th>rf optuna train</th>\n",
       "      <th>lgbm optuna val</th>\n",
       "      <th>log reg optuna val</th>\n",
       "      <th>rf optuna val</th>\n",
       "    </tr>\n",
       "  </thead>\n",
       "  <tbody>\n",
       "    <tr>\n",
       "      <th>auc</th>\n",
       "      <td>0.76804</td>\n",
       "      <td>0.69950</td>\n",
       "      <td>0.67413</td>\n",
       "      <td>0.70568</td>\n",
       "      <td>0.69093</td>\n",
       "      <td>0.67678</td>\n",
       "    </tr>\n",
       "    <tr>\n",
       "      <th>accuracy</th>\n",
       "      <td>0.74606</td>\n",
       "      <td>0.69842</td>\n",
       "      <td>0.67500</td>\n",
       "      <td>0.72741</td>\n",
       "      <td>0.69629</td>\n",
       "      <td>0.67514</td>\n",
       "    </tr>\n",
       "    <tr>\n",
       "      <th>f1</th>\n",
       "      <td>0.33554</td>\n",
       "      <td>0.27282</td>\n",
       "      <td>0.25059</td>\n",
       "      <td>0.28705</td>\n",
       "      <td>0.26682</td>\n",
       "      <td>0.25225</td>\n",
       "    </tr>\n",
       "    <tr>\n",
       "      <th>precision</th>\n",
       "      <td>0.21270</td>\n",
       "      <td>0.16938</td>\n",
       "      <td>0.15395</td>\n",
       "      <td>0.18194</td>\n",
       "      <td>0.16570</td>\n",
       "      <td>0.15491</td>\n",
       "    </tr>\n",
       "    <tr>\n",
       "      <th>recall</th>\n",
       "      <td>0.79425</td>\n",
       "      <td>0.70078</td>\n",
       "      <td>0.67309</td>\n",
       "      <td>0.67976</td>\n",
       "      <td>0.68454</td>\n",
       "      <td>0.67875</td>\n",
       "    </tr>\n",
       "  </tbody>\n",
       "</table>\n",
       "</div>"
      ]
     },
     "execution_count": 76,
     "metadata": {},
     "output_type": "execute_result"
    }
   ],
   "execution_count": 76
  },
  {
   "cell_type": "code",
   "id": "c90fb8e1a7d1b8d4",
   "metadata": {
    "ExecuteTime": {
     "end_time": "2024-10-01T12:32:34.873551Z",
     "start_time": "2024-10-01T12:32:34.866400Z"
    }
   },
   "source": [
    "v2_model_performance"
   ],
   "outputs": [
    {
     "data": {
      "text/plain": [
       "           lgbm v2 train  lgbm v2.1 train  log reg v2 train  rf v2 train  \\\n",
       "auc              0.75325          0.74999           0.69749      0.67004   \n",
       "accuracy         0.73724          0.73389           0.69569      0.66020   \n",
       "f1               0.32184          0.31819           0.27072      0.24468   \n",
       "precision        0.20327          0.20058           0.16783      0.14910   \n",
       "recall           0.77234          0.76920           0.69965      0.68177   \n",
       "\n",
       "           lgbm v2 val  lgbm v2.1 val  log reg v2 val  rf v2 val  \n",
       "auc            0.70586        0.70787         0.69138    0.66368  \n",
       "accuracy       0.73387        0.71900         0.69416    0.65694  \n",
       "f1             0.28976        0.28526         0.26645    0.24020  \n",
       "precision      0.18467        0.17948         0.16522    0.14625  \n",
       "recall         0.67246        0.69461         0.68807    0.67170  "
      ],
      "text/html": [
       "<div>\n",
       "<style scoped>\n",
       "    .dataframe tbody tr th:only-of-type {\n",
       "        vertical-align: middle;\n",
       "    }\n",
       "\n",
       "    .dataframe tbody tr th {\n",
       "        vertical-align: top;\n",
       "    }\n",
       "\n",
       "    .dataframe thead th {\n",
       "        text-align: right;\n",
       "    }\n",
       "</style>\n",
       "<table border=\"1\" class=\"dataframe\">\n",
       "  <thead>\n",
       "    <tr style=\"text-align: right;\">\n",
       "      <th></th>\n",
       "      <th>lgbm v2 train</th>\n",
       "      <th>lgbm v2.1 train</th>\n",
       "      <th>log reg v2 train</th>\n",
       "      <th>rf v2 train</th>\n",
       "      <th>lgbm v2 val</th>\n",
       "      <th>lgbm v2.1 val</th>\n",
       "      <th>log reg v2 val</th>\n",
       "      <th>rf v2 val</th>\n",
       "    </tr>\n",
       "  </thead>\n",
       "  <tbody>\n",
       "    <tr>\n",
       "      <th>auc</th>\n",
       "      <td>0.75325</td>\n",
       "      <td>0.74999</td>\n",
       "      <td>0.69749</td>\n",
       "      <td>0.67004</td>\n",
       "      <td>0.70586</td>\n",
       "      <td>0.70787</td>\n",
       "      <td>0.69138</td>\n",
       "      <td>0.66368</td>\n",
       "    </tr>\n",
       "    <tr>\n",
       "      <th>accuracy</th>\n",
       "      <td>0.73724</td>\n",
       "      <td>0.73389</td>\n",
       "      <td>0.69569</td>\n",
       "      <td>0.66020</td>\n",
       "      <td>0.73387</td>\n",
       "      <td>0.71900</td>\n",
       "      <td>0.69416</td>\n",
       "      <td>0.65694</td>\n",
       "    </tr>\n",
       "    <tr>\n",
       "      <th>f1</th>\n",
       "      <td>0.32184</td>\n",
       "      <td>0.31819</td>\n",
       "      <td>0.27072</td>\n",
       "      <td>0.24468</td>\n",
       "      <td>0.28976</td>\n",
       "      <td>0.28526</td>\n",
       "      <td>0.26645</td>\n",
       "      <td>0.24020</td>\n",
       "    </tr>\n",
       "    <tr>\n",
       "      <th>precision</th>\n",
       "      <td>0.20327</td>\n",
       "      <td>0.20058</td>\n",
       "      <td>0.16783</td>\n",
       "      <td>0.14910</td>\n",
       "      <td>0.18467</td>\n",
       "      <td>0.17948</td>\n",
       "      <td>0.16522</td>\n",
       "      <td>0.14625</td>\n",
       "    </tr>\n",
       "    <tr>\n",
       "      <th>recall</th>\n",
       "      <td>0.77234</td>\n",
       "      <td>0.76920</td>\n",
       "      <td>0.69965</td>\n",
       "      <td>0.68177</td>\n",
       "      <td>0.67246</td>\n",
       "      <td>0.69461</td>\n",
       "      <td>0.68807</td>\n",
       "      <td>0.67170</td>\n",
       "    </tr>\n",
       "  </tbody>\n",
       "</table>\n",
       "</div>"
      ]
     },
     "execution_count": 77,
     "metadata": {},
     "output_type": "execute_result"
    }
   ],
   "execution_count": 77
  },
  {
   "cell_type": "code",
   "id": "9e826feb1d8f0a3",
   "metadata": {
    "ExecuteTime": {
     "end_time": "2024-10-01T12:32:34.881257Z",
     "start_time": "2024-10-01T12:32:34.875092Z"
    }
   },
   "source": [
    "v1_model_performance"
   ],
   "outputs": [
    {
     "data": {
      "text/plain": [
       "           lgbm v1 train  log reg v1 train  rf v1 train  lgbm v1 val  \\\n",
       "auc              0.73457           0.70518      0.66131      0.70120   \n",
       "accuracy         0.72062           0.70296      0.65092      0.71369   \n",
       "f1               0.30272           0.27785      0.23758      0.27903   \n",
       "precision        0.18955           0.17285      0.14422      0.17511   \n",
       "recall           0.75120           0.70783      0.67372      0.68630   \n",
       "\n",
       "           log reg v1 val  rf v1 val  \n",
       "auc               0.69329    0.65836  \n",
       "accuracy          0.63855    0.67335  \n",
       "f1                0.25309    0.24045  \n",
       "precision         0.15188    0.14801  \n",
       "recall            0.75856    0.64048  "
      ],
      "text/html": [
       "<div>\n",
       "<style scoped>\n",
       "    .dataframe tbody tr th:only-of-type {\n",
       "        vertical-align: middle;\n",
       "    }\n",
       "\n",
       "    .dataframe tbody tr th {\n",
       "        vertical-align: top;\n",
       "    }\n",
       "\n",
       "    .dataframe thead th {\n",
       "        text-align: right;\n",
       "    }\n",
       "</style>\n",
       "<table border=\"1\" class=\"dataframe\">\n",
       "  <thead>\n",
       "    <tr style=\"text-align: right;\">\n",
       "      <th></th>\n",
       "      <th>lgbm v1 train</th>\n",
       "      <th>log reg v1 train</th>\n",
       "      <th>rf v1 train</th>\n",
       "      <th>lgbm v1 val</th>\n",
       "      <th>log reg v1 val</th>\n",
       "      <th>rf v1 val</th>\n",
       "    </tr>\n",
       "  </thead>\n",
       "  <tbody>\n",
       "    <tr>\n",
       "      <th>auc</th>\n",
       "      <td>0.73457</td>\n",
       "      <td>0.70518</td>\n",
       "      <td>0.66131</td>\n",
       "      <td>0.70120</td>\n",
       "      <td>0.69329</td>\n",
       "      <td>0.65836</td>\n",
       "    </tr>\n",
       "    <tr>\n",
       "      <th>accuracy</th>\n",
       "      <td>0.72062</td>\n",
       "      <td>0.70296</td>\n",
       "      <td>0.65092</td>\n",
       "      <td>0.71369</td>\n",
       "      <td>0.63855</td>\n",
       "      <td>0.67335</td>\n",
       "    </tr>\n",
       "    <tr>\n",
       "      <th>f1</th>\n",
       "      <td>0.30272</td>\n",
       "      <td>0.27785</td>\n",
       "      <td>0.23758</td>\n",
       "      <td>0.27903</td>\n",
       "      <td>0.25309</td>\n",
       "      <td>0.24045</td>\n",
       "    </tr>\n",
       "    <tr>\n",
       "      <th>precision</th>\n",
       "      <td>0.18955</td>\n",
       "      <td>0.17285</td>\n",
       "      <td>0.14422</td>\n",
       "      <td>0.17511</td>\n",
       "      <td>0.15188</td>\n",
       "      <td>0.14801</td>\n",
       "    </tr>\n",
       "    <tr>\n",
       "      <th>recall</th>\n",
       "      <td>0.75120</td>\n",
       "      <td>0.70783</td>\n",
       "      <td>0.67372</td>\n",
       "      <td>0.68630</td>\n",
       "      <td>0.75856</td>\n",
       "      <td>0.64048</td>\n",
       "    </tr>\n",
       "  </tbody>\n",
       "</table>\n",
       "</div>"
      ]
     },
     "execution_count": 78,
     "metadata": {},
     "output_type": "execute_result"
    }
   ],
   "execution_count": 78
  },
  {
   "cell_type": "code",
   "id": "46760499166d10b",
   "metadata": {
    "ExecuteTime": {
     "end_time": "2024-10-01T12:32:34.890902Z",
     "start_time": "2024-10-01T12:32:34.882661Z"
    }
   },
   "source": [
    "preliminary_model_performance"
   ],
   "outputs": [
    {
     "data": {
      "text/plain": [
       "           LGBM-train  LGBM-train-boruta  baselineLGBM-val  LGBM-val  \\\n",
       "auc           0.76278            0.75564           0.70247   0.70852   \n",
       "accuracy      0.74251            0.73736           0.70969   0.72503   \n",
       "f1            0.33041            0.32338           0.27844   0.28798   \n",
       "precision     0.20910            0.20415           0.17417   0.18205   \n",
       "recall        0.78695            0.77744           0.69386   0.68882   \n",
       "\n",
       "           LGBM-val-boruta  Logreg-train  Logreg-train-boruta  Logreg-val  \\\n",
       "auc                0.70573       0.70375              0.70244     0.69584   \n",
       "accuracy           0.72034       0.70150              0.70009     0.69814   \n",
       "f1                 0.28438       0.27647              0.27519     0.27046   \n",
       "precision          0.17921       0.17187              0.17095     0.16801   \n",
       "recall             0.68832       0.70645              0.70525     0.69310   \n",
       "\n",
       "           Logreg-val-boruta  RF-train  RF-train-boruta  RF-val  rf-val-boruta  \n",
       "auc                  0.69521   0.75797          0.75940 0.67828        0.67610  \n",
       "accuracy             0.69530   0.77849          0.78253 0.75641        0.75790  \n",
       "f1                   0.26918   0.34838          0.35205 0.27944        0.27841  \n",
       "precision            0.16691   0.22844          0.23178 0.18356        0.18331  \n",
       "recall               0.69512   0.73351          0.73181 0.58510        0.57855  "
      ],
      "text/html": [
       "<div>\n",
       "<style scoped>\n",
       "    .dataframe tbody tr th:only-of-type {\n",
       "        vertical-align: middle;\n",
       "    }\n",
       "\n",
       "    .dataframe tbody tr th {\n",
       "        vertical-align: top;\n",
       "    }\n",
       "\n",
       "    .dataframe thead th {\n",
       "        text-align: right;\n",
       "    }\n",
       "</style>\n",
       "<table border=\"1\" class=\"dataframe\">\n",
       "  <thead>\n",
       "    <tr style=\"text-align: right;\">\n",
       "      <th></th>\n",
       "      <th>LGBM-train</th>\n",
       "      <th>LGBM-train-boruta</th>\n",
       "      <th>baselineLGBM-val</th>\n",
       "      <th>LGBM-val</th>\n",
       "      <th>LGBM-val-boruta</th>\n",
       "      <th>Logreg-train</th>\n",
       "      <th>Logreg-train-boruta</th>\n",
       "      <th>Logreg-val</th>\n",
       "      <th>Logreg-val-boruta</th>\n",
       "      <th>RF-train</th>\n",
       "      <th>RF-train-boruta</th>\n",
       "      <th>RF-val</th>\n",
       "      <th>rf-val-boruta</th>\n",
       "    </tr>\n",
       "  </thead>\n",
       "  <tbody>\n",
       "    <tr>\n",
       "      <th>auc</th>\n",
       "      <td>0.76278</td>\n",
       "      <td>0.75564</td>\n",
       "      <td>0.70247</td>\n",
       "      <td>0.70852</td>\n",
       "      <td>0.70573</td>\n",
       "      <td>0.70375</td>\n",
       "      <td>0.70244</td>\n",
       "      <td>0.69584</td>\n",
       "      <td>0.69521</td>\n",
       "      <td>0.75797</td>\n",
       "      <td>0.75940</td>\n",
       "      <td>0.67828</td>\n",
       "      <td>0.67610</td>\n",
       "    </tr>\n",
       "    <tr>\n",
       "      <th>accuracy</th>\n",
       "      <td>0.74251</td>\n",
       "      <td>0.73736</td>\n",
       "      <td>0.70969</td>\n",
       "      <td>0.72503</td>\n",
       "      <td>0.72034</td>\n",
       "      <td>0.70150</td>\n",
       "      <td>0.70009</td>\n",
       "      <td>0.69814</td>\n",
       "      <td>0.69530</td>\n",
       "      <td>0.77849</td>\n",
       "      <td>0.78253</td>\n",
       "      <td>0.75641</td>\n",
       "      <td>0.75790</td>\n",
       "    </tr>\n",
       "    <tr>\n",
       "      <th>f1</th>\n",
       "      <td>0.33041</td>\n",
       "      <td>0.32338</td>\n",
       "      <td>0.27844</td>\n",
       "      <td>0.28798</td>\n",
       "      <td>0.28438</td>\n",
       "      <td>0.27647</td>\n",
       "      <td>0.27519</td>\n",
       "      <td>0.27046</td>\n",
       "      <td>0.26918</td>\n",
       "      <td>0.34838</td>\n",
       "      <td>0.35205</td>\n",
       "      <td>0.27944</td>\n",
       "      <td>0.27841</td>\n",
       "    </tr>\n",
       "    <tr>\n",
       "      <th>precision</th>\n",
       "      <td>0.20910</td>\n",
       "      <td>0.20415</td>\n",
       "      <td>0.17417</td>\n",
       "      <td>0.18205</td>\n",
       "      <td>0.17921</td>\n",
       "      <td>0.17187</td>\n",
       "      <td>0.17095</td>\n",
       "      <td>0.16801</td>\n",
       "      <td>0.16691</td>\n",
       "      <td>0.22844</td>\n",
       "      <td>0.23178</td>\n",
       "      <td>0.18356</td>\n",
       "      <td>0.18331</td>\n",
       "    </tr>\n",
       "    <tr>\n",
       "      <th>recall</th>\n",
       "      <td>0.78695</td>\n",
       "      <td>0.77744</td>\n",
       "      <td>0.69386</td>\n",
       "      <td>0.68882</td>\n",
       "      <td>0.68832</td>\n",
       "      <td>0.70645</td>\n",
       "      <td>0.70525</td>\n",
       "      <td>0.69310</td>\n",
       "      <td>0.69512</td>\n",
       "      <td>0.73351</td>\n",
       "      <td>0.73181</td>\n",
       "      <td>0.58510</td>\n",
       "      <td>0.57855</td>\n",
       "    </tr>\n",
       "  </tbody>\n",
       "</table>\n",
       "</div>"
      ]
     },
     "execution_count": 79,
     "metadata": {},
     "output_type": "execute_result"
    }
   ],
   "execution_count": 79
  },
  {
   "cell_type": "markdown",
   "id": "22921d2181aa2f8e",
   "metadata": {},
   "source": [
    "# Top Performing Models - Optuna models\n",
    "\n",
    "My criteria for the top performing model is to first look at Area Under the ROC curve because this indicates performance across various thresholds. Thresholds can also be tuned in order to meet the performance goals of the business. Secondarily, I will also look at the F1-score because this will give me an idea of how the model performs relative to the precision-recall tradeoff. Lastly, I will inspect the accuracy. \n",
    "\n",
    "Also, sometimes other models performed better than the Optuna ones, but the difference was marginal.\n",
    "\n",
    "_Note: Some models in Notebook 3 performed better than the current models, but these differences are not substantial and could be due to randomness or particularities of the validation set. I will choose to push forward with models from the current notebook_"
   ]
  },
  {
   "cell_type": "code",
   "id": "5a47dd63542254a0",
   "metadata": {
    "ExecuteTime": {
     "end_time": "2024-10-01T12:32:34.968825Z",
     "start_time": "2024-10-01T12:32:34.892449Z"
    }
   },
   "source": [
    "categorical_columns = list(X_test.select_dtypes([\"category\", \"bool\"]).columns)\n",
    "X_test[categorical_columns] = X_test[categorical_columns].astype(\"object\")"
   ],
   "outputs": [],
   "execution_count": 80
  },
  {
   "cell_type": "code",
   "id": "dbf4214c6d47daf9",
   "metadata": {
    "ExecuteTime": {
     "end_time": "2024-10-01T12:32:35.032531Z",
     "start_time": "2024-10-01T12:32:34.970906Z"
    }
   },
   "source": [
    "categorical_columns = list(kaggle_X_test.select_dtypes([\"category\", \"bool\"]).columns)\n",
    "kaggle_X_test[categorical_columns] = kaggle_X_test[categorical_columns].astype(\"object\")"
   ],
   "outputs": [],
   "execution_count": 81
  },
  {
   "cell_type": "markdown",
   "id": "7efef95585b6c931",
   "metadata": {},
   "source": [
    "## LGBM "
   ]
  },
  {
   "cell_type": "code",
   "id": "903b11c59f5a6634",
   "metadata": {
    "ExecuteTime": {
     "end_time": "2024-10-01T12:32:35.039391Z",
     "start_time": "2024-10-01T12:32:35.034255Z"
    }
   },
   "source": [
    "lgbm_study.best_params"
   ],
   "outputs": [
    {
     "data": {
      "text/plain": [
       "{'categorical_strategy': 'constant',\n",
       " 'numerical_strategy': 'constant',\n",
       " 'drop': 'if_binary',\n",
       " 'smooth': 10.054407801849583,\n",
       " 'with_mean': False,\n",
       " 'with_std': False,\n",
       " 'percentile': 91,\n",
       " 'learning_rate': 0.017720500819766883,\n",
       " 'num_leaves': 52,\n",
       " 'max_depth': 12,\n",
       " 'feature_fraction': 0.851083221228567,\n",
       " 'bagging_fraction': 0.7339622458628344,\n",
       " 'bagging_freq': 1,\n",
       " 'min_child_samples': 81,\n",
       " 'lambda_l1': 0.0038076305560719886,\n",
       " 'lambda_l2': 0.0006326300655566424,\n",
       " 'min_split_gain': 0.14162524181784342,\n",
       " 'n_estimators': 405}"
      ]
     },
     "execution_count": 82,
     "metadata": {},
     "output_type": "execute_result"
    }
   ],
   "execution_count": 82
  },
  {
   "cell_type": "markdown",
   "id": "f2722e6474c9ebe1",
   "metadata": {},
   "source": [
    "This particular model:\n",
    "- only dropped a one hot encoded variable if it was binary \n",
    "- utilized smoothing\n",
    "- did not standardize values\n",
    "- kept most values (91%)\n",
    "- Had 52 leaves and a depth of 12, and required over 80 samples before creating a child node \n",
    "- it used 405 trees"
   ]
  },
  {
   "cell_type": "code",
   "id": "37800e25de2336fb",
   "metadata": {
    "ExecuteTime": {
     "end_time": "2024-10-01T12:32:37.238115Z",
     "start_time": "2024-10-01T12:32:35.040802Z"
    }
   },
   "source": [
    "lgbm_test_final = lgbm_modelv3.predict(X_test)\n",
    "lgbm_test_performance_final = model_assessment(y_test, lgbm_test_final)"
   ],
   "outputs": [
    {
     "name": "stdout",
     "output_type": "stream",
     "text": [
      "AUC-ROC: 0.7130576136318337\n",
      "Accuracy: 0.7320293319025089\n",
      "F1-Score: 0.29378240562197366\n",
      "Precision: 0.18658828652296974\n",
      "Recall: 0.6904330312185297\n"
     ]
    }
   ],
   "execution_count": 83
  },
  {
   "cell_type": "code",
   "id": "5af4669d719b2c28",
   "metadata": {
    "ExecuteTime": {
     "end_time": "2024-10-01T12:32:37.453784Z",
     "start_time": "2024-10-01T12:32:37.239723Z"
    }
   },
   "source": [
    "fig, ax = conf_mat_plot(y_test, lgbm_test_final, title=\"Confusion matrix - LGBM\")"
   ],
   "outputs": [
    {
     "data": {
      "text/plain": [
       "<Figure size 800x600 with 1 Axes>"
      ],
      "image/png": "[encoded data removed]"
     },
     "metadata": {},
     "output_type": "display_data"
    }
   ],
   "execution_count": 84
  },
  {
   "cell_type": "code",
   "id": "259dc3e483806a1b",
   "metadata": {
    "ExecuteTime": {
     "end_time": "2024-10-01T12:32:39.525896Z",
     "start_time": "2024-10-01T12:32:37.455183Z"
    }
   },
   "source": [
    "lgbm_probs = lgbm_modelv3.predict_proba(X_test)\n",
    "lgbm_precision, lgbm_recall, lgbm_thresholds, lgbm_auc_score = plot_pr_curve(\n",
    "    y_test, lgbm_probs[:, 1], title=\"precision-recall curve - LGBM\"\n",
    ")"
   ],
   "outputs": [
    {
     "data": {
      "text/plain": [
       "<Figure size 800x600 with 1 Axes>"
      ],
      "image/png": "[encoded data removed]"
     },
     "metadata": {},
     "output_type": "display_data"
    }
   ],
   "execution_count": 85
  },
  {
   "cell_type": "code",
   "id": "dfed58574e4ce748",
   "metadata": {
    "ExecuteTime": {
     "end_time": "2024-10-01T12:32:39.669443Z",
     "start_time": "2024-10-01T12:32:39.527625Z"
    }
   },
   "source": [
    "lgbm_fpr, lgbm_tpr, lgbm_thresh, lgbm_roc_auc = plot_roc_curve(\n",
    "    y_test, lgbm_probs[:, 1], title=\"ROC Curve - LGBM\"\n",
    ")"
   ],
   "outputs": [
    {
     "data": {
      "text/plain": [
       "<Figure size 640x480 with 1 Axes>"
      ],
      "image/png": "[encoded data removed]"
     },
     "metadata": {},
     "output_type": "display_data"
    }
   ],
   "execution_count": 86
  },
  {
   "cell_type": "markdown",
   "id": "4f4bd06e2c02ab61",
   "metadata": {},
   "source": [
    "## Logistic Regression "
   ]
  },
  {
   "cell_type": "code",
   "id": "3358a1fc283dd5d6",
   "metadata": {
    "ExecuteTime": {
     "end_time": "2024-10-01T12:32:39.675903Z",
     "start_time": "2024-10-01T12:32:39.671024Z"
    }
   },
   "source": [
    "log_reg_study.best_params"
   ],
   "outputs": [
    {
     "data": {
      "text/plain": [
       "{'categorical_strategy': 'constant',\n",
       " 'numerical_strategy': 'constant',\n",
       " 'drop': 'if_binary',\n",
       " 'smooth': 5.744779833081635,\n",
       " 'with_mean': True,\n",
       " 'with_std': True,\n",
       " 'percentile': 99,\n",
       " 'penalty': 'elasticnet',\n",
       " 'tol': 2.6435350311350403e-05,\n",
       " 'C': 0.0034459310919273374,\n",
       " 'solver': 'saga',\n",
       " 'max_iter': 700,\n",
       " 'l1_ratio': 0.21825388786506417}"
      ]
     },
     "execution_count": 87,
     "metadata": {},
     "output_type": "execute_result"
    }
   ],
   "execution_count": 87
  },
  {
   "cell_type": "markdown",
   "id": "68d22ca126d63235",
   "metadata": {},
   "source": [
    "The best model:\n",
    "- did not drop the first value, but only if binary (I didn't use many one hot encoders, I used more frequency encoding)\n",
    "- kept most of the features \n",
    "- applied about 50/50 L1 to L2 regularization, quite strongly (as indicated by low C) "
   ]
  },
  {
   "cell_type": "code",
   "id": "42a7703da47f822f",
   "metadata": {
    "ExecuteTime": {
     "end_time": "2024-10-01T12:32:40.951465Z",
     "start_time": "2024-10-01T12:32:39.677333Z"
    }
   },
   "source": [
    "log_reg_test_final = log_reg_modelv3.predict(X_test)\n",
    "log_reg_test_performance_final = model_assessment(y_test, log_reg_test_final)"
   ],
   "outputs": [
    {
     "name": "stdout",
     "output_type": "stream",
     "text": [
      "AUC-ROC: 0.6930752933700501\n",
      "Accuracy: 0.699006552525893\n",
      "F1-Score: 0.26899383983572894\n",
      "Precision: 0.16729701851760892\n",
      "Recall: 0.6860020140986909\n"
     ]
    }
   ],
   "execution_count": 88
  },
  {
   "cell_type": "code",
   "id": "4cf1460eaebd9540",
   "metadata": {
    "ExecuteTime": {
     "end_time": "2024-10-01T12:32:41.085723Z",
     "start_time": "2024-10-01T12:32:40.952725Z"
    }
   },
   "source": [
    "fig, ax = conf_mat_plot(\n",
    "    y_test, log_reg_test_final, title=\"Confusion matrix - Logistic Regression\"\n",
    ")"
   ],
   "outputs": [
    {
     "data": {
      "text/plain": [
       "<Figure size 800x600 with 1 Axes>"
      ],
      "image/png": "[encoded data removed]"
     },
     "metadata": {},
     "output_type": "display_data"
    }
   ],
   "execution_count": 89
  },
  {
   "cell_type": "code",
   "id": "303d008ef76b9347",
   "metadata": {
    "ExecuteTime": {
     "end_time": "2024-10-01T12:32:42.320368Z",
     "start_time": "2024-10-01T12:32:41.092195Z"
    }
   },
   "source": [
    "log_reg_probs = log_reg_modelv3.predict_proba(X_test)\n",
    "log_reg_precision, log_reg_recall, log_reg_thresholds, log_reg_auc_score = (\n",
    "    plot_pr_curve(\n",
    "        y_test,\n",
    "        log_reg_probs[:, 1],\n",
    "        title=\"precision-recall curve - Logistic Regression\",\n",
    "    )\n",
    ")"
   ],
   "outputs": [
    {
     "data": {
      "text/plain": [
       "<Figure size 800x600 with 1 Axes>"
      ],
      "image/png": "[encoded data removed]"
     },
     "metadata": {},
     "output_type": "display_data"
    }
   ],
   "execution_count": 90
  },
  {
   "cell_type": "code",
   "id": "9c2e8892bf92e13b",
   "metadata": {
    "ExecuteTime": {
     "end_time": "2024-10-01T12:32:42.454679Z",
     "start_time": "2024-10-01T12:32:42.321893Z"
    }
   },
   "source": [
    "log_reg_fpr, log_reg_tpr, log_reg_thresh, log_reg_roc_auc = plot_roc_curve(\n",
    "    y_test, log_reg_probs[:, 1], title=\"ROC Curve - Logistic Regression\"\n",
    ")"
   ],
   "outputs": [
    {
     "data": {
      "text/plain": [
       "<Figure size 640x480 with 1 Axes>"
      ],
      "image/png": "[encoded data removed]"
     },
     "metadata": {},
     "output_type": "display_data"
    }
   ],
   "execution_count": 91
  },
  {
   "cell_type": "markdown",
   "id": "7f16efb6a751e4af",
   "metadata": {},
   "source": [
    "## Random Forest - Optuna optimized model"
   ]
  },
  {
   "cell_type": "code",
   "id": "5798207c31e3dc29",
   "metadata": {
    "ExecuteTime": {
     "end_time": "2024-10-01T12:32:42.460473Z",
     "start_time": "2024-10-01T12:32:42.456383Z"
    }
   },
   "source": [
    "rf_study.best_params"
   ],
   "outputs": [
    {
     "data": {
      "text/plain": [
       "{'categorical_strategy': 'constant',\n",
       " 'numerical_strategy': 'constant',\n",
       " 'drop': 'first',\n",
       " 'smooth': 7.763398524130438,\n",
       " 'with_mean': True,\n",
       " 'with_std': False,\n",
       " 'percentile': 39,\n",
       " 'n_estimators': 1942,\n",
       " 'criterion': 'gini',\n",
       " 'max_depth': 4,\n",
       " 'min_samples_split': 0.10077800137742665,\n",
       " 'min_samples_leaf': 0.018221825651549728,\n",
       " 'max_features': 'log2'}"
      ]
     },
     "execution_count": 92,
     "metadata": {},
     "output_type": "execute_result"
    }
   ],
   "execution_count": 92
  },
  {
   "cell_type": "markdown",
   "id": "ef15c82df65b0bc1",
   "metadata": {},
   "source": [
    "The best random forest model:\n",
    "- required about 10% of samples to make a split\n",
    "- used much fewer features (39%) \n",
    "- used nearly 2000 trees \n",
    "- did used the drop 'first' strategy (suprisingly a more commons strategy for avoiding multicolinearity in the case of linear models)"
   ]
  },
  {
   "cell_type": "code",
   "id": "3b28d183b6bc58f1",
   "metadata": {
    "ExecuteTime": {
     "end_time": "2024-10-01T12:32:44.215506Z",
     "start_time": "2024-10-01T12:32:42.462233Z"
    }
   },
   "source": [
    "rf_test_final = rf_modelv3.predict(X_test)\n",
    "rf_test_performance_final = model_assessment(y_test, rf_test_final)"
   ],
   "outputs": [
    {
     "name": "stdout",
     "output_type": "stream",
     "text": [
      "AUC-ROC: 0.6733099594861152\n",
      "Accuracy: 0.6761783978017333\n",
      "F1-Score: 0.2503763926528154\n",
      "Precision: 0.15396009813451836\n",
      "Recall: 0.6698892245720041\n"
     ]
    }
   ],
   "execution_count": 93
  },
  {
   "cell_type": "code",
   "id": "ceb221bb44589614",
   "metadata": {
    "ExecuteTime": {
     "end_time": "2024-10-01T12:32:44.346712Z",
     "start_time": "2024-10-01T12:32:44.217115Z"
    }
   },
   "source": [
    "fig, ax = conf_mat_plot(y_test, rf_test_final, title=\"Confusion matrix - Random Forest\")"
   ],
   "outputs": [
    {
     "data": {
      "text/plain": [
       "<Figure size 800x600 with 1 Axes>"
      ],
      "image/png": "[encoded data removed]"
     },
     "metadata": {},
     "output_type": "display_data"
    }
   ],
   "execution_count": 94
  },
  {
   "cell_type": "code",
   "id": "b6d03e425d7544e6",
   "metadata": {
    "ExecuteTime": {
     "end_time": "2024-10-01T12:32:46.168738Z",
     "start_time": "2024-10-01T12:32:44.348606Z"
    }
   },
   "source": [
    "rf_probs = rf_modelv3.predict_proba(X_test)\n",
    "rf_precision, rf_recall, rf_thresholds, rf_auc_score = plot_pr_curve(\n",
    "    y_test, rf_probs[:, 1], title=\"Test precision-recall curve - Random Forest\"\n",
    ")"
   ],
   "outputs": [
    {
     "data": {
      "text/plain": [
       "<Figure size 800x600 with 1 Axes>"
      ],
      "image/png": "[encoded data removed]"
     },
     "metadata": {},
     "output_type": "display_data"
    }
   ],
   "execution_count": 95
  },
  {
   "cell_type": "code",
   "id": "aeae8a259aca4ddb",
   "metadata": {
    "ExecuteTime": {
     "end_time": "2024-10-01T12:32:46.310876Z",
     "start_time": "2024-10-01T12:32:46.170452Z"
    }
   },
   "source": [
    "rf_fpr, rf_tpr, rf_thresh, rf_roc_auc = plot_roc_curve(\n",
    "    y_test, rf_probs[:, 1], title=\"Test ROC Curve - Random Forest\"\n",
    ")"
   ],
   "outputs": [
    {
     "data": {
      "text/plain": [
       "<Figure size 640x480 with 1 Axes>"
      ],
      "image/png": "[encoded data removed]"
     },
     "metadata": {},
     "output_type": "display_data"
    }
   ],
   "execution_count": 96
  },
  {
   "cell_type": "code",
   "id": "1dc22af38af314ce",
   "metadata": {
    "ExecuteTime": {
     "end_time": "2024-10-01T12:32:46.315Z",
     "start_time": "2024-10-01T12:32:46.312057Z"
    }
   },
   "source": [
    "voting_model = VotingClassifier(\n",
    "    estimators=[\n",
    "        (\"lgbm\", lgbm_modelv3),\n",
    "        (\"log_reg\", log_reg_modelv3),\n",
    "        (\"rf\", rf_modelv3),\n",
    "    ],\n",
    "    voting=\"soft\",\n",
    "    n_jobs=-1,\n",
    ")"
   ],
   "outputs": [],
   "execution_count": 97
  },
  {
   "cell_type": "code",
   "id": "6e802e20ccedcc20",
   "metadata": {
    "ExecuteTime": {
     "end_time": "2024-10-01T12:43:31.055039Z",
     "start_time": "2024-10-01T12:32:46.316176Z"
    }
   },
   "source": [
    "voting_model.fit(X_train, y_train)\n",
    "voting_model_train_pred = voting_model.predict(X_train)\n",
    "voting_model_train_perfomance = model_assessment(y_train, voting_model_train_pred)"
   ],
   "outputs": [
    {
     "name": "stderr",
     "output_type": "stream",
     "text": [
      "/Users/migueldiaz/home-credit/lib/python3.11/site-packages/sklearn/linear_model/_sag.py:349: ConvergenceWarning: The max_iter was reached which means the coef_ did not converge\n",
      "  warnings.warn(\n"
     ]
    },
    {
     "name": "stdout",
     "output_type": "stream",
     "text": [
      "AUC-ROC: 0.730973608113225\n",
      "Accuracy: 0.723463715537128\n",
      "F1-Score: 0.30168343256004926\n",
      "Precision: 0.18946621970087674\n",
      "Recall: 0.7399295065458208\n"
     ]
    }
   ],
   "execution_count": 98
  },
  {
   "cell_type": "code",
   "id": "bb382873c6a1dd9e",
   "metadata": {
    "ExecuteTime": {
     "end_time": "2024-10-01T12:43:35.097852Z",
     "start_time": "2024-10-01T12:43:31.058073Z"
    }
   },
   "source": [
    "voting_model_val_pred = voting_model.predict(X_val)\n",
    "voting_model_val_perfomance = model_assessment(y_val, voting_model_val_pred)"
   ],
   "outputs": [
    {
     "name": "stdout",
     "output_type": "stream",
     "text": [
      "AUC-ROC: 0.7027435582128181\n",
      "Accuracy: 0.7139953660420308\n",
      "F1-Score: 0.2801309596889707\n",
      "Precision: 0.17578325629173086\n",
      "Recall: 0.68932527693857\n"
     ]
    }
   ],
   "execution_count": 99
  },
  {
   "cell_type": "code",
   "id": "ad9ce86ec2bb6c50",
   "metadata": {
    "ExecuteTime": {
     "end_time": "2024-10-01T12:43:40.167059Z",
     "start_time": "2024-10-01T12:43:35.099522Z"
    }
   },
   "source": [
    "voting_model_test_pred = voting_model.predict(X_test)\n",
    "voting_model_test_perfomance = model_assessment(y_test, voting_model_test_pred)"
   ],
   "outputs": [
    {
     "name": "stdout",
     "output_type": "stream",
     "text": [
      "AUC-ROC: 0.7065769897934593\n",
      "Accuracy: 0.7174121587564835\n",
      "F1-Score: 0.28383055876050767\n",
      "Precision: 0.17841786250841837\n",
      "Recall: 0.693655589123867\n"
     ]
    }
   ],
   "execution_count": 100
  },
  {
   "cell_type": "markdown",
   "id": "1cff934a4f716fb",
   "metadata": {},
   "source": [
    "Ultimately this voting model underperforms Light GBM on its own (and it runs slower), so the model that I will deploy will be Light GBM. "
   ]
  },
  {
   "cell_type": "markdown",
   "id": "1756c9d8fdc63064",
   "metadata": {},
   "source": "## Feature Analysis of Final Model (Optimized Light GBM) using SHAP"
  },
  {
   "cell_type": "code",
   "id": "ecc1dd19a916055f",
   "metadata": {
    "ExecuteTime": {
     "end_time": "2024-10-01T12:43:44.938637Z",
     "start_time": "2024-10-01T12:43:40.168443Z"
    }
   },
   "source": [
    "processed_X_train = lgbm_modelv3[:-1].transform(X_train)\n",
    "processed_X_val = lgbm_modelv3[:-1].transform(X_val)\n",
    "processed_X_test = lgbm_modelv3[:-1].transform(X_test)"
   ],
   "outputs": [],
   "execution_count": 101
  },
  {
   "cell_type": "code",
   "id": "3e0d1e2a51726934",
   "metadata": {
    "ExecuteTime": {
     "end_time": "2024-10-01T12:43:46.001855Z",
     "start_time": "2024-10-01T12:43:44.940020Z"
    }
   },
   "source": [
    "lgbm_explainer = shap.TreeExplainer(lgbm_modelv3[-1])"
   ],
   "outputs": [],
   "execution_count": 102
  },
  {
   "cell_type": "code",
   "id": "433c0bab7def8e6a",
   "metadata": {
    "ExecuteTime": {
     "end_time": "2024-10-01T12:51:20.930120Z",
     "start_time": "2024-10-01T12:43:46.003721Z"
    }
   },
   "source": [
    "shap_values_train = lgbm_explainer(processed_X_train)\n",
    "shap_values_val = lgbm_explainer(processed_X_val)\n",
    "shap_values_test = lgbm_explainer(processed_X_test)"
   ],
   "outputs": [],
   "execution_count": 103
  },
  {
   "cell_type": "code",
   "id": "117dba15c740c429",
   "metadata": {
    "ExecuteTime": {
     "end_time": "2024-10-01T12:51:21.476275Z",
     "start_time": "2024-10-01T12:51:20.935396Z"
    }
   },
   "source": [
    "shap.plots.bar(shap_values_test)"
   ],
   "outputs": [
    {
     "data": {
      "text/plain": [
       "<Figure size 800x650 with 1 Axes>"
      ],
      "image/png": "[encoded data removed]"
     },
     "metadata": {},
     "output_type": "display_data"
    }
   ],
   "execution_count": 104
  },
  {
   "cell_type": "code",
   "id": "f0a6c6267ce992a5",
   "metadata": {
    "ExecuteTime": {
     "end_time": "2024-10-01T12:51:28.830373Z",
     "start_time": "2024-10-01T12:51:21.478859Z"
    }
   },
   "source": [
    "shap.summary_plot(shap_values_test)"
   ],
   "outputs": [
    {
     "data": {
      "text/plain": [
       "<Figure size 800x950 with 2 Axes>"
      ],
      "image/png": "[encoded data removed]"
     },
     "metadata": {},
     "output_type": "display_data"
    }
   ],
   "execution_count": 105
  },
  {
   "cell_type": "markdown",
   "id": "50f31ab2bb243794",
   "metadata": {},
   "source": [
    "__Data Preparation for Kaggle Competition__\n",
    "\n",
    "As a final task, let's prepare an entry for the expired [Kaggle competition](https://www.kaggle.com/competitions/home-credit-default-risk/overview) that uses this dataset to see how my model compares to other professionals. "
   ]
  },
  {
   "cell_type": "code",
   "id": "b5fa12cddc69c0f1",
   "metadata": {
    "ExecuteTime": {
     "end_time": "2024-10-01T12:51:31.520313Z",
     "start_time": "2024-10-01T12:51:28.834204Z"
    }
   },
   "source": [
    "lgbm_model_kaggle_testpredv3 = lgbm_modelv3.predict_proba(X=kaggle_X_test)\n",
    "kaggle_target_preds = lgbm_model_kaggle_testpredv3[:, 1]\n",
    "id = kaggle_X_test.reset_index()[\"SK_ID_CURR\"]\n",
    "id = pd.DataFrame(id, columns=[\"SK_ID_CURR\"])\n",
    "lgbm_model_kaggle_testpredv3 = pd.DataFrame(\n",
    "    lgbm_model_kaggle_testpredv3[:, 1], columns=[\"TARGET\"]\n",
    ")\n",
    "homecredit_submission = pd.concat([id, lgbm_model_kaggle_testpredv3], axis=1)\n",
    "homecredit_submission"
   ],
   "outputs": [
    {
     "data": {
      "text/plain": [
       "       SK_ID_CURR  TARGET\n",
       "0          100001 0.29377\n",
       "1          100005 0.57116\n",
       "2          100013 0.27362\n",
       "3          100028 0.25887\n",
       "4          100038 0.76556\n",
       "...           ...     ...\n",
       "48739      456221 0.35434\n",
       "48740      456222 0.46184\n",
       "48741      456223 0.05764\n",
       "48742      456224 0.31258\n",
       "48743      456250 0.74643\n",
       "\n",
       "[48744 rows x 2 columns]"
      ],
      "text/html": [
       "<div>\n",
       "<style scoped>\n",
       "    .dataframe tbody tr th:only-of-type {\n",
       "        vertical-align: middle;\n",
       "    }\n",
       "\n",
       "    .dataframe tbody tr th {\n",
       "        vertical-align: top;\n",
       "    }\n",
       "\n",
       "    .dataframe thead th {\n",
       "        text-align: right;\n",
       "    }\n",
       "</style>\n",
       "<table border=\"1\" class=\"dataframe\">\n",
       "  <thead>\n",
       "    <tr style=\"text-align: right;\">\n",
       "      <th></th>\n",
       "      <th>SK_ID_CURR</th>\n",
       "      <th>TARGET</th>\n",
       "    </tr>\n",
       "  </thead>\n",
       "  <tbody>\n",
       "    <tr>\n",
       "      <th>0</th>\n",
       "      <td>100001</td>\n",
       "      <td>0.29377</td>\n",
       "    </tr>\n",
       "    <tr>\n",
       "      <th>1</th>\n",
       "      <td>100005</td>\n",
       "      <td>0.57116</td>\n",
       "    </tr>\n",
       "    <tr>\n",
       "      <th>2</th>\n",
       "      <td>100013</td>\n",
       "      <td>0.27362</td>\n",
       "    </tr>\n",
       "    <tr>\n",
       "      <th>3</th>\n",
       "      <td>100028</td>\n",
       "      <td>0.25887</td>\n",
       "    </tr>\n",
       "    <tr>\n",
       "      <th>4</th>\n",
       "      <td>100038</td>\n",
       "      <td>0.76556</td>\n",
       "    </tr>\n",
       "    <tr>\n",
       "      <th>...</th>\n",
       "      <td>...</td>\n",
       "      <td>...</td>\n",
       "    </tr>\n",
       "    <tr>\n",
       "      <th>48739</th>\n",
       "      <td>456221</td>\n",
       "      <td>0.35434</td>\n",
       "    </tr>\n",
       "    <tr>\n",
       "      <th>48740</th>\n",
       "      <td>456222</td>\n",
       "      <td>0.46184</td>\n",
       "    </tr>\n",
       "    <tr>\n",
       "      <th>48741</th>\n",
       "      <td>456223</td>\n",
       "      <td>0.05764</td>\n",
       "    </tr>\n",
       "    <tr>\n",
       "      <th>48742</th>\n",
       "      <td>456224</td>\n",
       "      <td>0.31258</td>\n",
       "    </tr>\n",
       "    <tr>\n",
       "      <th>48743</th>\n",
       "      <td>456250</td>\n",
       "      <td>0.74643</td>\n",
       "    </tr>\n",
       "  </tbody>\n",
       "</table>\n",
       "<p>48744 rows × 2 columns</p>\n",
       "</div>"
      ]
     },
     "execution_count": 106,
     "metadata": {},
     "output_type": "execute_result"
    }
   ],
   "execution_count": 106
  },
  {
   "cell_type": "code",
   "id": "affdab464f8df218",
   "metadata": {
    "ExecuteTime": {
     "end_time": "2024-10-01T12:51:31.690267Z",
     "start_time": "2024-10-01T12:51:31.523812Z"
    }
   },
   "source": [
    "homecredit_submission.to_csv(\n",
    "    \"../data/kaggle_submission/homecredit_submission.csv\", index=False\n",
    ")"
   ],
   "outputs": [],
   "execution_count": 107
  },
  {
   "cell_type": "markdown",
   "id": "e2a185de5c3fec9b",
   "metadata": {},
   "source": [
    "Submission to Kaggle\n",
    "AUC_ROC 0.77804"
   ]
  },
  {
   "cell_type": "markdown",
   "id": "8b0ddf910bba955d",
   "metadata": {},
   "source": [
    "# Notebook Conclusions\n",
    "- external sources, the credit annuity ratio, and job related information are important features \n",
    "- Even my best model is likely to miss 30% of people who will default \n",
    "- However, we can shift the model's threshold to protect for this. By being more strict with what we call \"no default\", we can have a stronger assumption that people will default. It will decrease the number of loans given out, but it will also decrease risk.\n",
    "\n",
    "Technically:\n",
    "\n",
    "- LightGBM slightly outperforms logistic regression and random forest\n",
    "- Hyperparameter tuning did not do much to improve models relative to less crafted versions of the same models \n",
    "- An instance-based pipeline structure allows for easy interaction with Optuna\n",
    "- A reduced feature space works just fine \n",
    "\n",
    "Future Directions:\n",
    "- consider scaling features by EXT_SOURCES, or otherwise working this feature into newly engineered features\n",
    "- hyperparameter tune using the whole dataset (perhaps using a cluster or GPU for computing power) \n",
    "- try more varieties of models\n",
    "- use a smaller dataset in order to create a model that users could interact with more directly (e.g. put in a few features and get the probability of getting a loan back to them) "
   ]
  },
  {
   "metadata": {},
   "cell_type": "markdown",
   "source": "## Prepare Materials for Deployment",
   "id": "ca7142bef9c8ea6e"
  },
  {
   "metadata": {
    "ExecuteTime": {
     "end_time": "2024-10-02T03:49:48.695203Z",
     "start_time": "2024-10-02T03:46:21.330584Z"
    }
   },
   "cell_type": "code",
   "source": [
    "lgbm_best_trial = lgbm_study.best_trial\n",
    "final_model = instantiate_lgbm_model(lgbm_best_trial, X=X_train, y=y_train)\n",
    "final_model.set_output(transform=\"pandas\")\n",
    "final_model.fit(X_train, y_train)"
   ],
   "id": "3290e30386ff73de",
   "outputs": [
    {
     "name": "stderr",
     "output_type": "stream",
     "text": [
      "/Users/migueldiaz/home-credit/lib/python3.11/site-packages/sklearn/compose/_column_transformer.py:1623: FutureWarning: \n",
      "The format of the columns of the 'remainder' transformer in ColumnTransformer.transformers_ will change in version 1.7 to match the format of the other transformers.\n",
      "At the moment the remainder columns are stored as indices (of type int). With the same ColumnTransformer configuration, in the future they will be stored as column names (of type str).\n",
      "To use the new behavior now and suppress this warning, use ColumnTransformer(force_int_remainder_cols=False).\n",
      "\n",
      "  warnings.warn(\n"
     ]
    },
    {
     "data": {
      "text/plain": [
       "Pipeline(steps=[('imputer',\n",
       "                 ColumnTransformer(remainder='passthrough',\n",
       "                                   transformers=[('categorical_imputation',\n",
       "                                                  SimpleImputer(fill_value='unknown',\n",
       "                                                                strategy='constant'),\n",
       "                                                  []),\n",
       "                                                 ('numerical_imputation',\n",
       "                                                  SimpleImputer(fill_value=0,\n",
       "                                                                strategy='constant'),\n",
       "                                                  ['AMT_CREDIT', 'AMT_ANNUITY',\n",
       "                                                   'AMT_CREDIT_div_AMT_ANNUITY',\n",
       "                                                   'AMT_INCOME_TOTAL',\n",
       "                                                   'AMT_ANNUITY_div_AMT_INCOME_TOTAL...\n",
       "                                bagging_freq=1,\n",
       "                                feature_fraction=0.851083221228567,\n",
       "                                lambda_l1=0.0038076305560719886,\n",
       "                                lambda_l2=0.0006326300655566424,\n",
       "                                learning_rate=0.017720500819766883,\n",
       "                                max_depth=12, metric=['auc', 'binary_logloss'],\n",
       "                                min_child_samples=81,\n",
       "                                min_split_gain=0.14162524181784342,\n",
       "                                n_estimators=405, num_leaves=52,\n",
       "                                objective='binary',\n",
       "                                scale_pos_weight=np.float64(11.387084592145015),\n",
       "                                verbosity=-1))])"
      ],
      "text/html": [
       "<style>#sk-container-id-3 {\n",
       "  /* Definition of color scheme common for light and dark mode */\n",
       "  --sklearn-color-text: black;\n",
       "  --sklearn-color-line: gray;\n",
       "  /* Definition of color scheme for unfitted estimators */\n",
       "  --sklearn-color-unfitted-level-0: #fff5e6;\n",
       "  --sklearn-color-unfitted-level-1: #f6e4d2;\n",
       "  --sklearn-color-unfitted-level-2: #ffe0b3;\n",
       "  --sklearn-color-unfitted-level-3: chocolate;\n",
       "  /* Definition of color scheme for fitted estimators */\n",
       "  --sklearn-color-fitted-level-0: #f0f8ff;\n",
       "  --sklearn-color-fitted-level-1: #d4ebff;\n",
       "  --sklearn-color-fitted-level-2: #b3dbfd;\n",
       "  --sklearn-color-fitted-level-3: cornflowerblue;\n",
       "\n",
       "  /* Specific color for light theme */\n",
       "  --sklearn-color-text-on-default-background: var(--sg-text-color, var(--theme-code-foreground, var(--jp-content-font-color1, black)));\n",
       "  --sklearn-color-background: var(--sg-background-color, var(--theme-background, var(--jp-layout-color0, white)));\n",
       "  --sklearn-color-border-box: var(--sg-text-color, var(--theme-code-foreground, var(--jp-content-font-color1, black)));\n",
       "  --sklearn-color-icon: #696969;\n",
       "\n",
       "  @media (prefers-color-scheme: dark) {\n",
       "    /* Redefinition of color scheme for dark theme */\n",
       "    --sklearn-color-text-on-default-background: var(--sg-text-color, var(--theme-code-foreground, var(--jp-content-font-color1, white)));\n",
       "    --sklearn-color-background: var(--sg-background-color, var(--theme-background, var(--jp-layout-color0, #111)));\n",
       "    --sklearn-color-border-box: var(--sg-text-color, var(--theme-code-foreground, var(--jp-content-font-color1, white)));\n",
       "    --sklearn-color-icon: #878787;\n",
       "  }\n",
       "}\n",
       "\n",
       "#sk-container-id-3 {\n",
       "  color: var(--sklearn-color-text);\n",
       "}\n",
       "\n",
       "#sk-container-id-3 pre {\n",
       "  padding: 0;\n",
       "}\n",
       "\n",
       "#sk-container-id-3 input.sk-hidden--visually {\n",
       "  border: 0;\n",
       "  clip: rect(1px 1px 1px 1px);\n",
       "  clip: rect(1px, 1px, 1px, 1px);\n",
       "  height: 1px;\n",
       "  margin: -1px;\n",
       "  overflow: hidden;\n",
       "  padding: 0;\n",
       "  position: absolute;\n",
       "  width: 1px;\n",
       "}\n",
       "\n",
       "#sk-container-id-3 div.sk-dashed-wrapped {\n",
       "  border: 1px dashed var(--sklearn-color-line);\n",
       "  margin: 0 0.4em 0.5em 0.4em;\n",
       "  box-sizing: border-box;\n",
       "  padding-bottom: 0.4em;\n",
       "  background-color: var(--sklearn-color-background);\n",
       "}\n",
       "\n",
       "#sk-container-id-3 div.sk-container {\n",
       "  /* jupyter's `normalize.less` sets `[hidden] { display: none; }`\n",
       "     but bootstrap.min.css set `[hidden] { display: none !important; }`\n",
       "     so we also need the `!important` here to be able to override the\n",
       "     default hidden behavior on the sphinx rendered scikit-learn.org.\n",
       "     See: https://github.com/scikit-learn/scikit-learn/issues/21755 */\n",
       "  display: inline-block !important;\n",
       "  position: relative;\n",
       "}\n",
       "\n",
       "#sk-container-id-3 div.sk-text-repr-fallback {\n",
       "  display: none;\n",
       "}\n",
       "\n",
       "div.sk-parallel-item,\n",
       "div.sk-serial,\n",
       "div.sk-item {\n",
       "  /* draw centered vertical line to link estimators */\n",
       "  background-image: linear-gradient(var(--sklearn-color-text-on-default-background), var(--sklearn-color-text-on-default-background));\n",
       "  background-size: 2px 100%;\n",
       "  background-repeat: no-repeat;\n",
       "  background-position: center center;\n",
       "}\n",
       "\n",
       "/* Parallel-specific style estimator block */\n",
       "\n",
       "#sk-container-id-3 div.sk-parallel-item::after {\n",
       "  content: \"\";\n",
       "  width: 100%;\n",
       "  border-bottom: 2px solid var(--sklearn-color-text-on-default-background);\n",
       "  flex-grow: 1;\n",
       "}\n",
       "\n",
       "#sk-container-id-3 div.sk-parallel {\n",
       "  display: flex;\n",
       "  align-items: stretch;\n",
       "  justify-content: center;\n",
       "  background-color: var(--sklearn-color-background);\n",
       "  position: relative;\n",
       "}\n",
       "\n",
       "#sk-container-id-3 div.sk-parallel-item {\n",
       "  display: flex;\n",
       "  flex-direction: column;\n",
       "}\n",
       "\n",
       "#sk-container-id-3 div.sk-parallel-item:first-child::after {\n",
       "  align-self: flex-end;\n",
       "  width: 50%;\n",
       "}\n",
       "\n",
       "#sk-container-id-3 div.sk-parallel-item:last-child::after {\n",
       "  align-self: flex-start;\n",
       "  width: 50%;\n",
       "}\n",
       "\n",
       "#sk-container-id-3 div.sk-parallel-item:only-child::after {\n",
       "  width: 0;\n",
       "}\n",
       "\n",
       "/* Serial-specific style estimator block */\n",
       "\n",
       "#sk-container-id-3 div.sk-serial {\n",
       "  display: flex;\n",
       "  flex-direction: column;\n",
       "  align-items: center;\n",
       "  background-color: var(--sklearn-color-background);\n",
       "  padding-right: 1em;\n",
       "  padding-left: 1em;\n",
       "}\n",
       "\n",
       "\n",
       "/* Toggleable style: style used for estimator/Pipeline/ColumnTransformer box that is\n",
       "clickable and can be expanded/collapsed.\n",
       "- Pipeline and ColumnTransformer use this feature and define the default style\n",
       "- Estimators will overwrite some part of the style using the `sk-estimator` class\n",
       "*/\n",
       "\n",
       "/* Pipeline and ColumnTransformer style (default) */\n",
       "\n",
       "#sk-container-id-3 div.sk-toggleable {\n",
       "  /* Default theme specific background. It is overwritten whether we have a\n",
       "  specific estimator or a Pipeline/ColumnTransformer */\n",
       "  background-color: var(--sklearn-color-background);\n",
       "}\n",
       "\n",
       "/* Toggleable label */\n",
       "#sk-container-id-3 label.sk-toggleable__label {\n",
       "  cursor: pointer;\n",
       "  display: block;\n",
       "  width: 100%;\n",
       "  margin-bottom: 0;\n",
       "  padding: 0.5em;\n",
       "  box-sizing: border-box;\n",
       "  text-align: center;\n",
       "}\n",
       "\n",
       "#sk-container-id-3 label.sk-toggleable__label-arrow:before {\n",
       "  /* Arrow on the left of the label */\n",
       "  content: \"▸\";\n",
       "  float: left;\n",
       "  margin-right: 0.25em;\n",
       "  color: var(--sklearn-color-icon);\n",
       "}\n",
       "\n",
       "#sk-container-id-3 label.sk-toggleable__label-arrow:hover:before {\n",
       "  color: var(--sklearn-color-text);\n",
       "}\n",
       "\n",
       "/* Toggleable content - dropdown */\n",
       "\n",
       "#sk-container-id-3 div.sk-toggleable__content {\n",
       "  max-height: 0;\n",
       "  max-width: 0;\n",
       "  overflow: hidden;\n",
       "  text-align: left;\n",
       "  /* unfitted */\n",
       "  background-color: var(--sklearn-color-unfitted-level-0);\n",
       "}\n",
       "\n",
       "#sk-container-id-3 div.sk-toggleable__content.fitted {\n",
       "  /* fitted */\n",
       "  background-color: var(--sklearn-color-fitted-level-0);\n",
       "}\n",
       "\n",
       "#sk-container-id-3 div.sk-toggleable__content pre {\n",
       "  margin: 0.2em;\n",
       "  border-radius: 0.25em;\n",
       "  color: var(--sklearn-color-text);\n",
       "  /* unfitted */\n",
       "  background-color: var(--sklearn-color-unfitted-level-0);\n",
       "}\n",
       "\n",
       "#sk-container-id-3 div.sk-toggleable__content.fitted pre {\n",
       "  /* unfitted */\n",
       "  background-color: var(--sklearn-color-fitted-level-0);\n",
       "}\n",
       "\n",
       "#sk-container-id-3 input.sk-toggleable__control:checked~div.sk-toggleable__content {\n",
       "  /* Expand drop-down */\n",
       "  max-height: 200px;\n",
       "  max-width: 100%;\n",
       "  overflow: auto;\n",
       "}\n",
       "\n",
       "#sk-container-id-3 input.sk-toggleable__control:checked~label.sk-toggleable__label-arrow:before {\n",
       "  content: \"▾\";\n",
       "}\n",
       "\n",
       "/* Pipeline/ColumnTransformer-specific style */\n",
       "\n",
       "#sk-container-id-3 div.sk-label input.sk-toggleable__control:checked~label.sk-toggleable__label {\n",
       "  color: var(--sklearn-color-text);\n",
       "  background-color: var(--sklearn-color-unfitted-level-2);\n",
       "}\n",
       "\n",
       "#sk-container-id-3 div.sk-label.fitted input.sk-toggleable__control:checked~label.sk-toggleable__label {\n",
       "  background-color: var(--sklearn-color-fitted-level-2);\n",
       "}\n",
       "\n",
       "/* Estimator-specific style */\n",
       "\n",
       "/* Colorize estimator box */\n",
       "#sk-container-id-3 div.sk-estimator input.sk-toggleable__control:checked~label.sk-toggleable__label {\n",
       "  /* unfitted */\n",
       "  background-color: var(--sklearn-color-unfitted-level-2);\n",
       "}\n",
       "\n",
       "#sk-container-id-3 div.sk-estimator.fitted input.sk-toggleable__control:checked~label.sk-toggleable__label {\n",
       "  /* fitted */\n",
       "  background-color: var(--sklearn-color-fitted-level-2);\n",
       "}\n",
       "\n",
       "#sk-container-id-3 div.sk-label label.sk-toggleable__label,\n",
       "#sk-container-id-3 div.sk-label label {\n",
       "  /* The background is the default theme color */\n",
       "  color: var(--sklearn-color-text-on-default-background);\n",
       "}\n",
       "\n",
       "/* On hover, darken the color of the background */\n",
       "#sk-container-id-3 div.sk-label:hover label.sk-toggleable__label {\n",
       "  color: var(--sklearn-color-text);\n",
       "  background-color: var(--sklearn-color-unfitted-level-2);\n",
       "}\n",
       "\n",
       "/* Label box, darken color on hover, fitted */\n",
       "#sk-container-id-3 div.sk-label.fitted:hover label.sk-toggleable__label.fitted {\n",
       "  color: var(--sklearn-color-text);\n",
       "  background-color: var(--sklearn-color-fitted-level-2);\n",
       "}\n",
       "\n",
       "/* Estimator label */\n",
       "\n",
       "#sk-container-id-3 div.sk-label label {\n",
       "  font-family: monospace;\n",
       "  font-weight: bold;\n",
       "  display: inline-block;\n",
       "  line-height: 1.2em;\n",
       "}\n",
       "\n",
       "#sk-container-id-3 div.sk-label-container {\n",
       "  text-align: center;\n",
       "}\n",
       "\n",
       "/* Estimator-specific */\n",
       "#sk-container-id-3 div.sk-estimator {\n",
       "  font-family: monospace;\n",
       "  border: 1px dotted var(--sklearn-color-border-box);\n",
       "  border-radius: 0.25em;\n",
       "  box-sizing: border-box;\n",
       "  margin-bottom: 0.5em;\n",
       "  /* unfitted */\n",
       "  background-color: var(--sklearn-color-unfitted-level-0);\n",
       "}\n",
       "\n",
       "#sk-container-id-3 div.sk-estimator.fitted {\n",
       "  /* fitted */\n",
       "  background-color: var(--sklearn-color-fitted-level-0);\n",
       "}\n",
       "\n",
       "/* on hover */\n",
       "#sk-container-id-3 div.sk-estimator:hover {\n",
       "  /* unfitted */\n",
       "  background-color: var(--sklearn-color-unfitted-level-2);\n",
       "}\n",
       "\n",
       "#sk-container-id-3 div.sk-estimator.fitted:hover {\n",
       "  /* fitted */\n",
       "  background-color: var(--sklearn-color-fitted-level-2);\n",
       "}\n",
       "\n",
       "/* Specification for estimator info (e.g. \"i\" and \"?\") */\n",
       "\n",
       "/* Common style for \"i\" and \"?\" */\n",
       "\n",
       ".sk-estimator-doc-link,\n",
       "a:link.sk-estimator-doc-link,\n",
       "a:visited.sk-estimator-doc-link {\n",
       "  float: right;\n",
       "  font-size: smaller;\n",
       "  line-height: 1em;\n",
       "  font-family: monospace;\n",
       "  background-color: var(--sklearn-color-background);\n",
       "  border-radius: 1em;\n",
       "  height: 1em;\n",
       "  width: 1em;\n",
       "  text-decoration: none !important;\n",
       "  margin-left: 1ex;\n",
       "  /* unfitted */\n",
       "  border: var(--sklearn-color-unfitted-level-1) 1pt solid;\n",
       "  color: var(--sklearn-color-unfitted-level-1);\n",
       "}\n",
       "\n",
       ".sk-estimator-doc-link.fitted,\n",
       "a:link.sk-estimator-doc-link.fitted,\n",
       "a:visited.sk-estimator-doc-link.fitted {\n",
       "  /* fitted */\n",
       "  border: var(--sklearn-color-fitted-level-1) 1pt solid;\n",
       "  color: var(--sklearn-color-fitted-level-1);\n",
       "}\n",
       "\n",
       "/* On hover */\n",
       "div.sk-estimator:hover .sk-estimator-doc-link:hover,\n",
       ".sk-estimator-doc-link:hover,\n",
       "div.sk-label-container:hover .sk-estimator-doc-link:hover,\n",
       ".sk-estimator-doc-link:hover {\n",
       "  /* unfitted */\n",
       "  background-color: var(--sklearn-color-unfitted-level-3);\n",
       "  color: var(--sklearn-color-background);\n",
       "  text-decoration: none;\n",
       "}\n",
       "\n",
       "div.sk-estimator.fitted:hover .sk-estimator-doc-link.fitted:hover,\n",
       ".sk-estimator-doc-link.fitted:hover,\n",
       "div.sk-label-container:hover .sk-estimator-doc-link.fitted:hover,\n",
       ".sk-estimator-doc-link.fitted:hover {\n",
       "  /* fitted */\n",
       "  background-color: var(--sklearn-color-fitted-level-3);\n",
       "  color: var(--sklearn-color-background);\n",
       "  text-decoration: none;\n",
       "}\n",
       "\n",
       "/* Span, style for the box shown on hovering the info icon */\n",
       ".sk-estimator-doc-link span {\n",
       "  display: none;\n",
       "  z-index: 9999;\n",
       "  position: relative;\n",
       "  font-weight: normal;\n",
       "  right: .2ex;\n",
       "  padding: .5ex;\n",
       "  margin: .5ex;\n",
       "  width: min-content;\n",
       "  min-width: 20ex;\n",
       "  max-width: 50ex;\n",
       "  color: var(--sklearn-color-text);\n",
       "  box-shadow: 2pt 2pt 4pt #999;\n",
       "  /* unfitted */\n",
       "  background: var(--sklearn-color-unfitted-level-0);\n",
       "  border: .5pt solid var(--sklearn-color-unfitted-level-3);\n",
       "}\n",
       "\n",
       ".sk-estimator-doc-link.fitted span {\n",
       "  /* fitted */\n",
       "  background: var(--sklearn-color-fitted-level-0);\n",
       "  border: var(--sklearn-color-fitted-level-3);\n",
       "}\n",
       "\n",
       ".sk-estimator-doc-link:hover span {\n",
       "  display: block;\n",
       "}\n",
       "\n",
       "/* \"?\"-specific style due to the `<a>` HTML tag */\n",
       "\n",
       "#sk-container-id-3 a.estimator_doc_link {\n",
       "  float: right;\n",
       "  font-size: 1rem;\n",
       "  line-height: 1em;\n",
       "  font-family: monospace;\n",
       "  background-color: var(--sklearn-color-background);\n",
       "  border-radius: 1rem;\n",
       "  height: 1rem;\n",
       "  width: 1rem;\n",
       "  text-decoration: none;\n",
       "  /* unfitted */\n",
       "  color: var(--sklearn-color-unfitted-level-1);\n",
       "  border: var(--sklearn-color-unfitted-level-1) 1pt solid;\n",
       "}\n",
       "\n",
       "#sk-container-id-3 a.estimator_doc_link.fitted {\n",
       "  /* fitted */\n",
       "  border: var(--sklearn-color-fitted-level-1) 1pt solid;\n",
       "  color: var(--sklearn-color-fitted-level-1);\n",
       "}\n",
       "\n",
       "/* On hover */\n",
       "#sk-container-id-3 a.estimator_doc_link:hover {\n",
       "  /* unfitted */\n",
       "  background-color: var(--sklearn-color-unfitted-level-3);\n",
       "  color: var(--sklearn-color-background);\n",
       "  text-decoration: none;\n",
       "}\n",
       "\n",
       "#sk-container-id-3 a.estimator_doc_link.fitted:hover {\n",
       "  /* fitted */\n",
       "  background-color: var(--sklearn-color-fitted-level-3);\n",
       "}\n",
       "</style><div id=\"sk-container-id-3\" class=\"sk-top-container\"><div class=\"sk-text-repr-fallback\"><pre>Pipeline(steps=[(&#x27;imputer&#x27;,\n",
       "                 ColumnTransformer(remainder=&#x27;passthrough&#x27;,\n",
       "                                   transformers=[(&#x27;categorical_imputation&#x27;,\n",
       "                                                  SimpleImputer(fill_value=&#x27;unknown&#x27;,\n",
       "                                                                strategy=&#x27;constant&#x27;),\n",
       "                                                  []),\n",
       "                                                 (&#x27;numerical_imputation&#x27;,\n",
       "                                                  SimpleImputer(fill_value=0,\n",
       "                                                                strategy=&#x27;constant&#x27;),\n",
       "                                                  [&#x27;AMT_CREDIT&#x27;, &#x27;AMT_ANNUITY&#x27;,\n",
       "                                                   &#x27;AMT_CREDIT_div_AMT_ANNUITY&#x27;,\n",
       "                                                   &#x27;AMT_INCOME_TOTAL&#x27;,\n",
       "                                                   &#x27;AMT_ANNUITY_div_AMT_INCOME_TOTAL...\n",
       "                                bagging_freq=1,\n",
       "                                feature_fraction=0.851083221228567,\n",
       "                                lambda_l1=0.0038076305560719886,\n",
       "                                lambda_l2=0.0006326300655566424,\n",
       "                                learning_rate=0.017720500819766883,\n",
       "                                max_depth=12, metric=[&#x27;auc&#x27;, &#x27;binary_logloss&#x27;],\n",
       "                                min_child_samples=81,\n",
       "                                min_split_gain=0.14162524181784342,\n",
       "                                n_estimators=405, num_leaves=52,\n",
       "                                objective=&#x27;binary&#x27;,\n",
       "                                scale_pos_weight=np.float64(11.387084592145015),\n",
       "                                verbosity=-1))])</pre><b>In a Jupyter environment, please rerun this cell to show the HTML representation or trust the notebook. <br />On GitHub, the HTML representation is unable to render, please try loading this page with nbviewer.org.</b></div><div class=\"sk-container\" hidden><div class=\"sk-item sk-dashed-wrapped\"><div class=\"sk-label-container\"><div class=\"sk-label fitted sk-toggleable\"><input class=\"sk-toggleable__control sk-hidden--visually\" id=\"sk-estimator-id-45\" type=\"checkbox\" ><label for=\"sk-estimator-id-45\" class=\"sk-toggleable__label fitted sk-toggleable__label-arrow fitted\">&nbsp;&nbsp;Pipeline<a class=\"sk-estimator-doc-link fitted\" rel=\"noreferrer\" target=\"_blank\" href=\"https://scikit-learn.org/1.5/modules/generated/sklearn.pipeline.Pipeline.html\">?<span>Documentation for Pipeline</span></a><span class=\"sk-estimator-doc-link fitted\">i<span>Fitted</span></span></label><div class=\"sk-toggleable__content fitted\"><pre>Pipeline(steps=[(&#x27;imputer&#x27;,\n",
       "                 ColumnTransformer(remainder=&#x27;passthrough&#x27;,\n",
       "                                   transformers=[(&#x27;categorical_imputation&#x27;,\n",
       "                                                  SimpleImputer(fill_value=&#x27;unknown&#x27;,\n",
       "                                                                strategy=&#x27;constant&#x27;),\n",
       "                                                  []),\n",
       "                                                 (&#x27;numerical_imputation&#x27;,\n",
       "                                                  SimpleImputer(fill_value=0,\n",
       "                                                                strategy=&#x27;constant&#x27;),\n",
       "                                                  [&#x27;AMT_CREDIT&#x27;, &#x27;AMT_ANNUITY&#x27;,\n",
       "                                                   &#x27;AMT_CREDIT_div_AMT_ANNUITY&#x27;,\n",
       "                                                   &#x27;AMT_INCOME_TOTAL&#x27;,\n",
       "                                                   &#x27;AMT_ANNUITY_div_AMT_INCOME_TOTAL...\n",
       "                                bagging_freq=1,\n",
       "                                feature_fraction=0.851083221228567,\n",
       "                                lambda_l1=0.0038076305560719886,\n",
       "                                lambda_l2=0.0006326300655566424,\n",
       "                                learning_rate=0.017720500819766883,\n",
       "                                max_depth=12, metric=[&#x27;auc&#x27;, &#x27;binary_logloss&#x27;],\n",
       "                                min_child_samples=81,\n",
       "                                min_split_gain=0.14162524181784342,\n",
       "                                n_estimators=405, num_leaves=52,\n",
       "                                objective=&#x27;binary&#x27;,\n",
       "                                scale_pos_weight=np.float64(11.387084592145015),\n",
       "                                verbosity=-1))])</pre></div> </div></div><div class=\"sk-serial\"><div class=\"sk-item sk-dashed-wrapped\"><div class=\"sk-label-container\"><div class=\"sk-label fitted sk-toggleable\"><input class=\"sk-toggleable__control sk-hidden--visually\" id=\"sk-estimator-id-46\" type=\"checkbox\" ><label for=\"sk-estimator-id-46\" class=\"sk-toggleable__label fitted sk-toggleable__label-arrow fitted\">&nbsp;imputer: ColumnTransformer<a class=\"sk-estimator-doc-link fitted\" rel=\"noreferrer\" target=\"_blank\" href=\"https://scikit-learn.org/1.5/modules/generated/sklearn.compose.ColumnTransformer.html\">?<span>Documentation for imputer: ColumnTransformer</span></a></label><div class=\"sk-toggleable__content fitted\"><pre>ColumnTransformer(remainder=&#x27;passthrough&#x27;,\n",
       "                  transformers=[(&#x27;categorical_imputation&#x27;,\n",
       "                                 SimpleImputer(fill_value=&#x27;unknown&#x27;,\n",
       "                                               strategy=&#x27;constant&#x27;),\n",
       "                                 []),\n",
       "                                (&#x27;numerical_imputation&#x27;,\n",
       "                                 SimpleImputer(fill_value=0,\n",
       "                                               strategy=&#x27;constant&#x27;),\n",
       "                                 [&#x27;AMT_CREDIT&#x27;, &#x27;AMT_ANNUITY&#x27;,\n",
       "                                  &#x27;AMT_CREDIT_div_AMT_ANNUITY&#x27;,\n",
       "                                  &#x27;AMT_INCOME_TOTAL&#x27;,\n",
       "                                  &#x27;AMT_ANNUITY_div_AMT_INCOME_TOTAL&#x27;,\n",
       "                                  &#x27;AMT_ANNUITY_log&#x27;,\n",
       "                                  &#x27;AMT_AN...\n",
       "                                  &#x27;AMT_REQ_CREDIT_BUREAU_WEEK&#x27;,\n",
       "                                  &#x27;AMT_REQ_CREDIT_BUREAU_YEAR&#x27;,\n",
       "                                  &#x27;EXT_SOURCE_MEAN&#x27;, &#x27;EXT_SOURCE_STD&#x27;,\n",
       "                                  &#x27;DAYS_EMPLOYED&#x27;, &#x27;AMT_PAYMENT_min&#x27;,\n",
       "                                  &#x27;CNT_INSTALMENT_FUTURE_std&#x27;,\n",
       "                                  &#x27;n_old_credit_balances_log&#x27;,\n",
       "                                  &#x27;n_prev_apps_log&#x27;, &#x27;n_prev_payments_log&#x27;,\n",
       "                                  &#x27;AMT_PAYMENT_min_log&#x27;, &#x27;DAYS_CREDIT_max&#x27;,\n",
       "                                  &#x27;DAYS_CREDIT_UPDATE_mean&#x27;,\n",
       "                                  &#x27;DAYS_INSTALMENT_max&#x27;, ...])],\n",
       "                  verbose_feature_names_out=False)</pre></div> </div></div><div class=\"sk-parallel\"><div class=\"sk-parallel-item\"><div class=\"sk-item\"><div class=\"sk-label-container\"><div class=\"sk-label fitted sk-toggleable\"><input class=\"sk-toggleable__control sk-hidden--visually\" id=\"sk-estimator-id-47\" type=\"checkbox\" ><label for=\"sk-estimator-id-47\" class=\"sk-toggleable__label fitted sk-toggleable__label-arrow fitted\">categorical_imputation</label><div class=\"sk-toggleable__content fitted\"><pre>[]</pre></div> </div></div><div class=\"sk-serial\"><div class=\"sk-item\"><div class=\"sk-estimator fitted sk-toggleable\"><input class=\"sk-toggleable__control sk-hidden--visually\" id=\"sk-estimator-id-48\" type=\"checkbox\" ><label for=\"sk-estimator-id-48\" class=\"sk-toggleable__label fitted sk-toggleable__label-arrow fitted\">&nbsp;SimpleImputer<a class=\"sk-estimator-doc-link fitted\" rel=\"noreferrer\" target=\"_blank\" href=\"https://scikit-learn.org/1.5/modules/generated/sklearn.impute.SimpleImputer.html\">?<span>Documentation for SimpleImputer</span></a></label><div class=\"sk-toggleable__content fitted\"><pre>SimpleImputer(fill_value=&#x27;unknown&#x27;, strategy=&#x27;constant&#x27;)</pre></div> </div></div></div></div></div><div class=\"sk-parallel-item\"><div class=\"sk-item\"><div class=\"sk-label-container\"><div class=\"sk-label fitted sk-toggleable\"><input class=\"sk-toggleable__control sk-hidden--visually\" id=\"sk-estimator-id-49\" type=\"checkbox\" ><label for=\"sk-estimator-id-49\" class=\"sk-toggleable__label fitted sk-toggleable__label-arrow fitted\">numerical_imputation</label><div class=\"sk-toggleable__content fitted\"><pre>[&#x27;AMT_CREDIT&#x27;, &#x27;AMT_ANNUITY&#x27;, &#x27;AMT_CREDIT_div_AMT_ANNUITY&#x27;, &#x27;AMT_INCOME_TOTAL&#x27;, &#x27;AMT_ANNUITY_div_AMT_INCOME_TOTAL&#x27;, &#x27;AMT_ANNUITY_log&#x27;, &#x27;AMT_ANNUITY_log_div_AMT_INCOME_TOTAL&#x27;, &#x27;HOUR_APPR_PROCESS_START_sin&#x27;, &#x27;nFLAGS_ALL_ZEROS&#x27;, &#x27;EXT_SOURCE_1&#x27;, &#x27;EXT_SOURCE_2&#x27;, &#x27;EXT_SOURCE_3&#x27;, &#x27;AMT_REQ_CREDIT_BUREAU_DAY&#x27;, &#x27;AMT_REQ_CREDIT_BUREAU_HOUR&#x27;, &#x27;AMT_REQ_CREDIT_BUREAU_MON&#x27;, &#x27;AMT_REQ_CREDIT_BUREAU_QRT&#x27;, &#x27;AMT_REQ_CREDIT_BUREAU_WEEK&#x27;, &#x27;AMT_REQ_CREDIT_BUREAU_YEAR&#x27;, &#x27;EXT_SOURCE_MEAN&#x27;, &#x27;EXT_SOURCE_STD&#x27;, &#x27;DAYS_EMPLOYED&#x27;, &#x27;AMT_PAYMENT_min&#x27;, &#x27;CNT_INSTALMENT_FUTURE_std&#x27;, &#x27;n_old_credit_balances_log&#x27;, &#x27;n_prev_apps_log&#x27;, &#x27;n_prev_payments_log&#x27;, &#x27;AMT_PAYMENT_min_log&#x27;, &#x27;DAYS_CREDIT_max&#x27;, &#x27;DAYS_CREDIT_UPDATE_mean&#x27;, &#x27;DAYS_INSTALMENT_max&#x27;, &#x27;DAYS_CREDIT_ENDDATE_mean_log&#x27;, &#x27;CNT_CHILDREN&#x27;, &#x27;REGION_POPULATION_RELATIVE&#x27;, &#x27;DAYS_BIRTH&#x27;, &#x27;DAYS_REGISTRATION&#x27;, &#x27;DAYS_ID_PUBLISH&#x27;, &#x27;OWN_CAR_AGE&#x27;, &#x27;REGION_RATING_CLIENT&#x27;, &#x27;YEARS_BUILD_AVG&#x27;, &#x27;ENTRANCES_AVG&#x27;, &#x27;FLOORSMAX_AVG&#x27;, &#x27;LANDAREA_AVG&#x27;, &#x27;NONLIVINGAPARTMENTS_AVG&#x27;, &#x27;NONLIVINGAREA_AVG&#x27;, &#x27;BASEMENTAREA_MODE&#x27;, &#x27;YEARS_BEGINEXPLUATATION_MODE&#x27;, &#x27;LIVINGAPARTMENTS_MODE&#x27;, &#x27;COMMONAREA_MEDI&#x27;, &#x27;OBS_30_CNT_SOCIAL_CIRCLE&#x27;, &#x27;DEF_30_CNT_SOCIAL_CIRCLE&#x27;, &#x27;DAYS_LAST_PHONE_CHANGE&#x27;, &#x27;AMT_ANNUITY_max_x&#x27;, &#x27;AMT_CREDIT_MAX_OVERDUE_max&#x27;, &#x27;AMT_CREDIT_MAX_OVERDUE_std&#x27;, &#x27;AMT_CREDIT_SUM_median&#x27;, &#x27;AMT_CREDIT_SUM_DEBT_max&#x27;, &#x27;AMT_CREDIT_SUM_DEBT_std&#x27;, &#x27;AMT_CREDIT_SUM_LIMIT_max&#x27;, &#x27;AMT_CREDIT_SUM_LIMIT_mean&#x27;, &#x27;AMT_CREDIT_SUM_OVERDUE_max&#x27;, &#x27;CREDIT_DAY_OVERDUE_std&#x27;, &#x27;DAYS_CREDIT_min&#x27;, &#x27;DAYS_CREDIT_std&#x27;, &#x27;DAYS_CREDIT_ENDDATE_min&#x27;, &#x27;DAYS_CREDIT_ENDDATE_max&#x27;, &#x27;DAYS_CREDIT_UPDATE_max&#x27;, &#x27;DAYS_ENDDATE_FACT_max&#x27;, &#x27;MONTHS_BALANCE_mean_mean&#x27;, &#x27;STATUS_1_cts_max&#x27;, &#x27;STATUS_1_cts_mean&#x27;, &#x27;STATUS_1_cts_std&#x27;, &#x27;CREDIT_ACTIVE_Active_cts&#x27;, &#x27;CREDIT_TYPE_Consumer_credit_cts&#x27;, &#x27;CREDIT_TYPE_Credit_card_cts&#x27;, &#x27;CREDIT_TYPE_Microloan_cts&#x27;, &#x27;CREDIT_TYPE_Mortgage_cts&#x27;, &#x27;AMT_CREDIT_LIMIT_ACTUAL_median&#x27;, &#x27;AMT_CREDIT_LIMIT_ACTUAL_std&#x27;, &#x27;AMT_DRAWINGS_ATM_CURRENT_max&#x27;, &#x27;AMT_DRAWINGS_ATM_CURRENT_mean&#x27;, &#x27;AMT_DRAWINGS_CURRENT_std&#x27;, &#x27;AMT_DRAWINGS_POS_CURRENT_mean&#x27;, &#x27;AMT_DRAWINGS_POS_CURRENT_std&#x27;, &#x27;AMT_PAYMENT_TOTAL_CURRENT_max&#x27;, &#x27;AMT_RECEIVABLE_PRINCIPAL_max&#x27;, &#x27;AMT_RECIVABLE_min&#x27;, &#x27;AMT_RECIVABLE_median&#x27;, &#x27;CNT_DRAWINGS_ATM_CURRENT_mean&#x27;, &#x27;CNT_DRAWINGS_ATM_CURRENT_std&#x27;, &#x27;CNT_DRAWINGS_CURRENT_max&#x27;, &#x27;CNT_DRAWINGS_CURRENT_mean&#x27;, &#x27;CNT_INSTALMENT_MATURE_CUM_min&#x27;, &#x27;CNT_INSTALMENT_MATURE_CUM_std&#x27;, &#x27;MONTHS_BALANCE_max_x&#x27;, &#x27;CNT_INSTALMENT_min&#x27;, &#x27;CNT_INSTALMENT_FUTURE_median&#x27;, &#x27;MONTHS_BALANCE_std&#x27;, &#x27;SK_DPD_std&#x27;, &#x27;SK_DPD_DEF_max&#x27;, &#x27;NAME_CONTRACT_STATUS_Active_cts&#x27;, &#x27;NAME_CONTRACT_STATUS_Completed_cts&#x27;, &#x27;AMT_ANNUITY_max_y&#x27;, &#x27;AMT_ANNUITY_mean&#x27;, &#x27;AMT_CREDIT_median&#x27;, &#x27;AMT_CREDIT_std&#x27;, &#x27;AMT_DOWN_PAYMENT_max&#x27;, &#x27;CNT_PAYMENT_max&#x27;, &#x27;CNT_PAYMENT_mean&#x27;, &#x27;CNT_PAYMENT_std&#x27;, &#x27;DAYS_DECISION_min&#x27;, &#x27;DAYS_DECISION_mean&#x27;, &#x27;DAYS_DECISION_std&#x27;, &#x27;DAYS_FIRST_DRAWING_std&#x27;, &#x27;DAYS_FIRST_DUE_min&#x27;, &#x27;DAYS_FIRST_DUE_std&#x27;, &#x27;DAYS_LAST_DUE_1ST_VERSION_median&#x27;, &#x27;DAYS_TERMINATION_mean&#x27;, &#x27;HOUR_APPR_PROCESS_START_min&#x27;, &#x27;RATE_DOWN_PAYMENT_max&#x27;, &#x27;RATE_DOWN_PAYMENT_std&#x27;, &#x27;SELLERPLACE_AREA_max&#x27;, &#x27;NAME_CONTRACT_STATUS_Approved_cts&#x27;, &#x27;CODE_REJECT_REASON_HC_cts&#x27;, &#x27;CODE_REJECT_REASON_LIMIT_cts&#x27;, &#x27;CODE_REJECT_REASON_SCOFR_cts&#x27;, &#x27;NAME_CLIENT_TYPE_New_cts&#x27;, &#x27;NAME_CLIENT_TYPE_Refreshed_cts&#x27;, &#x27;NAME_GOODS_CATEGORY_Furniture_cts&#x27;, &#x27;NAME_GOODS_CATEGORY_Mobile_cts&#x27;, &#x27;NAME_PORTFOLIO_Cards_cts&#x27;, &#x27;NAME_PRODUCT_TYPE_walk_in_cts&#x27;, &#x27;CHANNEL_TYPE_AP___Cash_loan__cts&#x27;, &#x27;NAME_SELLER_INDUSTRY_XNA_cts&#x27;, &#x27;NAME_YIELD_GROUP_high_cts&#x27;, &#x27;NAME_YIELD_GROUP_low_action_cts&#x27;, &#x27;NAME_YIELD_GROUP_low_normal_cts&#x27;, &#x27;PRODUCT_COMBINATION_Cash_Street__high_cts&#x27;, &#x27;PRODUCT_COMBINATION_Cash_Street__middle_cts&#x27;, &#x27;PRODUCT_COMBINATION_Cash_X_Sell__high_cts&#x27;, &#x27;PRODUCT_COMBINATION_Cash_X_Sell__low_cts&#x27;, &#x27;PRODUCT_COMBINATION_POS_industry_with_interest_cts&#x27;, &#x27;PRODUCT_COMBINATION_POS_industry_without_interest_cts&#x27;, &#x27;PRODUCT_COMBINATION_POS_mobile_with_interest_cts&#x27;, &#x27;AMT_PAYMENT_max&#x27;, &#x27;AMT_PAYMENT_std&#x27;, &#x27;NUM_INSTALMENT_NUMBER_std&#x27;, &#x27;NUM_INSTALMENT_VERSION_min&#x27;, &#x27;NUM_INSTALMENT_VERSION_max&#x27;, &#x27;NUM_INSTALMENT_VERSION_mean&#x27;]</pre></div> </div></div><div class=\"sk-serial\"><div class=\"sk-item\"><div class=\"sk-estimator fitted sk-toggleable\"><input class=\"sk-toggleable__control sk-hidden--visually\" id=\"sk-estimator-id-50\" type=\"checkbox\" ><label for=\"sk-estimator-id-50\" class=\"sk-toggleable__label fitted sk-toggleable__label-arrow fitted\">&nbsp;SimpleImputer<a class=\"sk-estimator-doc-link fitted\" rel=\"noreferrer\" target=\"_blank\" href=\"https://scikit-learn.org/1.5/modules/generated/sklearn.impute.SimpleImputer.html\">?<span>Documentation for SimpleImputer</span></a></label><div class=\"sk-toggleable__content fitted\"><pre>SimpleImputer(fill_value=0, strategy=&#x27;constant&#x27;)</pre></div> </div></div></div></div></div><div class=\"sk-parallel-item\"><div class=\"sk-item\"><div class=\"sk-label-container\"><div class=\"sk-label fitted sk-toggleable\"><input class=\"sk-toggleable__control sk-hidden--visually\" id=\"sk-estimator-id-51\" type=\"checkbox\" ><label for=\"sk-estimator-id-51\" class=\"sk-toggleable__label fitted sk-toggleable__label-arrow fitted\">remainder</label><div class=\"sk-toggleable__content fitted\"><pre>[&#x27;FLAG_DOCUMENT_2&#x27;, &#x27;FLAG_DOCUMENT_3&#x27;, &#x27;FLAG_DOCUMENT_4&#x27;, &#x27;FLAG_DOCUMENT_5&#x27;, &#x27;FLAG_DOCUMENT_6&#x27;, &#x27;FLAG_DOCUMENT_7&#x27;, &#x27;FLAG_DOCUMENT_8&#x27;, &#x27;FLAG_DOCUMENT_9&#x27;, &#x27;FLAG_DOCUMENT_10&#x27;, &#x27;FLAG_DOCUMENT_11&#x27;, &#x27;FLAG_DOCUMENT_12&#x27;, &#x27;FLAG_DOCUMENT_13&#x27;, &#x27;FLAG_DOCUMENT_14&#x27;, &#x27;FLAG_DOCUMENT_15&#x27;, &#x27;FLAG_DOCUMENT_16&#x27;, &#x27;FLAG_DOCUMENT_17&#x27;, &#x27;FLAG_DOCUMENT_18&#x27;, &#x27;FLAG_DOCUMENT_19&#x27;, &#x27;FLAG_DOCUMENT_21&#x27;, &#x27;ANY_EXT_SOURCE_MISSING&#x27;, &#x27;NAME_CONTRACT_TYPE&#x27;, &#x27;CODE_GENDER&#x27;, &#x27;FLAG_OWN_CAR&#x27;, &#x27;FLAG_OWN_REALTY&#x27;, &#x27;NAME_TYPE_SUITE&#x27;, &#x27;NAME_EDUCATION_TYPE&#x27;, &#x27;NAME_FAMILY_STATUS&#x27;, &#x27;NAME_HOUSING_TYPE&#x27;, &#x27;FLAG_MOBIL&#x27;, &#x27;FLAG_WORK_PHONE&#x27;, &#x27;FLAG_CONT_MOBILE&#x27;, &#x27;FLAG_PHONE&#x27;, &#x27;FLAG_EMAIL&#x27;, &#x27;OCCUPATION_TYPE&#x27;, &#x27;WEEKDAY_APPR_PROCESS_START&#x27;, &#x27;REG_REGION_NOT_LIVE_REGION&#x27;, &#x27;LIVE_REGION_NOT_WORK_REGION&#x27;, &#x27;REG_CITY_NOT_LIVE_CITY&#x27;, &#x27;REG_CITY_NOT_WORK_CITY&#x27;, &#x27;ORGANIZATION_TYPE&#x27;, &#x27;FONDKAPREMONT_MODE&#x27;, &#x27;HOUSETYPE_MODE&#x27;, &#x27;WALLSMATERIAL_MODE&#x27;, &#x27;EMERGENCYSTATE_MODE&#x27;]</pre></div> </div></div><div class=\"sk-serial\"><div class=\"sk-item\"><div class=\"sk-estimator fitted sk-toggleable\"><input class=\"sk-toggleable__control sk-hidden--visually\" id=\"sk-estimator-id-52\" type=\"checkbox\" ><label for=\"sk-estimator-id-52\" class=\"sk-toggleable__label fitted sk-toggleable__label-arrow fitted\">passthrough</label><div class=\"sk-toggleable__content fitted\"><pre>passthrough</pre></div> </div></div></div></div></div></div></div><div class=\"sk-item sk-dashed-wrapped\"><div class=\"sk-label-container\"><div class=\"sk-label fitted sk-toggleable\"><input class=\"sk-toggleable__control sk-hidden--visually\" id=\"sk-estimator-id-53\" type=\"checkbox\" ><label for=\"sk-estimator-id-53\" class=\"sk-toggleable__label fitted sk-toggleable__label-arrow fitted\">&nbsp;encoder: ColumnTransformer<a class=\"sk-estimator-doc-link fitted\" rel=\"noreferrer\" target=\"_blank\" href=\"https://scikit-learn.org/1.5/modules/generated/sklearn.compose.ColumnTransformer.html\">?<span>Documentation for encoder: ColumnTransformer</span></a></label><div class=\"sk-toggleable__content fitted\"><pre>ColumnTransformer(remainder=&#x27;passthrough&#x27;,\n",
       "                  transformers=[(&#x27;ohe&#x27;,\n",
       "                                 OneHotEncoder(drop=&#x27;if_binary&#x27;,\n",
       "                                               handle_unknown=&#x27;ignore&#x27;,\n",
       "                                               sparse_output=False),\n",
       "                                 [&#x27;FLAG_DOCUMENT_2&#x27;, &#x27;FLAG_DOCUMENT_3&#x27;,\n",
       "                                  &#x27;FLAG_DOCUMENT_4&#x27;, &#x27;FLAG_DOCUMENT_5&#x27;,\n",
       "                                  &#x27;FLAG_DOCUMENT_6&#x27;, &#x27;FLAG_DOCUMENT_7&#x27;,\n",
       "                                  &#x27;FLAG_DOCUMENT_8&#x27;, &#x27;FLAG_DOCUMENT_9&#x27;,\n",
       "                                  &#x27;FLAG_DOCUMENT_10&#x27;, &#x27;FLAG_DOCUMENT_11&#x27;,\n",
       "                                  &#x27;FLAG_DOCUMENT_12&#x27;, &#x27;FLAG_DOC...\n",
       "                                  &#x27;FLAG_EMAIL&#x27;, &#x27;REG_REGION_NOT_LIVE_REGION&#x27;, ...]),\n",
       "                                (&#x27;target_enc&#x27;,\n",
       "                                 TargetEncoder(smooth=10.054407801849583,\n",
       "                                               target_type=&#x27;binary&#x27;),\n",
       "                                 [&#x27;NAME_TYPE_SUITE&#x27;, &#x27;NAME_EDUCATION_TYPE&#x27;,\n",
       "                                  &#x27;NAME_FAMILY_STATUS&#x27;, &#x27;NAME_HOUSING_TYPE&#x27;,\n",
       "                                  &#x27;OCCUPATION_TYPE&#x27;,\n",
       "                                  &#x27;WEEKDAY_APPR_PROCESS_START&#x27;,\n",
       "                                  &#x27;ORGANIZATION_TYPE&#x27;, &#x27;FONDKAPREMONT_MODE&#x27;,\n",
       "                                  &#x27;WALLSMATERIAL_MODE&#x27;])],\n",
       "                  verbose_feature_names_out=False)</pre></div> </div></div><div class=\"sk-parallel\"><div class=\"sk-parallel-item\"><div class=\"sk-item\"><div class=\"sk-label-container\"><div class=\"sk-label fitted sk-toggleable\"><input class=\"sk-toggleable__control sk-hidden--visually\" id=\"sk-estimator-id-54\" type=\"checkbox\" ><label for=\"sk-estimator-id-54\" class=\"sk-toggleable__label fitted sk-toggleable__label-arrow fitted\">ohe</label><div class=\"sk-toggleable__content fitted\"><pre>[&#x27;FLAG_DOCUMENT_2&#x27;, &#x27;FLAG_DOCUMENT_3&#x27;, &#x27;FLAG_DOCUMENT_4&#x27;, &#x27;FLAG_DOCUMENT_5&#x27;, &#x27;FLAG_DOCUMENT_6&#x27;, &#x27;FLAG_DOCUMENT_7&#x27;, &#x27;FLAG_DOCUMENT_8&#x27;, &#x27;FLAG_DOCUMENT_9&#x27;, &#x27;FLAG_DOCUMENT_10&#x27;, &#x27;FLAG_DOCUMENT_11&#x27;, &#x27;FLAG_DOCUMENT_12&#x27;, &#x27;FLAG_DOCUMENT_13&#x27;, &#x27;FLAG_DOCUMENT_14&#x27;, &#x27;FLAG_DOCUMENT_15&#x27;, &#x27;FLAG_DOCUMENT_16&#x27;, &#x27;FLAG_DOCUMENT_17&#x27;, &#x27;FLAG_DOCUMENT_18&#x27;, &#x27;FLAG_DOCUMENT_19&#x27;, &#x27;FLAG_DOCUMENT_21&#x27;, &#x27;ANY_EXT_SOURCE_MISSING&#x27;, &#x27;NAME_CONTRACT_TYPE&#x27;, &#x27;CODE_GENDER&#x27;, &#x27;FLAG_OWN_CAR&#x27;, &#x27;FLAG_OWN_REALTY&#x27;, &#x27;FLAG_MOBIL&#x27;, &#x27;FLAG_WORK_PHONE&#x27;, &#x27;FLAG_CONT_MOBILE&#x27;, &#x27;FLAG_PHONE&#x27;, &#x27;FLAG_EMAIL&#x27;, &#x27;REG_REGION_NOT_LIVE_REGION&#x27;, &#x27;LIVE_REGION_NOT_WORK_REGION&#x27;, &#x27;REG_CITY_NOT_LIVE_CITY&#x27;, &#x27;REG_CITY_NOT_WORK_CITY&#x27;, &#x27;HOUSETYPE_MODE&#x27;, &#x27;EMERGENCYSTATE_MODE&#x27;]</pre></div> </div></div><div class=\"sk-serial\"><div class=\"sk-item\"><div class=\"sk-estimator fitted sk-toggleable\"><input class=\"sk-toggleable__control sk-hidden--visually\" id=\"sk-estimator-id-55\" type=\"checkbox\" ><label for=\"sk-estimator-id-55\" class=\"sk-toggleable__label fitted sk-toggleable__label-arrow fitted\">&nbsp;OneHotEncoder<a class=\"sk-estimator-doc-link fitted\" rel=\"noreferrer\" target=\"_blank\" href=\"https://scikit-learn.org/1.5/modules/generated/sklearn.preprocessing.OneHotEncoder.html\">?<span>Documentation for OneHotEncoder</span></a></label><div class=\"sk-toggleable__content fitted\"><pre>OneHotEncoder(drop=&#x27;if_binary&#x27;, handle_unknown=&#x27;ignore&#x27;, sparse_output=False)</pre></div> </div></div></div></div></div><div class=\"sk-parallel-item\"><div class=\"sk-item\"><div class=\"sk-label-container\"><div class=\"sk-label fitted sk-toggleable\"><input class=\"sk-toggleable__control sk-hidden--visually\" id=\"sk-estimator-id-56\" type=\"checkbox\" ><label for=\"sk-estimator-id-56\" class=\"sk-toggleable__label fitted sk-toggleable__label-arrow fitted\">target_enc</label><div class=\"sk-toggleable__content fitted\"><pre>[&#x27;NAME_TYPE_SUITE&#x27;, &#x27;NAME_EDUCATION_TYPE&#x27;, &#x27;NAME_FAMILY_STATUS&#x27;, &#x27;NAME_HOUSING_TYPE&#x27;, &#x27;OCCUPATION_TYPE&#x27;, &#x27;WEEKDAY_APPR_PROCESS_START&#x27;, &#x27;ORGANIZATION_TYPE&#x27;, &#x27;FONDKAPREMONT_MODE&#x27;, &#x27;WALLSMATERIAL_MODE&#x27;]</pre></div> </div></div><div class=\"sk-serial\"><div class=\"sk-item\"><div class=\"sk-estimator fitted sk-toggleable\"><input class=\"sk-toggleable__control sk-hidden--visually\" id=\"sk-estimator-id-57\" type=\"checkbox\" ><label for=\"sk-estimator-id-57\" class=\"sk-toggleable__label fitted sk-toggleable__label-arrow fitted\">&nbsp;TargetEncoder<a class=\"sk-estimator-doc-link fitted\" rel=\"noreferrer\" target=\"_blank\" href=\"https://scikit-learn.org/1.5/modules/generated/sklearn.preprocessing.TargetEncoder.html\">?<span>Documentation for TargetEncoder</span></a></label><div class=\"sk-toggleable__content fitted\"><pre>TargetEncoder(smooth=10.054407801849583, target_type=&#x27;binary&#x27;)</pre></div> </div></div></div></div></div><div class=\"sk-parallel-item\"><div class=\"sk-item\"><div class=\"sk-label-container\"><div class=\"sk-label fitted sk-toggleable\"><input class=\"sk-toggleable__control sk-hidden--visually\" id=\"sk-estimator-id-58\" type=\"checkbox\" ><label for=\"sk-estimator-id-58\" class=\"sk-toggleable__label fitted sk-toggleable__label-arrow fitted\">remainder</label><div class=\"sk-toggleable__content fitted\"><pre>[&#x27;AMT_CREDIT&#x27;, &#x27;AMT_ANNUITY&#x27;, &#x27;AMT_CREDIT_div_AMT_ANNUITY&#x27;, &#x27;AMT_INCOME_TOTAL&#x27;, &#x27;AMT_ANNUITY_div_AMT_INCOME_TOTAL&#x27;, &#x27;AMT_ANNUITY_log&#x27;, &#x27;AMT_ANNUITY_log_div_AMT_INCOME_TOTAL&#x27;, &#x27;HOUR_APPR_PROCESS_START_sin&#x27;, &#x27;nFLAGS_ALL_ZEROS&#x27;, &#x27;EXT_SOURCE_1&#x27;, &#x27;EXT_SOURCE_2&#x27;, &#x27;EXT_SOURCE_3&#x27;, &#x27;AMT_REQ_CREDIT_BUREAU_DAY&#x27;, &#x27;AMT_REQ_CREDIT_BUREAU_HOUR&#x27;, &#x27;AMT_REQ_CREDIT_BUREAU_MON&#x27;, &#x27;AMT_REQ_CREDIT_BUREAU_QRT&#x27;, &#x27;AMT_REQ_CREDIT_BUREAU_WEEK&#x27;, &#x27;AMT_REQ_CREDIT_BUREAU_YEAR&#x27;, &#x27;EXT_SOURCE_MEAN&#x27;, &#x27;EXT_SOURCE_STD&#x27;, &#x27;DAYS_EMPLOYED&#x27;, &#x27;AMT_PAYMENT_min&#x27;, &#x27;CNT_INSTALMENT_FUTURE_std&#x27;, &#x27;n_old_credit_balances_log&#x27;, &#x27;n_prev_apps_log&#x27;, &#x27;n_prev_payments_log&#x27;, &#x27;AMT_PAYMENT_min_log&#x27;, &#x27;DAYS_CREDIT_max&#x27;, &#x27;DAYS_CREDIT_UPDATE_mean&#x27;, &#x27;DAYS_INSTALMENT_max&#x27;, &#x27;DAYS_CREDIT_ENDDATE_mean_log&#x27;, &#x27;CNT_CHILDREN&#x27;, &#x27;REGION_POPULATION_RELATIVE&#x27;, &#x27;DAYS_BIRTH&#x27;, &#x27;DAYS_REGISTRATION&#x27;, &#x27;DAYS_ID_PUBLISH&#x27;, &#x27;OWN_CAR_AGE&#x27;, &#x27;REGION_RATING_CLIENT&#x27;, &#x27;YEARS_BUILD_AVG&#x27;, &#x27;ENTRANCES_AVG&#x27;, &#x27;FLOORSMAX_AVG&#x27;, &#x27;LANDAREA_AVG&#x27;, &#x27;NONLIVINGAPARTMENTS_AVG&#x27;, &#x27;NONLIVINGAREA_AVG&#x27;, &#x27;BASEMENTAREA_MODE&#x27;, &#x27;YEARS_BEGINEXPLUATATION_MODE&#x27;, &#x27;LIVINGAPARTMENTS_MODE&#x27;, &#x27;COMMONAREA_MEDI&#x27;, &#x27;OBS_30_CNT_SOCIAL_CIRCLE&#x27;, &#x27;DEF_30_CNT_SOCIAL_CIRCLE&#x27;, &#x27;DAYS_LAST_PHONE_CHANGE&#x27;, &#x27;AMT_ANNUITY_max_x&#x27;, &#x27;AMT_CREDIT_MAX_OVERDUE_max&#x27;, &#x27;AMT_CREDIT_MAX_OVERDUE_std&#x27;, &#x27;AMT_CREDIT_SUM_median&#x27;, &#x27;AMT_CREDIT_SUM_DEBT_max&#x27;, &#x27;AMT_CREDIT_SUM_DEBT_std&#x27;, &#x27;AMT_CREDIT_SUM_LIMIT_max&#x27;, &#x27;AMT_CREDIT_SUM_LIMIT_mean&#x27;, &#x27;AMT_CREDIT_SUM_OVERDUE_max&#x27;, &#x27;CREDIT_DAY_OVERDUE_std&#x27;, &#x27;DAYS_CREDIT_min&#x27;, &#x27;DAYS_CREDIT_std&#x27;, &#x27;DAYS_CREDIT_ENDDATE_min&#x27;, &#x27;DAYS_CREDIT_ENDDATE_max&#x27;, &#x27;DAYS_CREDIT_UPDATE_max&#x27;, &#x27;DAYS_ENDDATE_FACT_max&#x27;, &#x27;MONTHS_BALANCE_mean_mean&#x27;, &#x27;STATUS_1_cts_max&#x27;, &#x27;STATUS_1_cts_mean&#x27;, &#x27;STATUS_1_cts_std&#x27;, &#x27;CREDIT_ACTIVE_Active_cts&#x27;, &#x27;CREDIT_TYPE_Consumer_credit_cts&#x27;, &#x27;CREDIT_TYPE_Credit_card_cts&#x27;, &#x27;CREDIT_TYPE_Microloan_cts&#x27;, &#x27;CREDIT_TYPE_Mortgage_cts&#x27;, &#x27;AMT_CREDIT_LIMIT_ACTUAL_median&#x27;, &#x27;AMT_CREDIT_LIMIT_ACTUAL_std&#x27;, &#x27;AMT_DRAWINGS_ATM_CURRENT_max&#x27;, &#x27;AMT_DRAWINGS_ATM_CURRENT_mean&#x27;, &#x27;AMT_DRAWINGS_CURRENT_std&#x27;, &#x27;AMT_DRAWINGS_POS_CURRENT_mean&#x27;, &#x27;AMT_DRAWINGS_POS_CURRENT_std&#x27;, &#x27;AMT_PAYMENT_TOTAL_CURRENT_max&#x27;, &#x27;AMT_RECEIVABLE_PRINCIPAL_max&#x27;, &#x27;AMT_RECIVABLE_min&#x27;, &#x27;AMT_RECIVABLE_median&#x27;, &#x27;CNT_DRAWINGS_ATM_CURRENT_mean&#x27;, &#x27;CNT_DRAWINGS_ATM_CURRENT_std&#x27;, &#x27;CNT_DRAWINGS_CURRENT_max&#x27;, &#x27;CNT_DRAWINGS_CURRENT_mean&#x27;, &#x27;CNT_INSTALMENT_MATURE_CUM_min&#x27;, &#x27;CNT_INSTALMENT_MATURE_CUM_std&#x27;, &#x27;MONTHS_BALANCE_max_x&#x27;, &#x27;CNT_INSTALMENT_min&#x27;, &#x27;CNT_INSTALMENT_FUTURE_median&#x27;, &#x27;MONTHS_BALANCE_std&#x27;, &#x27;SK_DPD_std&#x27;, &#x27;SK_DPD_DEF_max&#x27;, &#x27;NAME_CONTRACT_STATUS_Active_cts&#x27;, &#x27;NAME_CONTRACT_STATUS_Completed_cts&#x27;, &#x27;AMT_ANNUITY_max_y&#x27;, &#x27;AMT_ANNUITY_mean&#x27;, &#x27;AMT_CREDIT_median&#x27;, &#x27;AMT_CREDIT_std&#x27;, &#x27;AMT_DOWN_PAYMENT_max&#x27;, &#x27;CNT_PAYMENT_max&#x27;, &#x27;CNT_PAYMENT_mean&#x27;, &#x27;CNT_PAYMENT_std&#x27;, &#x27;DAYS_DECISION_min&#x27;, &#x27;DAYS_DECISION_mean&#x27;, &#x27;DAYS_DECISION_std&#x27;, &#x27;DAYS_FIRST_DRAWING_std&#x27;, &#x27;DAYS_FIRST_DUE_min&#x27;, &#x27;DAYS_FIRST_DUE_std&#x27;, &#x27;DAYS_LAST_DUE_1ST_VERSION_median&#x27;, &#x27;DAYS_TERMINATION_mean&#x27;, &#x27;HOUR_APPR_PROCESS_START_min&#x27;, &#x27;RATE_DOWN_PAYMENT_max&#x27;, &#x27;RATE_DOWN_PAYMENT_std&#x27;, &#x27;SELLERPLACE_AREA_max&#x27;, &#x27;NAME_CONTRACT_STATUS_Approved_cts&#x27;, &#x27;CODE_REJECT_REASON_HC_cts&#x27;, &#x27;CODE_REJECT_REASON_LIMIT_cts&#x27;, &#x27;CODE_REJECT_REASON_SCOFR_cts&#x27;, &#x27;NAME_CLIENT_TYPE_New_cts&#x27;, &#x27;NAME_CLIENT_TYPE_Refreshed_cts&#x27;, &#x27;NAME_GOODS_CATEGORY_Furniture_cts&#x27;, &#x27;NAME_GOODS_CATEGORY_Mobile_cts&#x27;, &#x27;NAME_PORTFOLIO_Cards_cts&#x27;, &#x27;NAME_PRODUCT_TYPE_walk_in_cts&#x27;, &#x27;CHANNEL_TYPE_AP___Cash_loan__cts&#x27;, &#x27;NAME_SELLER_INDUSTRY_XNA_cts&#x27;, &#x27;NAME_YIELD_GROUP_high_cts&#x27;, &#x27;NAME_YIELD_GROUP_low_action_cts&#x27;, &#x27;NAME_YIELD_GROUP_low_normal_cts&#x27;, &#x27;PRODUCT_COMBINATION_Cash_Street__high_cts&#x27;, &#x27;PRODUCT_COMBINATION_Cash_Street__middle_cts&#x27;, &#x27;PRODUCT_COMBINATION_Cash_X_Sell__high_cts&#x27;, &#x27;PRODUCT_COMBINATION_Cash_X_Sell__low_cts&#x27;, &#x27;PRODUCT_COMBINATION_POS_industry_with_interest_cts&#x27;, &#x27;PRODUCT_COMBINATION_POS_industry_without_interest_cts&#x27;, &#x27;PRODUCT_COMBINATION_POS_mobile_with_interest_cts&#x27;, &#x27;AMT_PAYMENT_max&#x27;, &#x27;AMT_PAYMENT_std&#x27;, &#x27;NUM_INSTALMENT_NUMBER_std&#x27;, &#x27;NUM_INSTALMENT_VERSION_min&#x27;, &#x27;NUM_INSTALMENT_VERSION_max&#x27;, &#x27;NUM_INSTALMENT_VERSION_mean&#x27;]</pre></div> </div></div><div class=\"sk-serial\"><div class=\"sk-item\"><div class=\"sk-estimator fitted sk-toggleable\"><input class=\"sk-toggleable__control sk-hidden--visually\" id=\"sk-estimator-id-59\" type=\"checkbox\" ><label for=\"sk-estimator-id-59\" class=\"sk-toggleable__label fitted sk-toggleable__label-arrow fitted\">passthrough</label><div class=\"sk-toggleable__content fitted\"><pre>passthrough</pre></div> </div></div></div></div></div></div></div><div class=\"sk-item sk-dashed-wrapped\"><div class=\"sk-label-container\"><div class=\"sk-label fitted sk-toggleable\"><input class=\"sk-toggleable__control sk-hidden--visually\" id=\"sk-estimator-id-60\" type=\"checkbox\" ><label for=\"sk-estimator-id-60\" class=\"sk-toggleable__label fitted sk-toggleable__label-arrow fitted\">&nbsp;scaler: ColumnTransformer<a class=\"sk-estimator-doc-link fitted\" rel=\"noreferrer\" target=\"_blank\" href=\"https://scikit-learn.org/1.5/modules/generated/sklearn.compose.ColumnTransformer.html\">?<span>Documentation for scaler: ColumnTransformer</span></a></label><div class=\"sk-toggleable__content fitted\"><pre>ColumnTransformer(remainder=&#x27;passthrough&#x27;,\n",
       "                  transformers=[(&#x27;robust_scaler&#x27;,\n",
       "                                 StandardScaler(with_mean=False,\n",
       "                                                with_std=False),\n",
       "                                 [&#x27;AMT_CREDIT&#x27;, &#x27;AMT_ANNUITY&#x27;,\n",
       "                                  &#x27;AMT_CREDIT_div_AMT_ANNUITY&#x27;,\n",
       "                                  &#x27;AMT_INCOME_TOTAL&#x27;,\n",
       "                                  &#x27;AMT_ANNUITY_div_AMT_INCOME_TOTAL&#x27;,\n",
       "                                  &#x27;AMT_ANNUITY_log&#x27;,\n",
       "                                  &#x27;AMT_ANNUITY_log_div_AMT_INCOME_TOTAL&#x27;,\n",
       "                                  &#x27;HOUR_APPR_PROCESS_START_sin&#x27;,\n",
       "                                  &#x27;nFLAGS_ALL_ZEROS&#x27;, &#x27;EXT_SOURCE_1...\n",
       "                                  &#x27;AMT_REQ_CREDIT_BUREAU_WEEK&#x27;,\n",
       "                                  &#x27;AMT_REQ_CREDIT_BUREAU_YEAR&#x27;,\n",
       "                                  &#x27;EXT_SOURCE_MEAN&#x27;, &#x27;EXT_SOURCE_STD&#x27;,\n",
       "                                  &#x27;DAYS_EMPLOYED&#x27;, &#x27;AMT_PAYMENT_min&#x27;,\n",
       "                                  &#x27;CNT_INSTALMENT_FUTURE_std&#x27;,\n",
       "                                  &#x27;n_old_credit_balances_log&#x27;,\n",
       "                                  &#x27;n_prev_apps_log&#x27;, &#x27;n_prev_payments_log&#x27;,\n",
       "                                  &#x27;AMT_PAYMENT_min_log&#x27;, &#x27;DAYS_CREDIT_max&#x27;,\n",
       "                                  &#x27;DAYS_CREDIT_UPDATE_mean&#x27;,\n",
       "                                  &#x27;DAYS_INSTALMENT_max&#x27;, ...])],\n",
       "                  verbose_feature_names_out=False)</pre></div> </div></div><div class=\"sk-parallel\"><div class=\"sk-parallel-item\"><div class=\"sk-item\"><div class=\"sk-label-container\"><div class=\"sk-label fitted sk-toggleable\"><input class=\"sk-toggleable__control sk-hidden--visually\" id=\"sk-estimator-id-61\" type=\"checkbox\" ><label for=\"sk-estimator-id-61\" class=\"sk-toggleable__label fitted sk-toggleable__label-arrow fitted\">robust_scaler</label><div class=\"sk-toggleable__content fitted\"><pre>[&#x27;AMT_CREDIT&#x27;, &#x27;AMT_ANNUITY&#x27;, &#x27;AMT_CREDIT_div_AMT_ANNUITY&#x27;, &#x27;AMT_INCOME_TOTAL&#x27;, &#x27;AMT_ANNUITY_div_AMT_INCOME_TOTAL&#x27;, &#x27;AMT_ANNUITY_log&#x27;, &#x27;AMT_ANNUITY_log_div_AMT_INCOME_TOTAL&#x27;, &#x27;HOUR_APPR_PROCESS_START_sin&#x27;, &#x27;nFLAGS_ALL_ZEROS&#x27;, &#x27;EXT_SOURCE_1&#x27;, &#x27;EXT_SOURCE_2&#x27;, &#x27;EXT_SOURCE_3&#x27;, &#x27;AMT_REQ_CREDIT_BUREAU_DAY&#x27;, &#x27;AMT_REQ_CREDIT_BUREAU_HOUR&#x27;, &#x27;AMT_REQ_CREDIT_BUREAU_MON&#x27;, &#x27;AMT_REQ_CREDIT_BUREAU_QRT&#x27;, &#x27;AMT_REQ_CREDIT_BUREAU_WEEK&#x27;, &#x27;AMT_REQ_CREDIT_BUREAU_YEAR&#x27;, &#x27;EXT_SOURCE_MEAN&#x27;, &#x27;EXT_SOURCE_STD&#x27;, &#x27;DAYS_EMPLOYED&#x27;, &#x27;AMT_PAYMENT_min&#x27;, &#x27;CNT_INSTALMENT_FUTURE_std&#x27;, &#x27;n_old_credit_balances_log&#x27;, &#x27;n_prev_apps_log&#x27;, &#x27;n_prev_payments_log&#x27;, &#x27;AMT_PAYMENT_min_log&#x27;, &#x27;DAYS_CREDIT_max&#x27;, &#x27;DAYS_CREDIT_UPDATE_mean&#x27;, &#x27;DAYS_INSTALMENT_max&#x27;, &#x27;DAYS_CREDIT_ENDDATE_mean_log&#x27;, &#x27;CNT_CHILDREN&#x27;, &#x27;REGION_POPULATION_RELATIVE&#x27;, &#x27;DAYS_BIRTH&#x27;, &#x27;DAYS_REGISTRATION&#x27;, &#x27;DAYS_ID_PUBLISH&#x27;, &#x27;OWN_CAR_AGE&#x27;, &#x27;REGION_RATING_CLIENT&#x27;, &#x27;YEARS_BUILD_AVG&#x27;, &#x27;ENTRANCES_AVG&#x27;, &#x27;FLOORSMAX_AVG&#x27;, &#x27;LANDAREA_AVG&#x27;, &#x27;NONLIVINGAPARTMENTS_AVG&#x27;, &#x27;NONLIVINGAREA_AVG&#x27;, &#x27;BASEMENTAREA_MODE&#x27;, &#x27;YEARS_BEGINEXPLUATATION_MODE&#x27;, &#x27;LIVINGAPARTMENTS_MODE&#x27;, &#x27;COMMONAREA_MEDI&#x27;, &#x27;OBS_30_CNT_SOCIAL_CIRCLE&#x27;, &#x27;DEF_30_CNT_SOCIAL_CIRCLE&#x27;, &#x27;DAYS_LAST_PHONE_CHANGE&#x27;, &#x27;AMT_ANNUITY_max_x&#x27;, &#x27;AMT_CREDIT_MAX_OVERDUE_max&#x27;, &#x27;AMT_CREDIT_MAX_OVERDUE_std&#x27;, &#x27;AMT_CREDIT_SUM_median&#x27;, &#x27;AMT_CREDIT_SUM_DEBT_max&#x27;, &#x27;AMT_CREDIT_SUM_DEBT_std&#x27;, &#x27;AMT_CREDIT_SUM_LIMIT_max&#x27;, &#x27;AMT_CREDIT_SUM_LIMIT_mean&#x27;, &#x27;AMT_CREDIT_SUM_OVERDUE_max&#x27;, &#x27;CREDIT_DAY_OVERDUE_std&#x27;, &#x27;DAYS_CREDIT_min&#x27;, &#x27;DAYS_CREDIT_std&#x27;, &#x27;DAYS_CREDIT_ENDDATE_min&#x27;, &#x27;DAYS_CREDIT_ENDDATE_max&#x27;, &#x27;DAYS_CREDIT_UPDATE_max&#x27;, &#x27;DAYS_ENDDATE_FACT_max&#x27;, &#x27;MONTHS_BALANCE_mean_mean&#x27;, &#x27;STATUS_1_cts_max&#x27;, &#x27;STATUS_1_cts_mean&#x27;, &#x27;STATUS_1_cts_std&#x27;, &#x27;CREDIT_ACTIVE_Active_cts&#x27;, &#x27;CREDIT_TYPE_Consumer_credit_cts&#x27;, &#x27;CREDIT_TYPE_Credit_card_cts&#x27;, &#x27;CREDIT_TYPE_Microloan_cts&#x27;, &#x27;CREDIT_TYPE_Mortgage_cts&#x27;, &#x27;AMT_CREDIT_LIMIT_ACTUAL_median&#x27;, &#x27;AMT_CREDIT_LIMIT_ACTUAL_std&#x27;, &#x27;AMT_DRAWINGS_ATM_CURRENT_max&#x27;, &#x27;AMT_DRAWINGS_ATM_CURRENT_mean&#x27;, &#x27;AMT_DRAWINGS_CURRENT_std&#x27;, &#x27;AMT_DRAWINGS_POS_CURRENT_mean&#x27;, &#x27;AMT_DRAWINGS_POS_CURRENT_std&#x27;, &#x27;AMT_PAYMENT_TOTAL_CURRENT_max&#x27;, &#x27;AMT_RECEIVABLE_PRINCIPAL_max&#x27;, &#x27;AMT_RECIVABLE_min&#x27;, &#x27;AMT_RECIVABLE_median&#x27;, &#x27;CNT_DRAWINGS_ATM_CURRENT_mean&#x27;, &#x27;CNT_DRAWINGS_ATM_CURRENT_std&#x27;, &#x27;CNT_DRAWINGS_CURRENT_max&#x27;, &#x27;CNT_DRAWINGS_CURRENT_mean&#x27;, &#x27;CNT_INSTALMENT_MATURE_CUM_min&#x27;, &#x27;CNT_INSTALMENT_MATURE_CUM_std&#x27;, &#x27;MONTHS_BALANCE_max_x&#x27;, &#x27;CNT_INSTALMENT_min&#x27;, &#x27;CNT_INSTALMENT_FUTURE_median&#x27;, &#x27;MONTHS_BALANCE_std&#x27;, &#x27;SK_DPD_std&#x27;, &#x27;SK_DPD_DEF_max&#x27;, &#x27;NAME_CONTRACT_STATUS_Active_cts&#x27;, &#x27;NAME_CONTRACT_STATUS_Completed_cts&#x27;, &#x27;AMT_ANNUITY_max_y&#x27;, &#x27;AMT_ANNUITY_mean&#x27;, &#x27;AMT_CREDIT_median&#x27;, &#x27;AMT_CREDIT_std&#x27;, &#x27;AMT_DOWN_PAYMENT_max&#x27;, &#x27;CNT_PAYMENT_max&#x27;, &#x27;CNT_PAYMENT_mean&#x27;, &#x27;CNT_PAYMENT_std&#x27;, &#x27;DAYS_DECISION_min&#x27;, &#x27;DAYS_DECISION_mean&#x27;, &#x27;DAYS_DECISION_std&#x27;, &#x27;DAYS_FIRST_DRAWING_std&#x27;, &#x27;DAYS_FIRST_DUE_min&#x27;, &#x27;DAYS_FIRST_DUE_std&#x27;, &#x27;DAYS_LAST_DUE_1ST_VERSION_median&#x27;, &#x27;DAYS_TERMINATION_mean&#x27;, &#x27;HOUR_APPR_PROCESS_START_min&#x27;, &#x27;RATE_DOWN_PAYMENT_max&#x27;, &#x27;RATE_DOWN_PAYMENT_std&#x27;, &#x27;SELLERPLACE_AREA_max&#x27;, &#x27;NAME_CONTRACT_STATUS_Approved_cts&#x27;, &#x27;CODE_REJECT_REASON_HC_cts&#x27;, &#x27;CODE_REJECT_REASON_LIMIT_cts&#x27;, &#x27;CODE_REJECT_REASON_SCOFR_cts&#x27;, &#x27;NAME_CLIENT_TYPE_New_cts&#x27;, &#x27;NAME_CLIENT_TYPE_Refreshed_cts&#x27;, &#x27;NAME_GOODS_CATEGORY_Furniture_cts&#x27;, &#x27;NAME_GOODS_CATEGORY_Mobile_cts&#x27;, &#x27;NAME_PORTFOLIO_Cards_cts&#x27;, &#x27;NAME_PRODUCT_TYPE_walk_in_cts&#x27;, &#x27;CHANNEL_TYPE_AP___Cash_loan__cts&#x27;, &#x27;NAME_SELLER_INDUSTRY_XNA_cts&#x27;, &#x27;NAME_YIELD_GROUP_high_cts&#x27;, &#x27;NAME_YIELD_GROUP_low_action_cts&#x27;, &#x27;NAME_YIELD_GROUP_low_normal_cts&#x27;, &#x27;PRODUCT_COMBINATION_Cash_Street__high_cts&#x27;, &#x27;PRODUCT_COMBINATION_Cash_Street__middle_cts&#x27;, &#x27;PRODUCT_COMBINATION_Cash_X_Sell__high_cts&#x27;, &#x27;PRODUCT_COMBINATION_Cash_X_Sell__low_cts&#x27;, &#x27;PRODUCT_COMBINATION_POS_industry_with_interest_cts&#x27;, &#x27;PRODUCT_COMBINATION_POS_industry_without_interest_cts&#x27;, &#x27;PRODUCT_COMBINATION_POS_mobile_with_interest_cts&#x27;, &#x27;AMT_PAYMENT_max&#x27;, &#x27;AMT_PAYMENT_std&#x27;, &#x27;NUM_INSTALMENT_NUMBER_std&#x27;, &#x27;NUM_INSTALMENT_VERSION_min&#x27;, &#x27;NUM_INSTALMENT_VERSION_max&#x27;, &#x27;NUM_INSTALMENT_VERSION_mean&#x27;]</pre></div> </div></div><div class=\"sk-serial\"><div class=\"sk-item\"><div class=\"sk-estimator fitted sk-toggleable\"><input class=\"sk-toggleable__control sk-hidden--visually\" id=\"sk-estimator-id-62\" type=\"checkbox\" ><label for=\"sk-estimator-id-62\" class=\"sk-toggleable__label fitted sk-toggleable__label-arrow fitted\">&nbsp;StandardScaler<a class=\"sk-estimator-doc-link fitted\" rel=\"noreferrer\" target=\"_blank\" href=\"https://scikit-learn.org/1.5/modules/generated/sklearn.preprocessing.StandardScaler.html\">?<span>Documentation for StandardScaler</span></a></label><div class=\"sk-toggleable__content fitted\"><pre>StandardScaler(with_mean=False, with_std=False)</pre></div> </div></div></div></div></div><div class=\"sk-parallel-item\"><div class=\"sk-item\"><div class=\"sk-label-container\"><div class=\"sk-label fitted sk-toggleable\"><input class=\"sk-toggleable__control sk-hidden--visually\" id=\"sk-estimator-id-63\" type=\"checkbox\" ><label for=\"sk-estimator-id-63\" class=\"sk-toggleable__label fitted sk-toggleable__label-arrow fitted\">remainder</label><div class=\"sk-toggleable__content fitted\"><pre>[&#x27;FLAG_DOCUMENT_2_True&#x27;, &#x27;FLAG_DOCUMENT_3_True&#x27;, &#x27;FLAG_DOCUMENT_4_True&#x27;, &#x27;FLAG_DOCUMENT_5_True&#x27;, &#x27;FLAG_DOCUMENT_6_True&#x27;, &#x27;FLAG_DOCUMENT_7_True&#x27;, &#x27;FLAG_DOCUMENT_8_True&#x27;, &#x27;FLAG_DOCUMENT_9_True&#x27;, &#x27;FLAG_DOCUMENT_10_True&#x27;, &#x27;FLAG_DOCUMENT_11_True&#x27;, &#x27;FLAG_DOCUMENT_12_True&#x27;, &#x27;FLAG_DOCUMENT_13_True&#x27;, &#x27;FLAG_DOCUMENT_14_True&#x27;, &#x27;FLAG_DOCUMENT_15_True&#x27;, &#x27;FLAG_DOCUMENT_16_True&#x27;, &#x27;FLAG_DOCUMENT_17_True&#x27;, &#x27;FLAG_DOCUMENT_18_True&#x27;, &#x27;FLAG_DOCUMENT_19_True&#x27;, &#x27;FLAG_DOCUMENT_21_True&#x27;, &#x27;ANY_EXT_SOURCE_MISSING_True&#x27;, &#x27;NAME_CONTRACT_TYPE_Revolving loans&#x27;, &#x27;CODE_GENDER_F&#x27;, &#x27;CODE_GENDER_M&#x27;, &#x27;CODE_GENDER_XNA&#x27;, &#x27;FLAG_OWN_CAR_True&#x27;, &#x27;FLAG_OWN_REALTY_True&#x27;, &#x27;FLAG_MOBIL_True&#x27;, &#x27;FLAG_WORK_PHONE_True&#x27;, &#x27;FLAG_CONT_MOBILE_True&#x27;, &#x27;FLAG_PHONE_True&#x27;, &#x27;FLAG_EMAIL_True&#x27;, &#x27;REG_REGION_NOT_LIVE_REGION_True&#x27;, &#x27;LIVE_REGION_NOT_WORK_REGION_True&#x27;, &#x27;REG_CITY_NOT_LIVE_CITY_True&#x27;, &#x27;REG_CITY_NOT_WORK_CITY_True&#x27;, &#x27;HOUSETYPE_MODE_block of flats&#x27;, &#x27;HOUSETYPE_MODE_specific housing&#x27;, &#x27;HOUSETYPE_MODE_terraced house&#x27;, &#x27;HOUSETYPE_MODE_nan&#x27;, &#x27;EMERGENCYSTATE_MODE_True&#x27;, &#x27;NAME_TYPE_SUITE&#x27;, &#x27;NAME_EDUCATION_TYPE&#x27;, &#x27;NAME_FAMILY_STATUS&#x27;, &#x27;NAME_HOUSING_TYPE&#x27;, &#x27;OCCUPATION_TYPE&#x27;, &#x27;WEEKDAY_APPR_PROCESS_START&#x27;, &#x27;ORGANIZATION_TYPE&#x27;, &#x27;FONDKAPREMONT_MODE&#x27;, &#x27;WALLSMATERIAL_MODE&#x27;]</pre></div> </div></div><div class=\"sk-serial\"><div class=\"sk-item\"><div class=\"sk-estimator fitted sk-toggleable\"><input class=\"sk-toggleable__control sk-hidden--visually\" id=\"sk-estimator-id-64\" type=\"checkbox\" ><label for=\"sk-estimator-id-64\" class=\"sk-toggleable__label fitted sk-toggleable__label-arrow fitted\">passthrough</label><div class=\"sk-toggleable__content fitted\"><pre>passthrough</pre></div> </div></div></div></div></div></div></div><div class=\"sk-item\"><div class=\"sk-estimator fitted sk-toggleable\"><input class=\"sk-toggleable__control sk-hidden--visually\" id=\"sk-estimator-id-65\" type=\"checkbox\" ><label for=\"sk-estimator-id-65\" class=\"sk-toggleable__label fitted sk-toggleable__label-arrow fitted\">&nbsp;SelectPercentile<a class=\"sk-estimator-doc-link fitted\" rel=\"noreferrer\" target=\"_blank\" href=\"https://scikit-learn.org/1.5/modules/generated/sklearn.feature_selection.SelectPercentile.html\">?<span>Documentation for SelectPercentile</span></a></label><div class=\"sk-toggleable__content fitted\"><pre>SelectPercentile(percentile=91,\n",
       "                 score_func=&lt;function mutual_info_classif at 0x123b40d60&gt;)</pre></div> </div></div><div class=\"sk-item\"><div class=\"sk-estimator fitted sk-toggleable\"><input class=\"sk-toggleable__control sk-hidden--visually\" id=\"sk-estimator-id-66\" type=\"checkbox\" ><label for=\"sk-estimator-id-66\" class=\"sk-toggleable__label fitted sk-toggleable__label-arrow fitted\">LGBMClassifier</label><div class=\"sk-toggleable__content fitted\"><pre>LGBMClassifier(bagging_fraction=0.7339622458628344, bagging_freq=1,\n",
       "               feature_fraction=0.851083221228567,\n",
       "               lambda_l1=0.0038076305560719886, lambda_l2=0.0006326300655566424,\n",
       "               learning_rate=0.017720500819766883, max_depth=12,\n",
       "               metric=[&#x27;auc&#x27;, &#x27;binary_logloss&#x27;], min_child_samples=81,\n",
       "               min_split_gain=0.14162524181784342, n_estimators=405,\n",
       "               num_leaves=52, objective=&#x27;binary&#x27;,\n",
       "               scale_pos_weight=np.float64(11.387084592145015), verbosity=-1)</pre></div> </div></div></div></div></div></div>"
      ]
     },
     "execution_count": 228,
     "metadata": {},
     "output_type": "execute_result"
    }
   ],
   "execution_count": 228
  },
  {
   "metadata": {
    "ExecuteTime": {
     "end_time": "2024-10-02T03:50:40.915333Z",
     "start_time": "2024-10-02T03:50:40.797732Z"
    }
   },
   "cell_type": "code",
   "source": [
    "with open(\"../deployment/model/model.pkl\", \"wb\") as file:\n",
    "    pickle.dump(final_model, file)"
   ],
   "id": "e79317378582074f",
   "outputs": [],
   "execution_count": 229
  },
  {
   "metadata": {},
   "cell_type": "code",
   "execution_count": 191,
   "source": [
    "X_complete = pd.concat([X_train, X_val, X_test], axis=0)\n",
    "X_complete = X_complete.sort_index()\n",
    "X_complete.to_parquet(path=\"../deployment/data/X_data.parquet\", index=True)"
   ],
   "id": "e4f7f473d59be46b",
   "outputs": []
  },
  {
   "metadata": {},
   "cell_type": "code",
   "execution_count": 225,
   "source": "X_read = pd.read_parquet(\"../deployment/data/X_data.parquet\")",
   "id": "4ff69c17fd8ee403",
   "outputs": []
  },
  {
   "metadata": {},
   "cell_type": "markdown",
   "source": "# Interact with Deployed App",
   "id": "83323d1277ae7ed"
  },
  {
   "metadata": {
    "ExecuteTime": {
     "end_time": "2024-10-02T21:00:26.784671Z",
     "start_time": "2024-10-02T21:00:26.673522Z"
    }
   },
   "cell_type": "code",
   "source": [
    "import requests \n",
    "\n",
    "url = \"https://home-credit-375961790011.us-east4.run.app\"\n",
    "response = requests.get(url)"
   ],
   "id": "e4daedb9d20e4069",
   "outputs": [],
   "execution_count": 277
  },
  {
   "metadata": {
    "ExecuteTime": {
     "end_time": "2024-10-02T21:00:28.052543Z",
     "start_time": "2024-10-02T21:00:28.045682Z"
    }
   },
   "cell_type": "code",
   "source": [
    "if response.status_code == 200:\n",
    "    data = response.json()\n",
    "    print(data)\n",
    "else:\n",
    "    print(\"Request failed with status code:\", response.status_code)"
   ],
   "id": "f2a856e4f36be811",
   "outputs": [
    {
     "name": "stdout",
     "output_type": "stream",
     "text": [
      "{'message': 'Loan default prediction API is running'}\n"
     ]
    }
   ],
   "execution_count": 278
  },
  {
   "metadata": {
    "ExecuteTime": {
     "end_time": "2024-10-02T21:08:37.345993Z",
     "start_time": "2024-10-02T21:08:34.519003Z"
    }
   },
   "cell_type": "code",
   "source": [
    "url = \"http://localhost:80/predict\"\n",
    "\n",
    "input_data = {\n",
    "  \"AMT_CREDIT\": 100000,\n",
    "  \"AMT_ANNUITY\": 0,\n",
    "  \"AMT_CREDIT_div_AMT_ANNUITY\": 0,\n",
    "  \"AMT_INCOME_TOTAL\": 0,\n",
    "  \"AMT_ANNUITY_div_AMT_INCOME_TOTAL\": 0,\n",
    "  \"AMT_ANNUITY_log\": 0,\n",
    "  \"AMT_ANNUITY_log_div_AMT_INCOME_TOTAL\": 0,\n",
    "  \"HOUR_APPR_PROCESS_START_sin\": 0,\n",
    "  \"FLAG_DOCUMENT_2\": True,\n",
    "  \"FLAG_DOCUMENT_3\": True,\n",
    "  \"FLAG_DOCUMENT_4\": True,\n",
    "  \"FLAG_DOCUMENT_5\": True,\n",
    "  \"FLAG_DOCUMENT_6\": True,\n",
    "  \"FLAG_DOCUMENT_7\": True,\n",
    "  \"FLAG_DOCUMENT_8\": True,\n",
    "  \"FLAG_DOCUMENT_9\": True,\n",
    "  \"FLAG_DOCUMENT_10\": True,\n",
    "  \"FLAG_DOCUMENT_11\": True,\n",
    "  \"FLAG_DOCUMENT_12\": True,\n",
    "  \"FLAG_DOCUMENT_13\": True,\n",
    "  \"FLAG_DOCUMENT_14\": True,\n",
    "  \"FLAG_DOCUMENT_15\": True,\n",
    "  \"FLAG_DOCUMENT_16\": True,\n",
    "  \"FLAG_DOCUMENT_17\": True,\n",
    "  \"FLAG_DOCUMENT_18\": True,\n",
    "  \"FLAG_DOCUMENT_19\": True,\n",
    "  \"FLAG_DOCUMENT_21\": True,\n",
    "  \"nFLAGS_ALL_ZEROS\": True,\n",
    "  \"EXT_SOURCE_1\": 0,\n",
    "  \"EXT_SOURCE_2\": 0,\n",
    "  \"EXT_SOURCE_3\": 0,\n",
    "  \"ANY_EXT_SOURCE_MISSING\": True,\n",
    "  \"AMT_REQ_CREDIT_BUREAU_DAY\": 0,\n",
    "  \"AMT_REQ_CREDIT_BUREAU_HOUR\": 0,\n",
    "  \"AMT_REQ_CREDIT_BUREAU_MON\": 0,\n",
    "  \"AMT_REQ_CREDIT_BUREAU_QRT\": 0,\n",
    "  \"AMT_REQ_CREDIT_BUREAU_WEEK\": 0,\n",
    "  \"AMT_REQ_CREDIT_BUREAU_YEAR\": 0,\n",
    "  \"EXT_SOURCE_MEAN\": 0,\n",
    "  \"EXT_SOURCE_STD\": 0,\n",
    "  \"DAYS_EMPLOYED\": 0,\n",
    "  \"AMT_PAYMENT_min\": 0,\n",
    "  \"CNT_INSTALMENT_FUTURE_std\": 0,\n",
    "  \"n_old_credit_balances_log\": 0,\n",
    "  \"n_prev_apps_log\": 0,\n",
    "  \"n_prev_payments_log\": 0,\n",
    "  \"AMT_PAYMENT_min_log\": 0,\n",
    "  \"DAYS_CREDIT_max\": 0,\n",
    "  \"DAYS_CREDIT_UPDATE_mean\": 0,\n",
    "  \"DAYS_INSTALMENT_max\": 0,\n",
    "  \"DAYS_CREDIT_ENDDATE_mean_log\": 0,\n",
    "  \"NAME_CONTRACT_TYPE\": \"string\",\n",
    "  \"CODE_GENDER\": \"string\",\n",
    "  \"FLAG_OWN_CAR\": True,\n",
    "  \"FLAG_OWN_REALTY\": True,\n",
    "  \"CNT_CHILDREN\": 0,\n",
    "  \"NAME_TYPE_SUITE\": \"string\",\n",
    "  \"NAME_EDUCATION_TYPE\": \"string\",\n",
    "  \"NAME_FAMILY_STATUS\": \"string\",\n",
    "  \"NAME_HOUSING_TYPE\": \"string\",\n",
    "  \"REGION_POPULATION_RELATIVE\": 0,\n",
    "  \"DAYS_BIRTH\": 0,\n",
    "  \"DAYS_REGISTRATION\": 0,\n",
    "  \"DAYS_ID_PUBLISH\": 0,\n",
    "  \"OWN_CAR_AGE\": 0,\n",
    "  \"FLAG_MOBIL\": True,\n",
    "  \"FLAG_WORK_PHONE\": True,\n",
    "  \"FLAG_CONT_MOBILE\": True,\n",
    "  \"FLAG_PHONE\": True,\n",
    "  \"FLAG_EMAIL\": True,\n",
    "  \"OCCUPATION_TYPE\": \"string\",\n",
    "  \"REGION_RATING_CLIENT\": 0,\n",
    "  \"WEEKDAY_APPR_PROCESS_START\": \"string\",\n",
    "  \"REG_REGION_NOT_LIVE_REGION\": True,\n",
    "  \"LIVE_REGION_NOT_WORK_REGION\": True,\n",
    "  \"REG_CITY_NOT_LIVE_CITY\": True,\n",
    "  \"REG_CITY_NOT_WORK_CITY\": True,\n",
    "  \"ORGANIZATION_TYPE\": \"string\",\n",
    "  \"YEARS_BUILD_AVG\": 0,\n",
    "  \"ENTRANCES_AVG\": 0,\n",
    "  \"FLOORSMAX_AVG\": 0,\n",
    "  \"LANDAREA_AVG\": 0,\n",
    "  \"NONLIVINGAPARTMENTS_AVG\": 0,\n",
    "  \"NONLIVINGAREA_AVG\": 0,\n",
    "  \"BASEMENTAREA_MODE\": 0,\n",
    "  \"YEARS_BEGINEXPLUATATION_MODE\": 0,\n",
    "  \"LIVINGAPARTMENTS_MODE\": 0,\n",
    "  \"COMMONAREA_MEDI\": 0,\n",
    "  \"FONDKAPREMONT_MODE\": \"string\",\n",
    "  \"HOUSETYPE_MODE\": \"string\",\n",
    "  \"WALLSMATERIAL_MODE\": \"string\",\n",
    "  \"EMERGENCYSTATE_MODE\": \"string\",\n",
    "  \"OBS_30_CNT_SOCIAL_CIRCLE\": 0,\n",
    "  \"DEF_30_CNT_SOCIAL_CIRCLE\": 0,\n",
    "  \"DAYS_LAST_PHONE_CHANGE\": 0,\n",
    "  \"AMT_ANNUITY_max_x\": 0,\n",
    "  \"AMT_CREDIT_MAX_OVERDUE_max\": 0,\n",
    "  \"AMT_CREDIT_MAX_OVERDUE_std\": 0,\n",
    "  \"AMT_CREDIT_SUM_median\": 0,\n",
    "  \"AMT_CREDIT_SUM_DEBT_max\": 0,\n",
    "  \"AMT_CREDIT_SUM_DEBT_std\": 0,\n",
    "  \"AMT_CREDIT_SUM_LIMIT_max\": 0,\n",
    "  \"AMT_CREDIT_SUM_LIMIT_mean\": 0,\n",
    "  \"AMT_CREDIT_SUM_OVERDUE_max\": 0,\n",
    "  \"CREDIT_DAY_OVERDUE_std\": 0,\n",
    "  \"DAYS_CREDIT_min\": 0,\n",
    "  \"DAYS_CREDIT_std\": 0,\n",
    "  \"DAYS_CREDIT_ENDDATE_min\": 0,\n",
    "  \"DAYS_CREDIT_ENDDATE_max\": 0,\n",
    "  \"DAYS_CREDIT_UPDATE_max\": 0,\n",
    "  \"DAYS_ENDDATE_FACT_max\": 0,\n",
    "  \"MONTHS_BALANCE_mean_mean\": 0,\n",
    "  \"STATUS_1_cts_max\": 0,\n",
    "  \"STATUS_1_cts_mean\": 0,\n",
    "  \"STATUS_1_cts_std\": 0,\n",
    "  \"CREDIT_ACTIVE_Active_cts\": 0,\n",
    "  \"CREDIT_TYPE_Consumer_credit_cts\": 0,\n",
    "  \"CREDIT_TYPE_Credit_card_cts\": 0,\n",
    "  \"CREDIT_TYPE_Microloan_cts\": 0,\n",
    "  \"CREDIT_TYPE_Mortgage_cts\": 0,\n",
    "  \"AMT_CREDIT_LIMIT_ACTUAL_median\": 0,\n",
    "  \"AMT_CREDIT_LIMIT_ACTUAL_std\": 0,\n",
    "  \"AMT_DRAWINGS_ATM_CURRENT_max\": 0,\n",
    "  \"AMT_DRAWINGS_ATM_CURRENT_mean\": 0,\n",
    "  \"AMT_DRAWINGS_CURRENT_std\": 0,\n",
    "  \"AMT_DRAWINGS_POS_CURRENT_mean\": 0,\n",
    "  \"AMT_DRAWINGS_POS_CURRENT_std\": 0,\n",
    "  \"AMT_PAYMENT_TOTAL_CURRENT_max\": 0,\n",
    "  \"AMT_RECEIVABLE_PRINCIPAL_max\": 0,\n",
    "  \"AMT_RECIVABLE_min\": 0,\n",
    "  \"AMT_RECIVABLE_median\": 0,\n",
    "  \"CNT_DRAWINGS_ATM_CURRENT_mean\": 0,\n",
    "  \"CNT_DRAWINGS_ATM_CURRENT_std\": 0,\n",
    "  \"CNT_DRAWINGS_CURRENT_max\": 0,\n",
    "  \"CNT_DRAWINGS_CURRENT_mean\": 0,\n",
    "  \"CNT_INSTALMENT_MATURE_CUM_min\": 0,\n",
    "  \"CNT_INSTALMENT_MATURE_CUM_std\": 0,\n",
    "  \"MONTHS_BALANCE_max_x\": 0,\n",
    "  \"CNT_INSTALMENT_min\": 0,\n",
    "  \"CNT_INSTALMENT_FUTURE_median\": 0,\n",
    "  \"MONTHS_BALANCE_std\": 0,\n",
    "  \"SK_DPD_std\": 0,\n",
    "  \"SK_DPD_DEF_max\": 0,\n",
    "  \"NAME_CONTRACT_STATUS_Active_cts\": 0,\n",
    "  \"NAME_CONTRACT_STATUS_Completed_cts\": 0,\n",
    "  \"AMT_ANNUITY_max_y\": 0,\n",
    "  \"AMT_ANNUITY_mean\": 0,\n",
    "  \"AMT_CREDIT_median\": 0,\n",
    "  \"AMT_CREDIT_std\": 0,\n",
    "  \"AMT_DOWN_PAYMENT_max\": 0,\n",
    "  \"CNT_PAYMENT_max\": 0,\n",
    "  \"CNT_PAYMENT_mean\": 0,\n",
    "  \"CNT_PAYMENT_std\": 0,\n",
    "  \"DAYS_DECISION_min\": 0,\n",
    "  \"DAYS_DECISION_mean\": 0,\n",
    "  \"DAYS_DECISION_std\": 0,\n",
    "  \"DAYS_FIRST_DRAWING_std\": 0,\n",
    "  \"DAYS_FIRST_DUE_min\": 0,\n",
    "  \"DAYS_FIRST_DUE_std\": 0,\n",
    "  \"DAYS_LAST_DUE_1ST_VERSION_median\": 0,\n",
    "  \"DAYS_TERMINATION_mean\": 0,\n",
    "  \"HOUR_APPR_PROCESS_START_min\": 0,\n",
    "  \"RATE_DOWN_PAYMENT_max\": 0,\n",
    "  \"RATE_DOWN_PAYMENT_std\": 0,\n",
    "  \"SELLERPLACE_AREA_max\": 0,\n",
    "  \"NAME_CONTRACT_STATUS_Approved_cts\": 0,\n",
    "  \"CODE_REJECT_REASON_HC_cts\": 0,\n",
    "  \"CODE_REJECT_REASON_LIMIT_cts\": 0,\n",
    "  \"CODE_REJECT_REASON_SCOFR_cts\": 0,\n",
    "  \"NAME_CLIENT_TYPE_New_cts\": 0,\n",
    "  \"NAME_CLIENT_TYPE_Refreshed_cts\": 0,\n",
    "  \"NAME_GOODS_CATEGORY_Furniture_cts\": 0,\n",
    "  \"NAME_GOODS_CATEGORY_Mobile_cts\": 0,\n",
    "  \"NAME_PORTFOLIO_Cards_cts\": 0,\n",
    "  \"NAME_PRODUCT_TYPE_walk_in_cts\": 0,\n",
    "  \"CHANNEL_TYPE_AP___Cash_loan__cts\": 0,\n",
    "  \"NAME_SELLER_INDUSTRY_Auto_cts\": 0,\n",
    "  \"NAME_SELLER_INDUSTRY_Consumer_electronics_cts\": 0,\n",
    "  \"NAME_SELLER_INDUSTRY_Furniture_cts\": 0,\n",
    "  \"CNT_PAYMENT_max_y\": 0,\n",
    "  \"NAME_CONTRACT_STATUS_Refused_cts\": 0,\n",
    "  \"NAME_SELLER_INDUSTRY_XNA_cts\": 0,\n",
    "  \"NAME_YIELD_GROUP_high_cts\": 0,\n",
    "  \"NAME_YIELD_GROUP_low_action_cts\": 0,\n",
    "  \"NAME_YIELD_GROUP_low_normal_cts\": 0,\n",
    "  \"PRODUCT_COMBINATION_Cash_Street__high_cts\": 0,\n",
    "  \"PRODUCT_COMBINATION_Cash_Street__middle_cts\": 0,\n",
    "  \"PRODUCT_COMBINATION_Cash_X_Sell__high_cts\": 0,\n",
    "  \"PRODUCT_COMBINATION_Cash_X_Sell__low_cts\": 0,\n",
    "  \"PRODUCT_COMBINATION_POS_industry_with_interest_cts\": 0,\n",
    "  \"PRODUCT_COMBINATION_POS_industry_without_interest_cts\": 0,\n",
    "  \"PRODUCT_COMBINATION_POS_mobile_with_interest_cts\": 0,\n",
    "  \"AMT_PAYMENT_max\": 0,\n",
    "  \"AMT_PAYMENT_std\": 0,\n",
    "  \"NUM_INSTALMENT_NUMBER_std\": 0,\n",
    "  \"NUM_INSTALMENT_VERSION_min\": 0,\n",
    "  \"NUM_INSTALMENT_VERSION_max\": 0,\n",
    "  \"NUM_INSTALMENT_VERSION_mean\": 0\n",
    "}\n",
    "response = requests.post(url, json=input_data)\n",
    "\n",
    "print(response.json())"
   ],
   "id": "d654175db74fcd9a",
   "outputs": [
    {
     "name": "stdout",
     "output_type": "stream",
     "text": [
      "{'default_proba': 0.7505951436322541}\n"
     ]
    }
   ],
   "execution_count": 281
  },
  {
   "metadata": {},
   "cell_type": "code",
   "outputs": [],
   "execution_count": null,
   "source": "",
   "id": "43da7eba380a51d3"
  }
 ],
 "metadata": {
  "kernelspec": {
   "display_name": "Python 3 (ipykernel)",
   "language": "python",
   "name": "python3"
  },
  "language_info": {
   "codemirror_mode": {
    "name": "ipython",
    "version": 3
   },
   "file_extension": ".py",
   "mimetype": "text/x-python",
   "name": "python",
   "nbconvert_exporter": "python",
   "pygments_lexer": "ipython3",
   "version": "3.11.5"
  }
 },
 "nbformat": 4,
 "nbformat_minor": 5
}
